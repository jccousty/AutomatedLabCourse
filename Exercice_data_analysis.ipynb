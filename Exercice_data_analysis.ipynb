{
  "cells": [
    {
      "cell_type": "markdown",
      "metadata": {
        "id": "view-in-github",
        "colab_type": "text"
      },
      "source": [
        "<a href=\"https://colab.research.google.com/github/jccousty/AutomatedLabCourse/blob/main/Exercice_data_analysis.ipynb\" target=\"_parent\"><img src=\"https://colab.research.google.com/assets/colab-badge.svg\" alt=\"Open In Colab\"/></a>"
      ]
    },
    {
      "cell_type": "markdown",
      "id": "ac91d1d1-624d-4def-8473-d1eeec1f1354",
      "metadata": {
        "id": "ac91d1d1-624d-4def-8473-d1eeec1f1354"
      },
      "source": [
        "## Requirements (!! depends on the OS you're using !! Here is an example for Windows) -- what you have done at home\n",
        "\n",
        "It includes an environment (better but not mandatory)"
      ]
    },
    {
      "cell_type": "markdown",
      "id": "36d2a8c1-8ae6-41cb-a882-fceaf3b26a36",
      "metadata": {
        "id": "36d2a8c1-8ae6-41cb-a882-fceaf3b26a36"
      },
      "source": [
        "Install python (preferrably the version 3)\n",
        "```\n",
        "Use this link : https://www.python.org/downloads/\n",
        "Add to Path (during installation)\n",
        "```\n",
        "Check pip (pip is a pac) install - if Python has been installed properly you should have a version.\n",
        "Use a terminal / cmd and type this :\n",
        "```\n",
        "pip --version\n",
        "```\n",
        "If it has not been installed properly (you don't have a version) :\n",
        "```\n",
        "Download and install from here : https://pip.pypa.io/en/stable/installation/\n",
        "```\n",
        "Create a folder where you want your project to be :\n",
        "```\n",
        "Either you create it directly from a Windows explorer\n",
        "OR\n",
        "Via the cmd type : mkdir C:\\pathtoyourproject\n",
        "(replace pathtoyourproject with the real path.)\n",
        "```\n",
        "Create and activate the environment (package manager are better solutions but we won't go into too much details in this course).\n",
        "An environment allows you to install packages and modules within it and not in the entire computer.\n",
        "Open a terminal inside and type this :\n",
        "```\n",
        "cd C:\\pathtoyourproject\n",
        "python -m venv venv\n",
        ".\\venv\\Scripts\\activate\n",
        "```\n",
        "Install jupyterLab or Notebook (pip install notebook)\n",
        "```\n",
        "pip install jupyterlab\n",
        "```\n",
        "Launch jupyterLab or Notebook (jupyter notebook)\n",
        "```\n",
        "jupyter lab\n",
        "```"
      ]
    },
    {
      "cell_type": "markdown",
      "id": "0624b60b-3fbb-4dd2-b67f-7c710507569a",
      "metadata": {
        "id": "0624b60b-3fbb-4dd2-b67f-7c710507569a"
      },
      "source": [
        "## Project specifications\n",
        "\n",
        "Open a terminal and activate your environment :\n",
        "```\n",
        "cd C:\\pathtoyourproject\n",
        ".\\venv\\Scripts\\activate\n",
        "```\n",
        "Then install all required packages :\n",
        "```\n",
        "pip install rdkit\n",
        "pip install pandas\n",
        "pip install numpy\n",
        "pip install matplotlib\n",
        "pip install seaborn\n",
        "\n",
        "```"
      ]
    },
    {
      "cell_type": "code",
      "source": [
        "!pip --version"
      ],
      "metadata": {
        "id": "pra2nRIe2SZu"
      },
      "id": "pra2nRIe2SZu",
      "execution_count": null,
      "outputs": []
    },
    {
      "cell_type": "markdown",
      "id": "9cdda8dc-9d64-4887-919e-64ecf73c5a17",
      "metadata": {
        "id": "9cdda8dc-9d64-4887-919e-64ecf73c5a17"
      },
      "source": [
        "#  PYTHON BASICS"
      ]
    },
    {
      "cell_type": "code",
      "execution_count": 1,
      "id": "c66b7f8b-e321-4b20-884b-44036c8b0040",
      "metadata": {
        "colab": {
          "base_uri": "https://localhost:8080/"
        },
        "id": "c66b7f8b-e321-4b20-884b-44036c8b0040",
        "outputId": "6381ca92-5356-4c12-b703-c5f31d66fd7c"
      },
      "outputs": [
        {
          "output_type": "stream",
          "name": "stdout",
          "text": [
            "hello world\n"
          ]
        }
      ],
      "source": [
        "# Display something, a text, a number, a list ...\n",
        "print(\"hello world\")"
      ]
    },
    {
      "cell_type": "code",
      "execution_count": 2,
      "id": "9cc8b8b3-cf8c-4695-9125-73d1293fe0f4",
      "metadata": {
        "id": "9cc8b8b3-cf8c-4695-9125-73d1293fe0f4"
      },
      "outputs": [],
      "source": [
        "# This is a comment"
      ]
    },
    {
      "cell_type": "code",
      "execution_count": 3,
      "id": "30b80447-b8a5-4930-8892-d11bb3131946",
      "metadata": {
        "colab": {
          "base_uri": "https://localhost:8080/"
        },
        "id": "30b80447-b8a5-4930-8892-d11bb3131946",
        "outputId": "893b1753-be60-46f2-8b7e-a6919f7e6bf4"
      },
      "outputs": [
        {
          "output_type": "stream",
          "name": "stdout",
          "text": [
            "22\n"
          ]
        }
      ],
      "source": [
        "i = 10\n",
        "j = 12\n",
        "k = i+j\n",
        "print(k)"
      ]
    },
    {
      "cell_type": "code",
      "execution_count": 4,
      "id": "32cd56a3-7ad3-4ca4-bde9-91efaac886cf",
      "metadata": {
        "id": "32cd56a3-7ad3-4ca4-bde9-91efaac886cf"
      },
      "outputs": [],
      "source": [
        "bool = True"
      ]
    },
    {
      "cell_type": "code",
      "execution_count": 5,
      "id": "fee9120d-a1d5-4057-bd03-8dc0dafaabc9",
      "metadata": {
        "colab": {
          "base_uri": "https://localhost:8080/"
        },
        "id": "fee9120d-a1d5-4057-bd03-8dc0dafaabc9",
        "outputId": "89b542ac-db3b-4372-f536-bfa8020ff143"
      },
      "outputs": [
        {
          "output_type": "stream",
          "name": "stdout",
          "text": [
            "['H2O', 'CH4', 'CBrClF2', 'CCl2F2', 'CCl3F', 'CCl3NO2', 'CCl4', 'CHCl3', 'CHClF2', 'CHCl2F', 'CHBr3', 'HCN', 'CHO2Li', 'CH2Cl2', 'CH2N2', 'CH2O']\n"
          ]
        }
      ],
      "source": [
        "molecules = [\"H2O\", \"CH4\", \"CBrClF2\", \"CCl2F2\", \"CCl3F\", \"CCl3NO2\", \"CCl4\", \"CHCl3\", \"CHClF2\", \"CHCl2F\", \"CHBr3\",\"HCN\", \"CHO2Li\",\"CH2Cl2\", \"CH2N2\",\"CH2O\"]\n",
        "print(molecules)"
      ]
    },
    {
      "cell_type": "code",
      "execution_count": 6,
      "id": "4770ecf1-cf74-4fcd-ae02-f420016b08b7",
      "metadata": {
        "colab": {
          "base_uri": "https://localhost:8080/"
        },
        "id": "4770ecf1-cf74-4fcd-ae02-f420016b08b7",
        "outputId": "f02228e4-1a7b-42ea-9098-024abc6aca26"
      },
      "outputs": [
        {
          "output_type": "execute_result",
          "data": {
            "text/plain": [
              "16"
            ]
          },
          "metadata": {},
          "execution_count": 6
        }
      ],
      "source": [
        "len(molecules)"
      ]
    },
    {
      "cell_type": "code",
      "execution_count": 7,
      "id": "6608e7e1-3b84-475b-8829-61103882660a",
      "metadata": {
        "colab": {
          "base_uri": "https://localhost:8080/"
        },
        "id": "6608e7e1-3b84-475b-8829-61103882660a",
        "outputId": "c2ae83da-54c2-477a-972d-a99f97839d8a"
      },
      "outputs": [
        {
          "output_type": "stream",
          "name": "stdout",
          "text": [
            "['H2O', 'CH4', 'CBrClF2', 'CCl2F2', 'CCl3F', 'CCl3NO2', 'CHCl3', 'CHClF2', 'CHCl2F', 'CHBr3', 'HCN', 'CHO2Li', 'CH2Cl2', 'CH2N2', 'CH2O']\n"
          ]
        }
      ],
      "source": [
        "molecules.remove(\"CCl4\")\n",
        "print(molecules)"
      ]
    },
    {
      "cell_type": "code",
      "execution_count": 8,
      "id": "af5ca2e1-ec83-474e-9390-8ad949e78a4f",
      "metadata": {
        "colab": {
          "base_uri": "https://localhost:8080/"
        },
        "id": "af5ca2e1-ec83-474e-9390-8ad949e78a4f",
        "outputId": "993dec7d-a435-4cfd-f106-76e427b77f13"
      },
      "outputs": [
        {
          "output_type": "execute_result",
          "data": {
            "text/plain": [
              "15"
            ]
          },
          "metadata": {},
          "execution_count": 8
        }
      ],
      "source": [
        "len(molecules)"
      ]
    },
    {
      "cell_type": "code",
      "execution_count": 9,
      "id": "cce5b473-7f63-4ea2-8b69-18988dee394b",
      "metadata": {
        "colab": {
          "base_uri": "https://localhost:8080/"
        },
        "id": "cce5b473-7f63-4ea2-8b69-18988dee394b",
        "outputId": "b4153633-f28b-4543-f685-3eb2b6dcda8e"
      },
      "outputs": [
        {
          "output_type": "stream",
          "name": "stdout",
          "text": [
            "['H2O', 'CH4', 'CBrClF2', 'CCl2F2', 'CCl3F', 'CCl3NO2', 'CHCl3', 'CHClF2', 'CHCl2F', 'CHBr3', 'HCN', 'CHO2Li', 'CH2Cl2', 'CH2N2', 'CH2O', 'CCl4']\n"
          ]
        }
      ],
      "source": [
        "molecules.append(\"CCl4\")\n",
        "print(molecules)"
      ]
    },
    {
      "cell_type": "markdown",
      "id": "37d01f39-3dc5-454c-a66c-5c48342a2e58",
      "metadata": {
        "id": "37d01f39-3dc5-454c-a66c-5c48342a2e58"
      },
      "source": [
        "# Loops and conditions"
      ]
    },
    {
      "cell_type": "code",
      "execution_count": 10,
      "id": "f5185090-d94d-47ff-9178-78ac9d54084b",
      "metadata": {
        "colab": {
          "base_uri": "https://localhost:8080/"
        },
        "id": "f5185090-d94d-47ff-9178-78ac9d54084b",
        "outputId": "e9882e1b-cd10-4cff-a09b-9c5ed87454de"
      },
      "outputs": [
        {
          "output_type": "stream",
          "name": "stdout",
          "text": [
            "H2O\n",
            "CH4\n",
            "CBrClF2\n",
            "CCl2F2\n",
            "CCl3F\n",
            "CCl3NO2\n",
            "CHCl3\n",
            "CHClF2\n",
            "CHCl2F\n",
            "CHBr3\n",
            "HCN\n",
            "CHO2Li\n",
            "CH2Cl2\n",
            "CH2N2\n",
            "CH2O\n",
            "CCl4\n"
          ]
        }
      ],
      "source": [
        "for molecule in molecules:\n",
        "    print(molecule)"
      ]
    },
    {
      "cell_type": "code",
      "execution_count": 11,
      "id": "2813d8a3-ea61-4456-83d0-4007ded11772",
      "metadata": {
        "colab": {
          "base_uri": "https://localhost:8080/"
        },
        "id": "2813d8a3-ea61-4456-83d0-4007ded11772",
        "outputId": "868d0e9c-ac4d-42cc-ed8e-2133ad242bc5"
      },
      "outputs": [
        {
          "output_type": "stream",
          "name": "stdout",
          "text": [
            "We have water here ...\n"
          ]
        }
      ],
      "source": [
        "if \"H2O\" in molecules :\n",
        "    print(\"We have water here ...\")\n",
        "else :\n",
        "    print(\"We don't have water here ...\")"
      ]
    },
    {
      "cell_type": "code",
      "execution_count": 12,
      "id": "b47b37aa-6c9f-4df2-b37f-067c434e3f36",
      "metadata": {
        "colab": {
          "base_uri": "https://localhost:8080/"
        },
        "id": "b47b37aa-6c9f-4df2-b37f-067c434e3f36",
        "outputId": "d6064df3-94e7-4b07-d32b-39fd043f88d6"
      },
      "outputs": [
        {
          "output_type": "stream",
          "name": "stdout",
          "text": [
            "We are going to drink water on Friday\n"
          ]
        }
      ],
      "source": [
        "dayOfTheWeek = \"Friday\"\n",
        "\n",
        "if \"H2O\" in molecules and dayOfTheWeek == \"Friday\":\n",
        "    print(\"We are going to drink water on Friday\")\n",
        "else:\n",
        "    print(\"We are not going to drink water on Friday\")"
      ]
    },
    {
      "cell_type": "code",
      "execution_count": 13,
      "id": "030a9283-caf8-45c7-bd66-1204c46343fe",
      "metadata": {
        "colab": {
          "base_uri": "https://localhost:8080/"
        },
        "id": "030a9283-caf8-45c7-bd66-1204c46343fe",
        "outputId": "7ad085d2-3550-4b30-b068-b9238d396ea8"
      },
      "outputs": [
        {
          "output_type": "stream",
          "name": "stdout",
          "text": [
            "4\n",
            "5\n",
            "6\n",
            "7\n",
            "8\n",
            "9\n",
            "10\n"
          ]
        }
      ],
      "source": [
        "capacite_maximale = 10\n",
        "capacite_actuelle = 3\n",
        "while capacite_actuelle < capacite_maximale:\n",
        "    capacite_actuelle += 1\n",
        "    print(capacite_actuelle)"
      ]
    },
    {
      "cell_type": "markdown",
      "id": "5880ef40-27a1-4a40-9ebb-c01af50a780c",
      "metadata": {
        "id": "5880ef40-27a1-4a40-9ebb-c01af50a780c"
      },
      "source": [
        "# Functions"
      ]
    },
    {
      "cell_type": "markdown",
      "id": "3c0f14ea-5cef-4e4b-8d8b-ec188413e71b",
      "metadata": {
        "id": "3c0f14ea-5cef-4e4b-8d8b-ec188413e71b"
      },
      "source": [
        "A function is a block of code with a specific purpose, to which you can give a name. When you call this function, you execute the code it contains. The functions allow you to enter parameters to execute the same code on different values."
      ]
    },
    {
      "cell_type": "code",
      "execution_count": 14,
      "id": "ab6246ed-e0ff-445e-a5cf-b2ac7365a28e",
      "metadata": {
        "id": "ab6246ed-e0ff-445e-a5cf-b2ac7365a28e"
      },
      "outputs": [],
      "source": [
        "# Information about an existing function\n",
        "print?"
      ]
    },
    {
      "cell_type": "code",
      "execution_count": 15,
      "id": "ec8e857c-a238-4f8f-b965-2b640f2d3153",
      "metadata": {
        "id": "ec8e857c-a238-4f8f-b965-2b640f2d3153"
      },
      "outputs": [],
      "source": [
        "# A new function is defined here\n",
        "def isThereWaterInMyList(moleculesList):\n",
        "    return(\"H2O\" in moleculesList)"
      ]
    },
    {
      "cell_type": "code",
      "execution_count": 16,
      "id": "0d59e251-0445-4c0a-b0cc-9555a556553f",
      "metadata": {
        "colab": {
          "base_uri": "https://localhost:8080/"
        },
        "id": "0d59e251-0445-4c0a-b0cc-9555a556553f",
        "outputId": "2fea2715-2b91-4117-e46e-d5ad0b707dda"
      },
      "outputs": [
        {
          "output_type": "execute_result",
          "data": {
            "text/plain": [
              "True"
            ]
          },
          "metadata": {},
          "execution_count": 16
        }
      ],
      "source": [
        "#Use of this function\n",
        "isThereWaterInMyList(molecules)"
      ]
    },
    {
      "cell_type": "markdown",
      "id": "8ecf1c0b-8d5e-4fb1-9839-302512547975",
      "metadata": {
        "id": "8ecf1c0b-8d5e-4fb1-9839-302512547975"
      },
      "source": [
        "Exercice : Can you remove H20 from the list and check if the list contains H20 (using the function isThereWaterInMyList)"
      ]
    },
    {
      "cell_type": "code",
      "execution_count": 16,
      "id": "d2c57865-e56d-461b-9165-0622256c7bf0",
      "metadata": {
        "id": "d2c57865-e56d-461b-9165-0622256c7bf0"
      },
      "outputs": [],
      "source": []
    },
    {
      "cell_type": "markdown",
      "id": "7b8e02af-6c47-4b8f-a2b5-a50f4549d1b3",
      "metadata": {
        "id": "7b8e02af-6c47-4b8f-a2b5-a50f4549d1b3"
      },
      "source": [
        "Exercice : Can you then add H20 in the list (using the append function) and check if the list contains H20 (using the function isThereWaterInMyList)"
      ]
    },
    {
      "cell_type": "code",
      "execution_count": 16,
      "id": "208393f0-5d0d-45e5-89ce-21440065c898",
      "metadata": {
        "id": "208393f0-5d0d-45e5-89ce-21440065c898"
      },
      "outputs": [],
      "source": []
    },
    {
      "cell_type": "markdown",
      "id": "beb117c8-2cdf-4903-b1a6-f499d639c42e",
      "metadata": {
        "id": "beb117c8-2cdf-4903-b1a6-f499d639c42e"
      },
      "source": [
        "Document your functions !"
      ]
    },
    {
      "cell_type": "code",
      "execution_count": 17,
      "id": "5261b1b2-45e1-413b-98f1-095603d1a903",
      "metadata": {
        "id": "5261b1b2-45e1-413b-98f1-095603d1a903"
      },
      "outputs": [],
      "source": [
        "def somme(a, b):\n",
        "    \"\"\"\n",
        "    This fonction calculates the sum of two numbers and returns the result.\n",
        "\n",
        "    Parameters:\n",
        "    a (int): first number\n",
        "    b (int): second number\n",
        "\n",
        "    Returns:\n",
        "    int: sum of a and b\n",
        "    \"\"\"\n",
        "    return a + b"
      ]
    },
    {
      "cell_type": "markdown",
      "id": "dbd6c815-dc35-46b1-b6d6-fcd236ad5251",
      "metadata": {
        "id": "dbd6c815-dc35-46b1-b6d6-fcd236ad5251"
      },
      "source": [
        "# Dictionaries"
      ]
    },
    {
      "cell_type": "code",
      "execution_count": 18,
      "id": "3ddbb06d-210b-4949-ad16-995d9e420832",
      "metadata": {
        "colab": {
          "base_uri": "https://localhost:8080/"
        },
        "id": "3ddbb06d-210b-4949-ad16-995d9e420832",
        "outputId": "35f5df08-df15-4e89-847d-ab76d692e323"
      },
      "outputs": [
        {
          "output_type": "stream",
          "name": "stdout",
          "text": [
            "{'molecularFormula': 'H2O', 'molecularWeight': '19'}\n"
          ]
        }
      ],
      "source": [
        "water = {\n",
        "\"molecularFormula\": \"H2O\",\n",
        "\"molecularWeight\": \"19\"\n",
        "}\n",
        "print(water)"
      ]
    },
    {
      "cell_type": "code",
      "execution_count": 19,
      "id": "4a8c8555-1e61-4078-82b5-961aec8c9a74",
      "metadata": {
        "colab": {
          "base_uri": "https://localhost:8080/"
        },
        "id": "4a8c8555-1e61-4078-82b5-961aec8c9a74",
        "outputId": "79368d62-2c95-45d8-f780-47e70ad41248"
      },
      "outputs": [
        {
          "output_type": "execute_result",
          "data": {
            "text/plain": [
              "{'molecularFormula': 'H2O',\n",
              " 'molecularWeight': '19',\n",
              " 'MolecularWeightUnit': 'g/mol'}"
            ]
          },
          "metadata": {},
          "execution_count": 19
        }
      ],
      "source": [
        "water[\"MolecularWeightUnit\"] = \"g/mol\"\n",
        "water"
      ]
    },
    {
      "cell_type": "code",
      "execution_count": 20,
      "id": "54e77240-556e-42af-9f15-b305346ddd88",
      "metadata": {
        "id": "54e77240-556e-42af-9f15-b305346ddd88"
      },
      "outputs": [],
      "source": [
        "ethanol = {\n",
        "\"molecularFormula\": \"C2H5OH\",\n",
        "\"molecularWeight\": \"46.068\"\n",
        "}\n",
        "newmolecules = {}\n",
        "newmolecules[\"water\"] = water\n",
        "newmolecules[\"ethanol\"] = ethanol"
      ]
    },
    {
      "cell_type": "code",
      "execution_count": 21,
      "id": "549e44ff-93e9-439b-9c7e-e4e85207ed61",
      "metadata": {
        "id": "549e44ff-93e9-439b-9c7e-e4e85207ed61"
      },
      "outputs": [],
      "source": [
        "dmso = {\n",
        "\"molecularFormula\": \"C2H6OS\",\n",
        "\"molecularWeight\": \"78.13\"\n",
        "}\n",
        "newmolecules[\"dmso\"] = dmso"
      ]
    },
    {
      "cell_type": "code",
      "execution_count": 22,
      "id": "6c8d0728-2cfe-494f-b649-3ed1745bfc23",
      "metadata": {
        "colab": {
          "base_uri": "https://localhost:8080/"
        },
        "id": "6c8d0728-2cfe-494f-b649-3ed1745bfc23",
        "outputId": "0141d95f-ff94-48ee-a5c4-3405e8183768"
      },
      "outputs": [
        {
          "output_type": "execute_result",
          "data": {
            "text/plain": [
              "{'water': {'molecularFormula': 'H2O',\n",
              "  'molecularWeight': '19',\n",
              "  'MolecularWeightUnit': 'g/mol'},\n",
              " 'ethanol': {'molecularFormula': 'C2H5OH', 'molecularWeight': '46.068'},\n",
              " 'dmso': {'molecularFormula': 'C2H6OS', 'molecularWeight': '78.13'}}"
            ]
          },
          "metadata": {},
          "execution_count": 22
        }
      ],
      "source": [
        "newmolecules"
      ]
    },
    {
      "cell_type": "code",
      "execution_count": 23,
      "id": "d0f80e74-ff95-4085-852a-df0349f76016",
      "metadata": {
        "colab": {
          "base_uri": "https://localhost:8080/"
        },
        "id": "d0f80e74-ff95-4085-852a-df0349f76016",
        "outputId": "9ea9eb2f-eb93-4484-fa38-90d6d7cd1828"
      },
      "outputs": [
        {
          "output_type": "execute_result",
          "data": {
            "text/plain": [
              "{'molecularFormula': 'C2H5OH', 'molecularWeight': '46.068'}"
            ]
          },
          "metadata": {},
          "execution_count": 23
        }
      ],
      "source": [
        "newmolecules[\"ethanol\"]"
      ]
    },
    {
      "cell_type": "code",
      "execution_count": 24,
      "id": "ce1408f5-37ed-4ca8-b61b-fb627983250b",
      "metadata": {
        "id": "ce1408f5-37ed-4ca8-b61b-fb627983250b"
      },
      "outputs": [],
      "source": [
        "newmolecules[\"dmso\"][\"MolecularWeightUnit\"] = \"g/mol\""
      ]
    },
    {
      "cell_type": "code",
      "execution_count": 25,
      "id": "e41751f0-f6ae-4b28-97c5-a9415f1e4640",
      "metadata": {
        "colab": {
          "base_uri": "https://localhost:8080/"
        },
        "id": "e41751f0-f6ae-4b28-97c5-a9415f1e4640",
        "outputId": "8d6cc385-b0c4-423a-c01c-0e28c03cad7a"
      },
      "outputs": [
        {
          "output_type": "execute_result",
          "data": {
            "text/plain": [
              "{'water': {'molecularFormula': 'H2O',\n",
              "  'molecularWeight': '19',\n",
              "  'MolecularWeightUnit': 'g/mol'},\n",
              " 'ethanol': {'molecularFormula': 'C2H5OH', 'molecularWeight': '46.068'},\n",
              " 'dmso': {'molecularFormula': 'C2H6OS',\n",
              "  'molecularWeight': '78.13',\n",
              "  'MolecularWeightUnit': 'g/mol'}}"
            ]
          },
          "metadata": {},
          "execution_count": 25
        }
      ],
      "source": [
        "newmolecules"
      ]
    },
    {
      "cell_type": "code",
      "execution_count": 26,
      "id": "2b931a3b-6d6a-4e8f-aa73-7d50dc2cf4c4",
      "metadata": {
        "colab": {
          "base_uri": "https://localhost:8080/"
        },
        "id": "2b931a3b-6d6a-4e8f-aa73-7d50dc2cf4c4",
        "outputId": "c191c981-4ae3-4ced-86a6-3a3183603047"
      },
      "outputs": [
        {
          "output_type": "execute_result",
          "data": {
            "text/plain": [
              "{'water': {'molecularFormula': 'H2O',\n",
              "  'molecularWeight': '19',\n",
              "  'MolecularWeightUnit': 'g/mol'},\n",
              " 'ethanol': {'molecularFormula': 'C2H5OH', 'molecularWeight': '46.068'},\n",
              " 'dmso': {'molecularFormula': 'C2H6OS',\n",
              "  'molecularWeight': '78.13',\n",
              "  'MolecularWeightUnit': 'mg/mol'}}"
            ]
          },
          "metadata": {},
          "execution_count": 26
        }
      ],
      "source": [
        "newmolecules[\"dmso\"][\"MolecularWeightUnit\"] = \"mg/mol\"\n",
        "newmolecules"
      ]
    },
    {
      "cell_type": "markdown",
      "id": "f1c8b15e-50d1-4bc0-9a52-4e9d4e49729f",
      "metadata": {
        "id": "f1c8b15e-50d1-4bc0-9a52-4e9d4e49729f"
      },
      "source": [
        "Exercice : Can you change the MolecularWeightUnit of the dmso to g/mol"
      ]
    },
    {
      "cell_type": "code",
      "execution_count": 26,
      "id": "0daf1e4a-90dc-4b9d-988a-270fa502abd5",
      "metadata": {
        "id": "0daf1e4a-90dc-4b9d-988a-270fa502abd5"
      },
      "outputs": [],
      "source": []
    },
    {
      "cell_type": "markdown",
      "id": "63f70440-37ab-4752-8663-43ac39796411",
      "metadata": {
        "id": "63f70440-37ab-4752-8663-43ac39796411"
      },
      "source": [
        "Exercice : Can you change the MolecularWeight of water to 18.01528 and print newmolecules"
      ]
    },
    {
      "cell_type": "code",
      "execution_count": 26,
      "id": "5d0d9f64-bd18-4cb0-8ecb-0662a208a263",
      "metadata": {
        "id": "5d0d9f64-bd18-4cb0-8ecb-0662a208a263"
      },
      "outputs": [],
      "source": []
    },
    {
      "cell_type": "markdown",
      "id": "6b2dd0ef-76ff-498f-860c-d9e6cce1c453",
      "metadata": {
        "id": "6b2dd0ef-76ff-498f-860c-d9e6cce1c453"
      },
      "source": [
        "# MORE ADVANCED EXAMPLE (using RDKIT)"
      ]
    },
    {
      "cell_type": "markdown",
      "id": "b3c15af6-3f8b-4ea6-a11b-502a7e35f040",
      "metadata": {
        "id": "b3c15af6-3f8b-4ea6-a11b-502a7e35f040"
      },
      "source": [
        "Importing librairies for the functions to be used.\n",
        "A library (or module or package) is a collection of pre-written code or functions that can be used to perform specific tasks or functions."
      ]
    },
    {
      "cell_type": "markdown",
      "id": "f865e898-8c83-4695-ae84-b33e6b3c1c9c",
      "metadata": {
        "id": "f865e898-8c83-4695-ae84-b33e6b3c1c9c"
      },
      "source": [
        "To use a library to be used, you must first install it in your environment :\n",
        "```\n",
        "pip install library\n",
        "```"
      ]
    },
    {
      "cell_type": "code",
      "source": [
        "!pip install rdkit\n",
        "!pip install pandas\n",
        "!pip install matplotlib\n",
        "!pip install numpy"
      ],
      "metadata": {
        "colab": {
          "base_uri": "https://localhost:8080/"
        },
        "id": "3XxMZ6Pm2FCJ",
        "outputId": "84821c6f-3648-4bfa-d2ed-4adf8383a1b9"
      },
      "id": "3XxMZ6Pm2FCJ",
      "execution_count": null,
      "outputs": [
        {
          "output_type": "stream",
          "name": "stdout",
          "text": [
            "Collecting rdkit\n",
            "  Downloading rdkit-2024.3.5-cp310-cp310-manylinux_2_28_x86_64.whl.metadata (3.9 kB)\n",
            "Requirement already satisfied: numpy in /usr/local/lib/python3.10/dist-packages (from rdkit) (1.26.4)\n",
            "Requirement already satisfied: Pillow in /usr/local/lib/python3.10/dist-packages (from rdkit) (10.4.0)\n",
            "Downloading rdkit-2024.3.5-cp310-cp310-manylinux_2_28_x86_64.whl (33.1 MB)\n",
            "\u001b[2K   \u001b[90m━━━━━━━━━━━━━━━━━━━━━━━━━━━━━━━━━━━━━━━━\u001b[0m \u001b[32m33.1/33.1 MB\u001b[0m \u001b[31m36.3 MB/s\u001b[0m eta \u001b[36m0:00:00\u001b[0m\n",
            "\u001b[?25hInstalling collected packages: rdkit\n",
            "Successfully installed rdkit-2024.3.5\n",
            "Requirement already satisfied: pandas in /usr/local/lib/python3.10/dist-packages (2.2.2)\n",
            "Requirement already satisfied: numpy>=1.22.4 in /usr/local/lib/python3.10/dist-packages (from pandas) (1.26.4)\n",
            "Requirement already satisfied: python-dateutil>=2.8.2 in /usr/local/lib/python3.10/dist-packages (from pandas) (2.8.2)\n",
            "Requirement already satisfied: pytz>=2020.1 in /usr/local/lib/python3.10/dist-packages (from pandas) (2024.2)\n",
            "Requirement already satisfied: tzdata>=2022.7 in /usr/local/lib/python3.10/dist-packages (from pandas) (2024.2)\n",
            "Requirement already satisfied: six>=1.5 in /usr/local/lib/python3.10/dist-packages (from python-dateutil>=2.8.2->pandas) (1.16.0)\n",
            "Collecting np\n",
            "  Downloading np-1.0.2.tar.gz (7.4 kB)\n",
            "  Preparing metadata (setup.py) ... \u001b[?25l\u001b[?25hdone\n",
            "Building wheels for collected packages: np\n",
            "  Building wheel for np (setup.py) ... \u001b[?25l\u001b[?25hdone\n",
            "  Created wheel for np: filename=np-1.0.2-py3-none-any.whl size=13658 sha256=a80b8670dffa5cb65aef1bf141e40b39cae624a144fd4aaa5005653e8141d62f\n",
            "  Stored in directory: /root/.cache/pip/wheels/f9/e1/79/c4580a03022dece233bc146286fc9082a8885ee1a7c8d8b980\n",
            "Successfully built np\n",
            "Installing collected packages: np\n",
            "Successfully installed np-1.0.2\n"
          ]
        }
      ]
    },
    {
      "cell_type": "markdown",
      "id": "56322f61-d4b6-498e-b22b-3933210a318a",
      "metadata": {
        "id": "56322f61-d4b6-498e-b22b-3933210a318a"
      },
      "source": [
        "Here we already did that with the pip install -r requirements.txt"
      ]
    },
    {
      "cell_type": "code",
      "execution_count": 27,
      "id": "740edb8a-51f0-40ad-94d9-f0df0ce2438b",
      "metadata": {
        "colab": {
          "base_uri": "https://localhost:8080/",
          "height": 383
        },
        "id": "740edb8a-51f0-40ad-94d9-f0df0ce2438b",
        "outputId": "e29bf19c-3c39-4863-c1b4-371953d6ca6f"
      },
      "outputs": [
        {
          "output_type": "error",
          "ename": "ModuleNotFoundError",
          "evalue": "No module named 'rdkit'",
          "traceback": [
            "\u001b[0;31m---------------------------------------------------------------------------\u001b[0m",
            "\u001b[0;31mModuleNotFoundError\u001b[0m                       Traceback (most recent call last)",
            "\u001b[0;32m<ipython-input-27-65af21fba1d3>\u001b[0m in \u001b[0;36m<cell line: 2>\u001b[0;34m()\u001b[0m\n\u001b[1;32m      1\u001b[0m \u001b[0;31m# Import the RDKit library, collection of cheminformatics and molecular modeling tools.\u001b[0m\u001b[0;34m\u001b[0m\u001b[0;34m\u001b[0m\u001b[0m\n\u001b[0;32m----> 2\u001b[0;31m \u001b[0;32mfrom\u001b[0m \u001b[0mrdkit\u001b[0m \u001b[0;32mimport\u001b[0m \u001b[0mChem\u001b[0m\u001b[0;34m\u001b[0m\u001b[0;34m\u001b[0m\u001b[0m\n\u001b[0m\u001b[1;32m      3\u001b[0m \u001b[0;34m\u001b[0m\u001b[0m\n\u001b[1;32m      4\u001b[0m \u001b[0;31m# Import the Draw module from RDKit, used for molecular structure visualization.\u001b[0m\u001b[0;34m\u001b[0m\u001b[0;34m\u001b[0m\u001b[0m\n\u001b[1;32m      5\u001b[0m \u001b[0;32mfrom\u001b[0m \u001b[0mrdkit\u001b[0m\u001b[0;34m.\u001b[0m\u001b[0mChem\u001b[0m \u001b[0;32mimport\u001b[0m \u001b[0mDraw\u001b[0m\u001b[0;34m\u001b[0m\u001b[0;34m\u001b[0m\u001b[0m\n",
            "\u001b[0;31mModuleNotFoundError\u001b[0m: No module named 'rdkit'",
            "",
            "\u001b[0;31m---------------------------------------------------------------------------\u001b[0;32m\nNOTE: If your import is failing due to a missing package, you can\nmanually install dependencies using either !pip or !apt.\n\nTo view examples of installing some common dependencies, click the\n\"Open Examples\" button below.\n\u001b[0;31m---------------------------------------------------------------------------\u001b[0m\n"
          ],
          "errorDetails": {
            "actions": [
              {
                "action": "open_url",
                "actionText": "Open Examples",
                "url": "/notebooks/snippets/importing_libraries.ipynb"
              }
            ]
          }
        }
      ],
      "source": [
        "# Import the RDKit library, collection of cheminformatics and molecular modeling tools.\n",
        "from rdkit import Chem\n",
        "\n",
        "# Import the Draw module from RDKit, used for molecular structure visualization.\n",
        "from rdkit.Chem import Draw\n",
        "\n",
        "# Import the IPythonConsole module from RDKit, allowing compatibility with IPython environments like Jupyter Notebook.\n",
        "from rdkit.Chem.Draw import IPythonConsole\n",
        "import rdkit\n",
        "\n",
        "# Print the version of the RDKit library that is installed.\n",
        "print(rdkit.__version__)\n",
        "\n",
        "# Import the pandas library, commonly used for data manipulation and analysis.\n",
        "import pandas as pd\n",
        "\n",
        "# Import the numpy library, provides support for numerical and array operations.\n",
        "import numpy as np\n",
        "\n",
        "# Import the pyplot module from the matplotlib library, used for creating visualizations, including plots.\n",
        "from matplotlib import pyplot as plt\n",
        "\n",
        "# Activate inline plotting for Jupyter Notebook or JupyterLab.\n",
        "%matplotlib inline\n",
        "\n",
        "# Set the style for the Matplotlib plots. 'tableau-colorblind10' is one of the available styles.\n",
        "plt.style.use('tableau-colorblind10')\n",
        "\n",
        "# Import the seaborn library, which is a data visualization library based on Matplotlib.\n",
        "import seaborn as sns\n",
        "\n",
        "# Import the gzip library, which is used for working with compressed files (gzip compression).\n",
        "import gzip\n",
        "\n",
        "from rdkit.Chem import PandasTools\n"
      ]
    },
    {
      "cell_type": "markdown",
      "id": "0b4a7e6b-6fc4-4add-8c77-f29c54e19a7f",
      "metadata": {
        "id": "0b4a7e6b-6fc4-4add-8c77-f29c54e19a7f"
      },
      "source": [
        "Draw a molecule from the smiles"
      ]
    },
    {
      "cell_type": "code",
      "execution_count": null,
      "id": "338f3af4-59d5-42df-bbdd-2533478f3e00",
      "metadata": {
        "id": "338f3af4-59d5-42df-bbdd-2533478f3e00"
      },
      "outputs": [],
      "source": [
        "m = Chem.MolFromSmiles('Oc1ccc(cc1O)[C@@H](O)CNC')\n",
        "m"
      ]
    },
    {
      "cell_type": "markdown",
      "id": "b647a61f-79c1-470c-9c89-d39c0f88cc05",
      "metadata": {
        "id": "b647a61f-79c1-470c-9c89-d39c0f88cc05"
      },
      "source": [
        "Get properties of a molecule"
      ]
    },
    {
      "cell_type": "code",
      "execution_count": null,
      "id": "690bd937-b2ac-41a8-8b50-4ea5150ddce4",
      "metadata": {
        "id": "690bd937-b2ac-41a8-8b50-4ea5150ddce4"
      },
      "outputs": [],
      "source": [
        "m.GetNumAtoms()"
      ]
    },
    {
      "cell_type": "markdown",
      "id": "6ac4c817-e9d5-426a-8e79-e3d5b83e727b",
      "metadata": {
        "id": "6ac4c817-e9d5-426a-8e79-e3d5b83e727b"
      },
      "source": [
        " # Use of a DATABASE"
      ]
    },
    {
      "cell_type": "markdown",
      "id": "9d6cab51-bf86-4faf-aef9-52c9124c925e",
      "metadata": {
        "id": "9d6cab51-bf86-4faf-aef9-52c9124c925e"
      },
      "source": [
        "This database was downloaded. You can also access data via public APIs for instance.\n",
        "You can have databases on other forms."
      ]
    },
    {
      "cell_type": "code",
      "execution_count": null,
      "id": "4b331223-95b8-43fb-bb72-aa99f3464140",
      "metadata": {
        "id": "4b331223-95b8-43fb-bb72-aa99f3464140"
      },
      "outputs": [],
      "source": [
        "# Open a GZipped file using the 'gzip' library. The 'gzip.open' function is used to read the file.\n",
        "# The 'rt' mode indicates that the file should be opened in text mode.\n",
        "inf = gzip.open('./target_CHEMBL205.csv.gz', 'rt')\n",
        "\n",
        "# Read all lines from the GZipped file and store them in a list\n",
        "data = inf.readlines()\n",
        "\n",
        "# Display the first 10 lines of the 'data' list\n",
        "data[:10]\n"
      ]
    },
    {
      "cell_type": "code",
      "execution_count": null,
      "id": "fac0ca86-e2a0-4352-81db-8e5a80e65f77",
      "metadata": {
        "id": "fac0ca86-e2a0-4352-81db-8e5a80e65f77"
      },
      "outputs": [],
      "source": [
        "# Create a new list named 'splitData' using a list comprehension.\n",
        "# The list comprehension iterates through each element 'x' in the 'data' list.\n",
        "# example :\n",
        "# numbers = [1, 2, 3, 4, 5]\n",
        "# squared_numbers = [x**2 for x in numbers]\n",
        "# gives \"[1, 4, 9, 16, 25]\"\n",
        "\n",
        "splitData = [x.split(',') for x in data]\n",
        "\n",
        "# Display the first three elements of the 'splitData'\n",
        "splitData[:3]"
      ]
    },
    {
      "cell_type": "code",
      "execution_count": null,
      "id": "b35476d4-43ad-419b-8471-a3460e45d202",
      "metadata": {
        "id": "b35476d4-43ad-419b-8471-a3460e45d202"
      },
      "outputs": [],
      "source": [
        "# Pop method removes the first item of the list. In our case, it is the column names\n",
        "splitData.pop(0)"
      ]
    },
    {
      "cell_type": "code",
      "execution_count": null,
      "id": "8aa589f0-9e7a-43cb-b334-149cb49fe86d",
      "metadata": {
        "id": "8aa589f0-9e7a-43cb-b334-149cb49fe86d"
      },
      "outputs": [],
      "source": [
        "#We create a list of molecules with their graphical representation\n",
        "mols = [Chem.MolFromSmiles(x[1]) for x in splitData]"
      ]
    },
    {
      "cell_type": "code",
      "execution_count": null,
      "id": "5b915776-95c4-41b6-990f-5143e4810cbf",
      "metadata": {
        "id": "5b915776-95c4-41b6-990f-5143e4810cbf"
      },
      "outputs": [],
      "source": [
        "mols[0]"
      ]
    },
    {
      "cell_type": "code",
      "execution_count": null,
      "id": "7165cacf-c9d2-4ea0-a2ed-833db25e6231",
      "metadata": {
        "id": "7165cacf-c9d2-4ea0-a2ed-833db25e6231"
      },
      "outputs": [],
      "source": [
        "Draw.MolsToGridImage(mols[:12],molsPerRow=4)"
      ]
    },
    {
      "cell_type": "markdown",
      "id": "7dbebaa7-22e7-4afe-a300-21671e3f0853",
      "metadata": {
        "id": "7dbebaa7-22e7-4afe-a300-21671e3f0853"
      },
      "source": [
        "Exercice: Create an image of the elements from 10 to 16, with 3 elements per row"
      ]
    },
    {
      "cell_type": "code",
      "execution_count": null,
      "id": "c3171f6a-7d5f-4179-8ee1-4c1aa28824c4",
      "metadata": {
        "id": "c3171f6a-7d5f-4179-8ee1-4c1aa28824c4"
      },
      "outputs": [],
      "source": []
    },
    {
      "cell_type": "code",
      "execution_count": null,
      "id": "13c3e2e6-6c90-4c1b-9531-e6098160e3ae",
      "metadata": {
        "id": "13c3e2e6-6c90-4c1b-9531-e6098160e3ae"
      },
      "outputs": [],
      "source": [
        "#we create a list of molecules with their information\n",
        "inf =  gzip.open('./target_CHEMBL205.csv.gz')\n",
        "suppl = Chem.SmilesMolSupplier()\n",
        "suppl.SetData(inf.read(),delimiter=',',smilesColumn=1,nameColumn=0)\n",
        "\n",
        "mols = [mol for mol in suppl if mol is not None]"
      ]
    },
    {
      "cell_type": "markdown",
      "id": "650c41df-aa12-44d1-9ff9-4bcc2c010a1c",
      "metadata": {
        "id": "650c41df-aa12-44d1-9ff9-4bcc2c010a1c"
      },
      "source": [
        "Exercice : Can you check the length of the mols list and print the 10th value of the list"
      ]
    },
    {
      "cell_type": "code",
      "execution_count": null,
      "id": "8a4a98e3-d004-4264-878e-59eaaca2ee00",
      "metadata": {
        "id": "8a4a98e3-d004-4264-878e-59eaaca2ee00"
      },
      "outputs": [],
      "source": []
    },
    {
      "cell_type": "code",
      "execution_count": null,
      "id": "f0dc3edc-635b-4d4a-a0b2-6f39bf63b191",
      "metadata": {
        "id": "f0dc3edc-635b-4d4a-a0b2-6f39bf63b191"
      },
      "outputs": [],
      "source": []
    },
    {
      "cell_type": "code",
      "execution_count": null,
      "id": "dfd932cd-2abb-48bb-a6ba-6c2bc37293b9",
      "metadata": {
        "id": "dfd932cd-2abb-48bb-a6ba-6c2bc37293b9"
      },
      "outputs": [],
      "source": [
        "#We can get the properties as a dictionnary\n",
        "mols[10].GetPropsAsDict()"
      ]
    },
    {
      "cell_type": "markdown",
      "id": "7f402b2c-2161-4ef7-876d-96d026e519d2",
      "metadata": {
        "id": "7f402b2c-2161-4ef7-876d-96d026e519d2"
      },
      "source": [
        "# Table shape"
      ]
    },
    {
      "cell_type": "code",
      "execution_count": null,
      "id": "3460e1e7-4787-4592-9265-63ed42b2942e",
      "metadata": {
        "id": "3460e1e7-4787-4592-9265-63ed42b2942e"
      },
      "outputs": [],
      "source": [
        "#We put the data in a dataframe (it is a table)\n",
        "df = pd.read_csv('./target_CHEMBL205.csv.gz')\n",
        "df.head() #shows the first 5 rows of the df\n",
        "\n",
        "# The pChEMBL value is currently defined as follows: −log10 (molar IC50, XC50, EC50, AC50, Ki, Kd or Potency).\n",
        "# The field standard_value holds standardized (here IC50) values"
      ]
    },
    {
      "cell_type": "code",
      "execution_count": null,
      "id": "ec6b613f-8c08-4e24-a6ea-a17fa8667c4a",
      "metadata": {
        "id": "ec6b613f-8c08-4e24-a6ea-a17fa8667c4a"
      },
      "outputs": [],
      "source": [
        "#We add the visual representation in a column of the dataframe\n",
        "PandasTools.AddMoleculeColumnToFrame(df,'canonical_smiles')\n",
        "PandasTools.RenderImagesInAllDataFrames(True)\n",
        "df.head()"
      ]
    },
    {
      "cell_type": "code",
      "execution_count": null,
      "id": "75dbc3ed-94e0-4cbc-92c3-6ef5e8611866",
      "metadata": {
        "id": "75dbc3ed-94e0-4cbc-92c3-6ef5e8611866"
      },
      "outputs": [],
      "source": [
        "#Get the max value to do a beautiful histogram\n",
        "max_value = df.standard_value.max()\n",
        "max_value"
      ]
    },
    {
      "cell_type": "code",
      "execution_count": null,
      "id": "dc9c52ce-8228-40dc-a901-f95581462fb9",
      "metadata": {
        "id": "dc9c52ce-8228-40dc-a901-f95581462fb9"
      },
      "outputs": [],
      "source": [
        "# Specifying the boundaries of each bin\n",
        "data = df.standard_value\n",
        "bins = np.arange(0, 100000, 5000)\n",
        "\n",
        "plt.hist(data, bins=bins, color='skyblue', edgecolor='black', alpha=0.7)\n",
        "plt.xlabel('Standard Values')\n",
        "plt.ylabel('Frequency')\n",
        "plt.title('Histogram of Standard Values')\n",
        "plt.grid(axis='y', linestyle='--', alpha=0.6)\n",
        "plt.figure(figsize=(9, 7))\n",
        "\n",
        "plt.show()"
      ]
    },
    {
      "cell_type": "markdown",
      "id": "79c873a4-b733-4fad-a434-43cf5e2cd48e",
      "metadata": {
        "id": "79c873a4-b733-4fad-a434-43cf5e2cd48e"
      },
      "source": [
        "Exercice : Plot the diagram with bins from 0 to 15000 and a step of 1000"
      ]
    },
    {
      "cell_type": "code",
      "execution_count": null,
      "id": "f1810491-79e1-42fb-87da-a22947baf1fe",
      "metadata": {
        "id": "f1810491-79e1-42fb-87da-a22947baf1fe"
      },
      "outputs": [],
      "source": []
    },
    {
      "cell_type": "markdown",
      "id": "42ee8765-4574-44c1-a4ca-7b4f11141c06",
      "metadata": {
        "id": "42ee8765-4574-44c1-a4ca-7b4f11141c06"
      },
      "source": [
        "Exercice : Plot the diagram with bins from 0 to 15 and a step of 1 for the pchembl_value. Adjust the title, x and y labels."
      ]
    },
    {
      "cell_type": "code",
      "execution_count": null,
      "id": "0afaae15-d9d8-4a11-8c8b-aa1e0005451c",
      "metadata": {
        "id": "0afaae15-d9d8-4a11-8c8b-aa1e0005451c"
      },
      "outputs": [],
      "source": []
    },
    {
      "cell_type": "markdown",
      "id": "6b9803b4-3173-46d9-900a-b47fface78d9",
      "metadata": {
        "id": "6b9803b4-3173-46d9-900a-b47fface78d9"
      },
      "source": [
        "# Working with data (calc properties of molecules)"
      ]
    },
    {
      "cell_type": "code",
      "execution_count": null,
      "id": "b56f2904-fe5f-4239-800f-6d31f45043f9",
      "metadata": {
        "id": "b56f2904-fe5f-4239-800f-6d31f45043f9"
      },
      "outputs": [],
      "source": [
        "from rdkit.Chem.rdMolDescriptors import CalcMolFormula\n",
        "from rdkit.Chem.Descriptors import ExactMolWt\n",
        "from rdkit.Chem.Descriptors import MolWt\n",
        "from rdkit.Chem.Descriptors import MolLogP\n",
        "# example\n",
        "mol = Chem.MolFromSmiles(\"C([C@@H](C(=O)O)N)S\")\n",
        "formula = CalcMolFormula(mol)"
      ]
    },
    {
      "cell_type": "code",
      "execution_count": null,
      "id": "3b0e280c-72f4-47a9-8b4d-d7498ca5862f",
      "metadata": {
        "id": "3b0e280c-72f4-47a9-8b4d-d7498ca5862f"
      },
      "outputs": [],
      "source": [
        "formula"
      ]
    },
    {
      "cell_type": "code",
      "execution_count": null,
      "id": "3b4c4b3b-5fd4-4a8c-a9f5-43d0efa0ded3",
      "metadata": {
        "id": "3b4c4b3b-5fd4-4a8c-a9f5-43d0efa0ded3"
      },
      "outputs": [],
      "source": [
        "mol_weight = MolWt(mol)\n",
        "mol_weight"
      ]
    },
    {
      "cell_type": "code",
      "execution_count": null,
      "id": "48da3903-2367-409d-ad14-031f059116fa",
      "metadata": {
        "id": "48da3903-2367-409d-ad14-031f059116fa"
      },
      "outputs": [],
      "source": [
        "logp = MolLogP(mol)\n",
        "logp"
      ]
    },
    {
      "cell_type": "code",
      "execution_count": null,
      "id": "d6927b08-d2d2-4ec1-9a12-78540b1a7560",
      "metadata": {
        "id": "d6927b08-d2d2-4ec1-9a12-78540b1a7560"
      },
      "outputs": [],
      "source": [
        "# Create the new column 'mol_weight' based on 'ROMol'\n",
        "df['mol_weight'] = df['ROMol'].apply(MolWt)\n",
        "df['logp'] = df['ROMol'].apply(MolLogP)\n",
        "df['formula'] = df['ROMol'].apply(CalcMolFormula)\n",
        "# Display the updated DataFrame\n",
        "df.head()"
      ]
    },
    {
      "cell_type": "code",
      "execution_count": null,
      "id": "09d926c0-3b96-4fc2-a114-4021ab510109",
      "metadata": {
        "id": "09d926c0-3b96-4fc2-a114-4021ab510109"
      },
      "outputs": [],
      "source": [
        "#Reorder and create a new clean dataframe\n",
        "columns_previous = df.columns\n",
        "columns = ['canonical_smiles', 'formula', 'mol_weight', 'logp', 'ROMol']\n",
        "clean_df = df[columns]\n",
        "clean_df[:10]"
      ]
    },
    {
      "cell_type": "markdown",
      "id": "4a412fa9-ebf1-4f6a-a8e9-735105ada8c7",
      "metadata": {
        "id": "4a412fa9-ebf1-4f6a-a8e9-735105ada8c7"
      },
      "source": [
        "Exercice : Can you give me the number of molecules that have a molecular weight superior than 400 ? To iterate through rows of a dataset you can use this:\n",
        "\n",
        "for index, row in clean_df.iterrows():\n",
        "\n",
        "and this :\n",
        "\n",
        "row['mol_weight']"
      ]
    },
    {
      "cell_type": "code",
      "execution_count": null,
      "id": "9502d4f9-584a-478e-ac28-82d5c538c164",
      "metadata": {
        "id": "9502d4f9-584a-478e-ac28-82d5c538c164"
      },
      "outputs": [],
      "source": []
    },
    {
      "cell_type": "markdown",
      "id": "b122b683-fd1d-4e55-bedc-ceeeccad3f6b",
      "metadata": {
        "id": "b122b683-fd1d-4e55-bedc-ceeeccad3f6b"
      },
      "source": [
        "We will now make some data analysis on atoms in this dataset"
      ]
    },
    {
      "cell_type": "code",
      "execution_count": null,
      "id": "82a03111-0bf8-43b2-8489-ae42f671bea1",
      "metadata": {
        "id": "82a03111-0bf8-43b2-8489-ae42f671bea1"
      },
      "outputs": [],
      "source": [
        "import re\n",
        "\n",
        "def extract_atom_types(formulas):\n",
        "    \"\"\"\n",
        "    Extract unique atom types from a list of chemical formulas.\n",
        "\n",
        "    Parameters:\n",
        "    - formulas (list): A list of chemical formulas.\n",
        "\n",
        "    Returns:\n",
        "    - list: A list of unique atom types extracted from the input formulas.\n",
        "    \"\"\"\n",
        "\n",
        "    unique_atom_types = set()\n",
        "\n",
        "    # Use regular expressions to extract atom type and count from each formula\n",
        "    pattern = r'([A-Z][a-z]*)'\n",
        "\n",
        "    for formula in formulas:\n",
        "        matches = re.findall(pattern, formula)\n",
        "        unique_atom_types.update(matches)\n",
        "\n",
        "    return list(unique_atom_types)\n",
        "\n",
        "#we check the unique types of atom present in this database\n",
        "unique_types = extract_atom_types(df['formula'])\n",
        "\n",
        "print(\"Unique Atom Types:\", unique_types)\n"
      ]
    },
    {
      "cell_type": "code",
      "execution_count": null,
      "id": "217a17cc-84fa-4a7c-8281-3c4b57ec3b97",
      "metadata": {
        "id": "217a17cc-84fa-4a7c-8281-3c4b57ec3b97"
      },
      "outputs": [],
      "source": [
        "# Define a function to parse chemical formulas\n",
        "def count_atoms_of_type(formula):\n",
        "    \"\"\"\n",
        "    Count the number of atoms for each unique atom type in a chemical formula.\n",
        "\n",
        "    Parameters:\n",
        "    - formula (str): A chemical formula.\n",
        "    - unique_types (list): A list of unique atom types.\n",
        "\n",
        "    Returns:\n",
        "    - dict: A dictionary with atom types as keys and their counts in the formula.\n",
        "    \"\"\"\n",
        "\n",
        "    # Use regular expressions to extract atom type and count\n",
        "    pattern = r'([A-Z][a-z]*)(\\d*)'\n",
        "    matches = re.finditer(pattern, formula)\n",
        "\n",
        "    # Create a dictionary with unique atom types and initialize counts to 0\n",
        "    atom_counts = {atom_type: 0 for atom_type in unique_types}\n",
        "\n",
        "    for match in matches:\n",
        "        atom_type = match.group(1)\n",
        "        atom_count = int(match.group(2)) if match.group(2) else 1\n",
        "        if atom_type in atom_counts:\n",
        "            atom_counts[atom_type] += atom_count\n",
        "\n",
        "    return atom_counts\n",
        "\n",
        "# Apply the parsing function to each formula and expand it into columns\n",
        "atom_counts = clean_df['formula'].apply(count_atoms_of_type).apply(pd.Series)\n",
        "\n",
        "# Combine the original DataFrame with the atom counts\n",
        "df = pd.concat([clean_df, atom_counts], axis=1)\n",
        "\n",
        "df[:5]\n",
        "\n"
      ]
    },
    {
      "cell_type": "code",
      "execution_count": null,
      "id": "1e3c7111-7d40-45fe-9fc0-46b82c934287",
      "metadata": {
        "id": "1e3c7111-7d40-45fe-9fc0-46b82c934287"
      },
      "outputs": [],
      "source": [
        "data = df.mol_weight\n",
        "max_value = df.mol_weight.max()\n",
        "step = 10\n",
        "bins = np.arange(0, max_value, max_value/step)\n",
        "\n",
        "mean = np.mean(data)\n",
        "median = np.median(data)\n",
        "std_dev = np.std(data)\n",
        "\n",
        "print(f\"Mean: {mean}\")\n",
        "print(f\"Median: {median}\")\n",
        "print(f\"Standard Deviation: {std_dev}\")\n",
        "\n",
        "plt.hist(data, bins=bins, color='skyblue', edgecolor='black', alpha=0.7)\n",
        "plt.xlabel('mol_weight Values')\n",
        "plt.ylabel('Number of molecules')\n",
        "plt.title('Histogram of mol_weight Values')\n",
        "plt.grid(axis='y', linestyle='--', alpha=0.6)\n",
        "plt.axvline(x=mean, color='red', linestyle='--', linewidth=1, label='Mean')\n",
        "plt.legend()\n",
        "\n",
        "plt.show()"
      ]
    },
    {
      "cell_type": "markdown",
      "id": "62bffd4f-acb8-487d-9256-098e87893007",
      "metadata": {
        "id": "62bffd4f-acb8-487d-9256-098e87893007"
      },
      "source": [
        "Exercice: can you draw the number of molecules in function of the number of C (histogram)?"
      ]
    },
    {
      "cell_type": "code",
      "execution_count": null,
      "id": "c4ba1e7d-c267-465b-adb5-d7d703de7f45",
      "metadata": {
        "id": "c4ba1e7d-c267-465b-adb5-d7d703de7f45"
      },
      "outputs": [],
      "source": []
    },
    {
      "cell_type": "markdown",
      "id": "4ad5c4db-7225-4a3a-b89d-ab80f335d36f",
      "metadata": {
        "id": "4ad5c4db-7225-4a3a-b89d-ab80f335d36f"
      },
      "source": [
        "Exercice: can you draw the number of molecules in function of the number of H (histogram)?"
      ]
    },
    {
      "cell_type": "code",
      "execution_count": null,
      "id": "2da55cd9-6368-47e3-b42a-29400c672886",
      "metadata": {
        "id": "2da55cd9-6368-47e3-b42a-29400c672886"
      },
      "outputs": [],
      "source": []
    },
    {
      "cell_type": "markdown",
      "id": "21d2e354-c6be-4df6-b41e-bb4633345484",
      "metadata": {
        "id": "21d2e354-c6be-4df6-b41e-bb4633345484"
      },
      "source": [
        "Drawings of H in function of C"
      ]
    },
    {
      "cell_type": "code",
      "execution_count": null,
      "id": "e6968216-4fe9-46b1-baab-3bff2a0d137a",
      "metadata": {
        "id": "e6968216-4fe9-46b1-baab-3bff2a0d137a"
      },
      "outputs": [],
      "source": [
        "plt.scatter(df['C'], df['H'], color='skyblue', alpha=0.7)\n",
        "plt.xlabel('Number of C')\n",
        "plt.ylabel('Number of H')\n",
        "plt.title('Number of H in function of Number of C')\n",
        "plt.grid()\n",
        "plt.show()"
      ]
    },
    {
      "cell_type": "markdown",
      "id": "0a7ff265-9031-48be-a8d1-876e03ed9927",
      "metadata": {
        "id": "0a7ff265-9031-48be-a8d1-876e03ed9927"
      },
      "source": [
        "Exercice : Draw mol_weight in function of logp"
      ]
    },
    {
      "cell_type": "code",
      "execution_count": null,
      "id": "c50d2fe8-f021-41d3-8c28-36656646d000",
      "metadata": {
        "id": "c50d2fe8-f021-41d3-8c28-36656646d000"
      },
      "outputs": [],
      "source": []
    }
  ],
  "metadata": {
    "kernelspec": {
      "display_name": "Python 3 (ipykernel)",
      "language": "python",
      "name": "python3"
    },
    "language_info": {
      "codemirror_mode": {
        "name": "ipython",
        "version": 3
      },
      "file_extension": ".py",
      "mimetype": "text/x-python",
      "name": "python",
      "nbconvert_exporter": "python",
      "pygments_lexer": "ipython3",
      "version": "3.10.12"
    },
    "colab": {
      "provenance": [],
      "include_colab_link": true
    }
  },
  "nbformat": 4,
  "nbformat_minor": 5
}