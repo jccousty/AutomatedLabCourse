{
  "cells": [
    {
      "cell_type": "markdown",
      "metadata": {
        "id": "view-in-github",
        "colab_type": "text"
      },
      "source": [
        "<a href=\"https://colab.research.google.com/github/jccousty/AutomatedLabCourse/blob/main/Exercice_data_analysis.ipynb\" target=\"_parent\"><img src=\"https://colab.research.google.com/assets/colab-badge.svg\" alt=\"Open In Colab\"/></a>"
      ]
    },
    {
      "cell_type": "code",
      "source": [
        "!pip --version"
      ],
      "metadata": {
        "id": "pra2nRIe2SZu",
        "colab": {
          "base_uri": "https://localhost:8080/"
        },
        "outputId": "8cc56a46-e646-454e-acca-2f1c96eee7cb"
      },
      "id": "pra2nRIe2SZu",
      "execution_count": 41,
      "outputs": [
        {
          "output_type": "stream",
          "name": "stdout",
          "text": [
            "pip 24.1.2 from /usr/local/lib/python3.10/dist-packages/pip (python 3.10)\n"
          ]
        }
      ]
    },
    {
      "cell_type": "markdown",
      "id": "9cdda8dc-9d64-4887-919e-64ecf73c5a17",
      "metadata": {
        "id": "9cdda8dc-9d64-4887-919e-64ecf73c5a17"
      },
      "source": [
        "#  PYTHON BASICS"
      ]
    },
    {
      "cell_type": "code",
      "execution_count": 42,
      "id": "c66b7f8b-e321-4b20-884b-44036c8b0040",
      "metadata": {
        "colab": {
          "base_uri": "https://localhost:8080/"
        },
        "id": "c66b7f8b-e321-4b20-884b-44036c8b0040",
        "outputId": "c6fc3bbc-f823-4b9e-dee8-9cc3fe9cb22f"
      },
      "outputs": [
        {
          "output_type": "stream",
          "name": "stdout",
          "text": [
            "hello world\n"
          ]
        }
      ],
      "source": [
        "# Display something, a text, a number, a list ...\n",
        "print(\"hello world\")"
      ]
    },
    {
      "cell_type": "code",
      "execution_count": 43,
      "id": "9cc8b8b3-cf8c-4695-9125-73d1293fe0f4",
      "metadata": {
        "id": "9cc8b8b3-cf8c-4695-9125-73d1293fe0f4"
      },
      "outputs": [],
      "source": [
        "# This is a comment"
      ]
    },
    {
      "cell_type": "code",
      "execution_count": 44,
      "id": "30b80447-b8a5-4930-8892-d11bb3131946",
      "metadata": {
        "colab": {
          "base_uri": "https://localhost:8080/"
        },
        "id": "30b80447-b8a5-4930-8892-d11bb3131946",
        "outputId": "d7a0afed-a6d5-4f35-e8f8-494e986b85f8"
      },
      "outputs": [
        {
          "output_type": "stream",
          "name": "stdout",
          "text": [
            "22\n"
          ]
        }
      ],
      "source": [
        "i = 10\n",
        "j = 12\n",
        "k = i+j\n",
        "print(k)"
      ]
    },
    {
      "cell_type": "code",
      "execution_count": 45,
      "id": "32cd56a3-7ad3-4ca4-bde9-91efaac886cf",
      "metadata": {
        "id": "32cd56a3-7ad3-4ca4-bde9-91efaac886cf"
      },
      "outputs": [],
      "source": [
        "bool = True"
      ]
    },
    {
      "cell_type": "code",
      "execution_count": 46,
      "id": "fee9120d-a1d5-4057-bd03-8dc0dafaabc9",
      "metadata": {
        "colab": {
          "base_uri": "https://localhost:8080/"
        },
        "id": "fee9120d-a1d5-4057-bd03-8dc0dafaabc9",
        "outputId": "f5f69d74-d931-4aed-e302-a84a67f4d545"
      },
      "outputs": [
        {
          "output_type": "stream",
          "name": "stdout",
          "text": [
            "['H2O', 'CH4', 'CBrClF2', 'CCl2F2', 'CCl3F', 'CCl3NO2', 'CCl4', 'CHCl3', 'CHClF2', 'CHCl2F', 'CHBr3', 'HCN', 'CHO2Li', 'CH2Cl2', 'CH2N2', 'CH2O']\n"
          ]
        }
      ],
      "source": [
        "molecules = [\"H2O\", \"CH4\", \"CBrClF2\", \"CCl2F2\", \"CCl3F\", \"CCl3NO2\", \"CCl4\", \"CHCl3\", \"CHClF2\", \"CHCl2F\", \"CHBr3\",\"HCN\", \"CHO2Li\",\"CH2Cl2\", \"CH2N2\",\"CH2O\"]\n",
        "print(molecules)"
      ]
    },
    {
      "cell_type": "code",
      "execution_count": 47,
      "id": "4770ecf1-cf74-4fcd-ae02-f420016b08b7",
      "metadata": {
        "colab": {
          "base_uri": "https://localhost:8080/"
        },
        "id": "4770ecf1-cf74-4fcd-ae02-f420016b08b7",
        "outputId": "c56ead72-f855-4c93-8326-2847ec7d425f"
      },
      "outputs": [
        {
          "output_type": "execute_result",
          "data": {
            "text/plain": [
              "16"
            ]
          },
          "metadata": {},
          "execution_count": 47
        }
      ],
      "source": [
        "len(molecules)"
      ]
    },
    {
      "cell_type": "code",
      "execution_count": 48,
      "id": "6608e7e1-3b84-475b-8829-61103882660a",
      "metadata": {
        "colab": {
          "base_uri": "https://localhost:8080/"
        },
        "id": "6608e7e1-3b84-475b-8829-61103882660a",
        "outputId": "1c879c03-3c2a-49ea-83d5-ff5fb197d7f8"
      },
      "outputs": [
        {
          "output_type": "stream",
          "name": "stdout",
          "text": [
            "['H2O', 'CH4', 'CBrClF2', 'CCl2F2', 'CCl3F', 'CCl3NO2', 'CHCl3', 'CHClF2', 'CHCl2F', 'CHBr3', 'HCN', 'CHO2Li', 'CH2Cl2', 'CH2N2', 'CH2O']\n"
          ]
        }
      ],
      "source": [
        "molecules.remove(\"CCl4\")\n",
        "print(molecules)"
      ]
    },
    {
      "cell_type": "code",
      "execution_count": 49,
      "id": "af5ca2e1-ec83-474e-9390-8ad949e78a4f",
      "metadata": {
        "colab": {
          "base_uri": "https://localhost:8080/"
        },
        "id": "af5ca2e1-ec83-474e-9390-8ad949e78a4f",
        "outputId": "01491e5b-aa82-4562-c9c5-cffa20536735"
      },
      "outputs": [
        {
          "output_type": "execute_result",
          "data": {
            "text/plain": [
              "15"
            ]
          },
          "metadata": {},
          "execution_count": 49
        }
      ],
      "source": [
        "len(molecules)"
      ]
    },
    {
      "cell_type": "code",
      "execution_count": 50,
      "id": "cce5b473-7f63-4ea2-8b69-18988dee394b",
      "metadata": {
        "colab": {
          "base_uri": "https://localhost:8080/"
        },
        "id": "cce5b473-7f63-4ea2-8b69-18988dee394b",
        "outputId": "4d71aa02-e015-4064-e502-10ffbeb41b69"
      },
      "outputs": [
        {
          "output_type": "stream",
          "name": "stdout",
          "text": [
            "['H2O', 'CH4', 'CBrClF2', 'CCl2F2', 'CCl3F', 'CCl3NO2', 'CHCl3', 'CHClF2', 'CHCl2F', 'CHBr3', 'HCN', 'CHO2Li', 'CH2Cl2', 'CH2N2', 'CH2O', 'CCl4']\n"
          ]
        }
      ],
      "source": [
        "molecules.append(\"CCl4\")\n",
        "print(molecules)"
      ]
    },
    {
      "cell_type": "markdown",
      "id": "37d01f39-3dc5-454c-a66c-5c48342a2e58",
      "metadata": {
        "id": "37d01f39-3dc5-454c-a66c-5c48342a2e58"
      },
      "source": [
        "# Loops and conditions"
      ]
    },
    {
      "cell_type": "code",
      "execution_count": 51,
      "id": "f5185090-d94d-47ff-9178-78ac9d54084b",
      "metadata": {
        "colab": {
          "base_uri": "https://localhost:8080/"
        },
        "id": "f5185090-d94d-47ff-9178-78ac9d54084b",
        "outputId": "334b9fce-ec4e-48f5-e1c6-c460d925047c"
      },
      "outputs": [
        {
          "output_type": "stream",
          "name": "stdout",
          "text": [
            "H2O\n",
            "CH4\n",
            "CBrClF2\n",
            "CCl2F2\n",
            "CCl3F\n",
            "CCl3NO2\n",
            "CHCl3\n",
            "CHClF2\n",
            "CHCl2F\n",
            "CHBr3\n",
            "HCN\n",
            "CHO2Li\n",
            "CH2Cl2\n",
            "CH2N2\n",
            "CH2O\n",
            "CCl4\n"
          ]
        }
      ],
      "source": [
        "for molecule in molecules:\n",
        "    print(molecule)"
      ]
    },
    {
      "cell_type": "code",
      "execution_count": 52,
      "id": "2813d8a3-ea61-4456-83d0-4007ded11772",
      "metadata": {
        "colab": {
          "base_uri": "https://localhost:8080/"
        },
        "id": "2813d8a3-ea61-4456-83d0-4007ded11772",
        "outputId": "dd74abda-2779-4046-aae6-3533ca995619"
      },
      "outputs": [
        {
          "output_type": "stream",
          "name": "stdout",
          "text": [
            "We have water here ...\n"
          ]
        }
      ],
      "source": [
        "if \"H2O\" in molecules :\n",
        "    print(\"We have water here ...\")\n",
        "else :\n",
        "    print(\"We don't have water here ...\")"
      ]
    },
    {
      "cell_type": "code",
      "execution_count": 53,
      "id": "b47b37aa-6c9f-4df2-b37f-067c434e3f36",
      "metadata": {
        "colab": {
          "base_uri": "https://localhost:8080/"
        },
        "id": "b47b37aa-6c9f-4df2-b37f-067c434e3f36",
        "outputId": "845cb6f3-b659-4a30-ad60-4be5efc8a7b9"
      },
      "outputs": [
        {
          "output_type": "stream",
          "name": "stdout",
          "text": [
            "We are going to drink water on Friday\n"
          ]
        }
      ],
      "source": [
        "dayOfTheWeek = \"Friday\"\n",
        "\n",
        "if \"H2O\" in molecules and dayOfTheWeek == \"Friday\":\n",
        "    print(\"We are going to drink water on Friday\")\n",
        "else:\n",
        "    print(\"We are not going to drink water on Friday\")"
      ]
    },
    {
      "cell_type": "code",
      "execution_count": 54,
      "id": "030a9283-caf8-45c7-bd66-1204c46343fe",
      "metadata": {
        "colab": {
          "base_uri": "https://localhost:8080/"
        },
        "id": "030a9283-caf8-45c7-bd66-1204c46343fe",
        "outputId": "35ac78e2-e10b-49c2-b063-b77c4afba949"
      },
      "outputs": [
        {
          "output_type": "stream",
          "name": "stdout",
          "text": [
            "4\n",
            "5\n",
            "6\n",
            "7\n",
            "8\n",
            "9\n",
            "10\n"
          ]
        }
      ],
      "source": [
        "capacite_maximale = 10\n",
        "capacite_actuelle = 3\n",
        "while capacite_actuelle < capacite_maximale:\n",
        "    capacite_actuelle += 1\n",
        "    print(capacite_actuelle)"
      ]
    },
    {
      "cell_type": "markdown",
      "id": "5880ef40-27a1-4a40-9ebb-c01af50a780c",
      "metadata": {
        "id": "5880ef40-27a1-4a40-9ebb-c01af50a780c"
      },
      "source": [
        "# Functions"
      ]
    },
    {
      "cell_type": "markdown",
      "id": "3c0f14ea-5cef-4e4b-8d8b-ec188413e71b",
      "metadata": {
        "id": "3c0f14ea-5cef-4e4b-8d8b-ec188413e71b"
      },
      "source": [
        "A function is a block of code with a specific purpose, to which you can give a name. When you call this function, you execute the code it contains. The functions allow you to enter parameters to execute the same code on different values."
      ]
    },
    {
      "cell_type": "code",
      "execution_count": 55,
      "id": "ab6246ed-e0ff-445e-a5cf-b2ac7365a28e",
      "metadata": {
        "id": "ab6246ed-e0ff-445e-a5cf-b2ac7365a28e"
      },
      "outputs": [],
      "source": [
        "# Information about an existing function\n",
        "print?"
      ]
    },
    {
      "cell_type": "code",
      "execution_count": 56,
      "id": "ec8e857c-a238-4f8f-b965-2b640f2d3153",
      "metadata": {
        "id": "ec8e857c-a238-4f8f-b965-2b640f2d3153"
      },
      "outputs": [],
      "source": [
        "# A new function is defined here\n",
        "def isThereWaterInMyList(moleculesList):\n",
        "    return(\"H2O\" in moleculesList)"
      ]
    },
    {
      "cell_type": "code",
      "execution_count": 57,
      "id": "0d59e251-0445-4c0a-b0cc-9555a556553f",
      "metadata": {
        "colab": {
          "base_uri": "https://localhost:8080/"
        },
        "id": "0d59e251-0445-4c0a-b0cc-9555a556553f",
        "outputId": "8959eb01-76b7-4a3b-c8c0-d768ab368337"
      },
      "outputs": [
        {
          "output_type": "execute_result",
          "data": {
            "text/plain": [
              "True"
            ]
          },
          "metadata": {},
          "execution_count": 57
        }
      ],
      "source": [
        "#Use of this function\n",
        "isThereWaterInMyList(molecules)"
      ]
    },
    {
      "cell_type": "markdown",
      "id": "8ecf1c0b-8d5e-4fb1-9839-302512547975",
      "metadata": {
        "id": "8ecf1c0b-8d5e-4fb1-9839-302512547975"
      },
      "source": [
        "Exercice : Can you remove H20 from the list and check if the list contains H20 (using the function isThereWaterInMyList)"
      ]
    },
    {
      "cell_type": "code",
      "execution_count": 57,
      "id": "d2c57865-e56d-461b-9165-0622256c7bf0",
      "metadata": {
        "id": "d2c57865-e56d-461b-9165-0622256c7bf0"
      },
      "outputs": [],
      "source": []
    },
    {
      "cell_type": "markdown",
      "id": "7b8e02af-6c47-4b8f-a2b5-a50f4549d1b3",
      "metadata": {
        "id": "7b8e02af-6c47-4b8f-a2b5-a50f4549d1b3"
      },
      "source": [
        "Exercice : Can you then add H20 in the list (using the append function) and check if the list contains H20 (using the function isThereWaterInMyList)"
      ]
    },
    {
      "cell_type": "code",
      "execution_count": 57,
      "id": "208393f0-5d0d-45e5-89ce-21440065c898",
      "metadata": {
        "id": "208393f0-5d0d-45e5-89ce-21440065c898"
      },
      "outputs": [],
      "source": []
    },
    {
      "cell_type": "markdown",
      "id": "beb117c8-2cdf-4903-b1a6-f499d639c42e",
      "metadata": {
        "id": "beb117c8-2cdf-4903-b1a6-f499d639c42e"
      },
      "source": [
        "Document your functions !"
      ]
    },
    {
      "cell_type": "code",
      "execution_count": 58,
      "id": "5261b1b2-45e1-413b-98f1-095603d1a903",
      "metadata": {
        "id": "5261b1b2-45e1-413b-98f1-095603d1a903"
      },
      "outputs": [],
      "source": [
        "def somme(a, b):\n",
        "    \"\"\"\n",
        "    This fonction calculates the sum of two numbers and returns the result.\n",
        "\n",
        "    Parameters:\n",
        "    a (int): first number\n",
        "    b (int): second number\n",
        "\n",
        "    Returns:\n",
        "    int: sum of a and b\n",
        "    \"\"\"\n",
        "    return a + b"
      ]
    },
    {
      "cell_type": "markdown",
      "id": "dbd6c815-dc35-46b1-b6d6-fcd236ad5251",
      "metadata": {
        "id": "dbd6c815-dc35-46b1-b6d6-fcd236ad5251"
      },
      "source": [
        "# Dictionaries"
      ]
    },
    {
      "cell_type": "code",
      "execution_count": 59,
      "id": "3ddbb06d-210b-4949-ad16-995d9e420832",
      "metadata": {
        "colab": {
          "base_uri": "https://localhost:8080/"
        },
        "id": "3ddbb06d-210b-4949-ad16-995d9e420832",
        "outputId": "a49b4f21-31e5-445e-91f2-cc9a752a74d9"
      },
      "outputs": [
        {
          "output_type": "stream",
          "name": "stdout",
          "text": [
            "{'molecularFormula': 'H2O', 'molecularWeight': '19'}\n"
          ]
        }
      ],
      "source": [
        "water = {\n",
        "\"molecularFormula\": \"H2O\",\n",
        "\"molecularWeight\": \"19\"\n",
        "}\n",
        "print(water)"
      ]
    },
    {
      "cell_type": "code",
      "execution_count": 60,
      "id": "4a8c8555-1e61-4078-82b5-961aec8c9a74",
      "metadata": {
        "colab": {
          "base_uri": "https://localhost:8080/"
        },
        "id": "4a8c8555-1e61-4078-82b5-961aec8c9a74",
        "outputId": "1682ba2d-0b13-4903-ae93-94bda3208785"
      },
      "outputs": [
        {
          "output_type": "execute_result",
          "data": {
            "text/plain": [
              "{'molecularFormula': 'H2O',\n",
              " 'molecularWeight': '19',\n",
              " 'MolecularWeightUnit': 'g/mol'}"
            ]
          },
          "metadata": {},
          "execution_count": 60
        }
      ],
      "source": [
        "water[\"MolecularWeightUnit\"] = \"g/mol\"\n",
        "water"
      ]
    },
    {
      "cell_type": "code",
      "execution_count": 61,
      "id": "54e77240-556e-42af-9f15-b305346ddd88",
      "metadata": {
        "id": "54e77240-556e-42af-9f15-b305346ddd88"
      },
      "outputs": [],
      "source": [
        "ethanol = {\n",
        "\"molecularFormula\": \"C2H5OH\",\n",
        "\"molecularWeight\": \"46.068\"\n",
        "}\n",
        "newmolecules = {}\n",
        "newmolecules[\"water\"] = water\n",
        "newmolecules[\"ethanol\"] = ethanol"
      ]
    },
    {
      "cell_type": "code",
      "execution_count": 62,
      "id": "549e44ff-93e9-439b-9c7e-e4e85207ed61",
      "metadata": {
        "id": "549e44ff-93e9-439b-9c7e-e4e85207ed61"
      },
      "outputs": [],
      "source": [
        "dmso = {\n",
        "\"molecularFormula\": \"C2H6OS\",\n",
        "\"molecularWeight\": \"78.13\"\n",
        "}\n",
        "newmolecules[\"dmso\"] = dmso"
      ]
    },
    {
      "cell_type": "code",
      "execution_count": 63,
      "id": "6c8d0728-2cfe-494f-b649-3ed1745bfc23",
      "metadata": {
        "colab": {
          "base_uri": "https://localhost:8080/"
        },
        "id": "6c8d0728-2cfe-494f-b649-3ed1745bfc23",
        "outputId": "8be79958-ec94-4285-9d6e-d23ca728593a"
      },
      "outputs": [
        {
          "output_type": "execute_result",
          "data": {
            "text/plain": [
              "{'water': {'molecularFormula': 'H2O',\n",
              "  'molecularWeight': '19',\n",
              "  'MolecularWeightUnit': 'g/mol'},\n",
              " 'ethanol': {'molecularFormula': 'C2H5OH', 'molecularWeight': '46.068'},\n",
              " 'dmso': {'molecularFormula': 'C2H6OS', 'molecularWeight': '78.13'}}"
            ]
          },
          "metadata": {},
          "execution_count": 63
        }
      ],
      "source": [
        "newmolecules"
      ]
    },
    {
      "cell_type": "code",
      "execution_count": 64,
      "id": "d0f80e74-ff95-4085-852a-df0349f76016",
      "metadata": {
        "colab": {
          "base_uri": "https://localhost:8080/"
        },
        "id": "d0f80e74-ff95-4085-852a-df0349f76016",
        "outputId": "11092299-3541-401c-870f-8ec23ac6ebcc"
      },
      "outputs": [
        {
          "output_type": "execute_result",
          "data": {
            "text/plain": [
              "{'molecularFormula': 'C2H5OH', 'molecularWeight': '46.068'}"
            ]
          },
          "metadata": {},
          "execution_count": 64
        }
      ],
      "source": [
        "newmolecules[\"ethanol\"]"
      ]
    },
    {
      "cell_type": "code",
      "execution_count": 65,
      "id": "ce1408f5-37ed-4ca8-b61b-fb627983250b",
      "metadata": {
        "id": "ce1408f5-37ed-4ca8-b61b-fb627983250b"
      },
      "outputs": [],
      "source": [
        "newmolecules[\"dmso\"][\"MolecularWeightUnit\"] = \"g/mol\""
      ]
    },
    {
      "cell_type": "code",
      "execution_count": 66,
      "id": "e41751f0-f6ae-4b28-97c5-a9415f1e4640",
      "metadata": {
        "colab": {
          "base_uri": "https://localhost:8080/"
        },
        "id": "e41751f0-f6ae-4b28-97c5-a9415f1e4640",
        "outputId": "55c1097c-dc2c-4673-acf4-d83b667b128d"
      },
      "outputs": [
        {
          "output_type": "execute_result",
          "data": {
            "text/plain": [
              "{'water': {'molecularFormula': 'H2O',\n",
              "  'molecularWeight': '19',\n",
              "  'MolecularWeightUnit': 'g/mol'},\n",
              " 'ethanol': {'molecularFormula': 'C2H5OH', 'molecularWeight': '46.068'},\n",
              " 'dmso': {'molecularFormula': 'C2H6OS',\n",
              "  'molecularWeight': '78.13',\n",
              "  'MolecularWeightUnit': 'g/mol'}}"
            ]
          },
          "metadata": {},
          "execution_count": 66
        }
      ],
      "source": [
        "newmolecules"
      ]
    },
    {
      "cell_type": "code",
      "execution_count": 67,
      "id": "2b931a3b-6d6a-4e8f-aa73-7d50dc2cf4c4",
      "metadata": {
        "colab": {
          "base_uri": "https://localhost:8080/"
        },
        "id": "2b931a3b-6d6a-4e8f-aa73-7d50dc2cf4c4",
        "outputId": "12448e98-de20-4d4d-cd85-b6b2e02cf9a3"
      },
      "outputs": [
        {
          "output_type": "execute_result",
          "data": {
            "text/plain": [
              "{'water': {'molecularFormula': 'H2O',\n",
              "  'molecularWeight': '19',\n",
              "  'MolecularWeightUnit': 'g/mol'},\n",
              " 'ethanol': {'molecularFormula': 'C2H5OH', 'molecularWeight': '46.068'},\n",
              " 'dmso': {'molecularFormula': 'C2H6OS',\n",
              "  'molecularWeight': '78.13',\n",
              "  'MolecularWeightUnit': 'mg/mol'}}"
            ]
          },
          "metadata": {},
          "execution_count": 67
        }
      ],
      "source": [
        "newmolecules[\"dmso\"][\"MolecularWeightUnit\"] = \"mg/mol\"\n",
        "newmolecules"
      ]
    },
    {
      "cell_type": "markdown",
      "id": "f1c8b15e-50d1-4bc0-9a52-4e9d4e49729f",
      "metadata": {
        "id": "f1c8b15e-50d1-4bc0-9a52-4e9d4e49729f"
      },
      "source": [
        "Exercice : Can you change the MolecularWeightUnit of the dmso to g/mol"
      ]
    },
    {
      "cell_type": "code",
      "execution_count": 67,
      "id": "0daf1e4a-90dc-4b9d-988a-270fa502abd5",
      "metadata": {
        "id": "0daf1e4a-90dc-4b9d-988a-270fa502abd5"
      },
      "outputs": [],
      "source": []
    },
    {
      "cell_type": "markdown",
      "id": "63f70440-37ab-4752-8663-43ac39796411",
      "metadata": {
        "id": "63f70440-37ab-4752-8663-43ac39796411"
      },
      "source": [
        "Exercice : Can you change the MolecularWeight of water to 18.01528 and print newmolecules"
      ]
    },
    {
      "cell_type": "code",
      "execution_count": 67,
      "id": "5d0d9f64-bd18-4cb0-8ecb-0662a208a263",
      "metadata": {
        "id": "5d0d9f64-bd18-4cb0-8ecb-0662a208a263"
      },
      "outputs": [],
      "source": []
    },
    {
      "cell_type": "markdown",
      "id": "6b2dd0ef-76ff-498f-860c-d9e6cce1c453",
      "metadata": {
        "id": "6b2dd0ef-76ff-498f-860c-d9e6cce1c453"
      },
      "source": [
        "# MORE ADVANCED EXAMPLE (using RDKIT)"
      ]
    },
    {
      "cell_type": "markdown",
      "id": "b3c15af6-3f8b-4ea6-a11b-502a7e35f040",
      "metadata": {
        "id": "b3c15af6-3f8b-4ea6-a11b-502a7e35f040"
      },
      "source": [
        "Importing librairies for the functions to be used.\n",
        "A library (or module or package) is a collection of pre-written code or functions that can be used to perform specific tasks or functions."
      ]
    },
    {
      "cell_type": "markdown",
      "id": "f865e898-8c83-4695-ae84-b33e6b3c1c9c",
      "metadata": {
        "id": "f865e898-8c83-4695-ae84-b33e6b3c1c9c"
      },
      "source": [
        "To use a library to be used, you must first install it in your environment :\n",
        "```\n",
        "pip install library\n",
        "```"
      ]
    },
    {
      "cell_type": "code",
      "source": [
        "!pip install rdkit\n",
        "!pip install pandas\n",
        "!pip install matplotlib\n",
        "!pip install numpy\n",
        "!pip install seaborn"
      ],
      "metadata": {
        "colab": {
          "base_uri": "https://localhost:8080/"
        },
        "id": "3XxMZ6Pm2FCJ",
        "outputId": "74fb7f83-b39f-46f9-c3cc-ffde2c7fcd5c"
      },
      "id": "3XxMZ6Pm2FCJ",
      "execution_count": 68,
      "outputs": [
        {
          "output_type": "stream",
          "name": "stdout",
          "text": [
            "Requirement already satisfied: rdkit in /usr/local/lib/python3.10/dist-packages (2024.3.6)\n",
            "Requirement already satisfied: numpy in /usr/local/lib/python3.10/dist-packages (from rdkit) (1.26.4)\n",
            "Requirement already satisfied: Pillow in /usr/local/lib/python3.10/dist-packages (from rdkit) (10.4.0)\n",
            "Requirement already satisfied: pandas in /usr/local/lib/python3.10/dist-packages (2.2.2)\n",
            "Requirement already satisfied: numpy>=1.22.4 in /usr/local/lib/python3.10/dist-packages (from pandas) (1.26.4)\n",
            "Requirement already satisfied: python-dateutil>=2.8.2 in /usr/local/lib/python3.10/dist-packages (from pandas) (2.8.2)\n",
            "Requirement already satisfied: pytz>=2020.1 in /usr/local/lib/python3.10/dist-packages (from pandas) (2024.2)\n",
            "Requirement already satisfied: tzdata>=2022.7 in /usr/local/lib/python3.10/dist-packages (from pandas) (2024.2)\n",
            "Requirement already satisfied: six>=1.5 in /usr/local/lib/python3.10/dist-packages (from python-dateutil>=2.8.2->pandas) (1.16.0)\n",
            "Requirement already satisfied: matplotlib in /usr/local/lib/python3.10/dist-packages (3.8.0)\n",
            "Requirement already satisfied: contourpy>=1.0.1 in /usr/local/lib/python3.10/dist-packages (from matplotlib) (1.3.0)\n",
            "Requirement already satisfied: cycler>=0.10 in /usr/local/lib/python3.10/dist-packages (from matplotlib) (0.12.1)\n",
            "Requirement already satisfied: fonttools>=4.22.0 in /usr/local/lib/python3.10/dist-packages (from matplotlib) (4.54.1)\n",
            "Requirement already satisfied: kiwisolver>=1.0.1 in /usr/local/lib/python3.10/dist-packages (from matplotlib) (1.4.7)\n",
            "Requirement already satisfied: numpy<2,>=1.21 in /usr/local/lib/python3.10/dist-packages (from matplotlib) (1.26.4)\n",
            "Requirement already satisfied: packaging>=20.0 in /usr/local/lib/python3.10/dist-packages (from matplotlib) (24.1)\n",
            "Requirement already satisfied: pillow>=6.2.0 in /usr/local/lib/python3.10/dist-packages (from matplotlib) (10.4.0)\n",
            "Requirement already satisfied: pyparsing>=2.3.1 in /usr/local/lib/python3.10/dist-packages (from matplotlib) (3.2.0)\n",
            "Requirement already satisfied: python-dateutil>=2.7 in /usr/local/lib/python3.10/dist-packages (from matplotlib) (2.8.2)\n",
            "Requirement already satisfied: six>=1.5 in /usr/local/lib/python3.10/dist-packages (from python-dateutil>=2.7->matplotlib) (1.16.0)\n",
            "Requirement already satisfied: numpy in /usr/local/lib/python3.10/dist-packages (1.26.4)\n",
            "Requirement already satisfied: seaborn in /usr/local/lib/python3.10/dist-packages (0.13.2)\n",
            "Requirement already satisfied: numpy!=1.24.0,>=1.20 in /usr/local/lib/python3.10/dist-packages (from seaborn) (1.26.4)\n",
            "Requirement already satisfied: pandas>=1.2 in /usr/local/lib/python3.10/dist-packages (from seaborn) (2.2.2)\n",
            "Requirement already satisfied: matplotlib!=3.6.1,>=3.4 in /usr/local/lib/python3.10/dist-packages (from seaborn) (3.8.0)\n",
            "Requirement already satisfied: contourpy>=1.0.1 in /usr/local/lib/python3.10/dist-packages (from matplotlib!=3.6.1,>=3.4->seaborn) (1.3.0)\n",
            "Requirement already satisfied: cycler>=0.10 in /usr/local/lib/python3.10/dist-packages (from matplotlib!=3.6.1,>=3.4->seaborn) (0.12.1)\n",
            "Requirement already satisfied: fonttools>=4.22.0 in /usr/local/lib/python3.10/dist-packages (from matplotlib!=3.6.1,>=3.4->seaborn) (4.54.1)\n",
            "Requirement already satisfied: kiwisolver>=1.0.1 in /usr/local/lib/python3.10/dist-packages (from matplotlib!=3.6.1,>=3.4->seaborn) (1.4.7)\n",
            "Requirement already satisfied: packaging>=20.0 in /usr/local/lib/python3.10/dist-packages (from matplotlib!=3.6.1,>=3.4->seaborn) (24.1)\n",
            "Requirement already satisfied: pillow>=6.2.0 in /usr/local/lib/python3.10/dist-packages (from matplotlib!=3.6.1,>=3.4->seaborn) (10.4.0)\n",
            "Requirement already satisfied: pyparsing>=2.3.1 in /usr/local/lib/python3.10/dist-packages (from matplotlib!=3.6.1,>=3.4->seaborn) (3.2.0)\n",
            "Requirement already satisfied: python-dateutil>=2.7 in /usr/local/lib/python3.10/dist-packages (from matplotlib!=3.6.1,>=3.4->seaborn) (2.8.2)\n",
            "Requirement already satisfied: pytz>=2020.1 in /usr/local/lib/python3.10/dist-packages (from pandas>=1.2->seaborn) (2024.2)\n",
            "Requirement already satisfied: tzdata>=2022.7 in /usr/local/lib/python3.10/dist-packages (from pandas>=1.2->seaborn) (2024.2)\n",
            "Requirement already satisfied: six>=1.5 in /usr/local/lib/python3.10/dist-packages (from python-dateutil>=2.7->matplotlib!=3.6.1,>=3.4->seaborn) (1.16.0)\n"
          ]
        }
      ]
    },
    {
      "cell_type": "code",
      "execution_count": 69,
      "id": "740edb8a-51f0-40ad-94d9-f0df0ce2438b",
      "metadata": {
        "colab": {
          "base_uri": "https://localhost:8080/"
        },
        "id": "740edb8a-51f0-40ad-94d9-f0df0ce2438b",
        "outputId": "c6ceb762-4183-417f-d735-d4f83a2b1c9b"
      },
      "outputs": [
        {
          "output_type": "stream",
          "name": "stdout",
          "text": [
            "2024.03.6\n"
          ]
        }
      ],
      "source": [
        "# Import the RDKit library, collection of cheminformatics and molecular modeling tools.\n",
        "from rdkit import Chem\n",
        "\n",
        "# Import the Draw module from RDKit, used for molecular structure visualization.\n",
        "from rdkit.Chem import Draw\n",
        "\n",
        "# Import the IPythonConsole module from RDKit, allowing compatibility with IPython environments like Jupyter Notebook.\n",
        "from rdkit.Chem.Draw import IPythonConsole\n",
        "import rdkit\n",
        "\n",
        "# Print the version of the RDKit library that is installed.\n",
        "print(rdkit.__version__)\n",
        "\n",
        "# Import the pandas library, commonly used for data manipulation and analysis.\n",
        "import pandas as pd\n",
        "\n",
        "# Import the numpy library, provides support for numerical and array operations.\n",
        "import numpy as np\n",
        "\n",
        "# Import the pyplot module from the matplotlib library, used for creating visualizations, including plots.\n",
        "from matplotlib import pyplot as plt\n",
        "\n",
        "# Activate inline plotting for Jupyter Notebook or JupyterLab.\n",
        "%matplotlib inline\n",
        "\n",
        "# Set the style for the Matplotlib plots. 'tableau-colorblind10' is one of the available styles.\n",
        "plt.style.use('tableau-colorblind10')\n",
        "\n",
        "# Import the seaborn library, which is a data visualization library based on Matplotlib.\n",
        "import seaborn as sns\n",
        "\n",
        "# Import the gzip library, which is used for working with compressed files (gzip compression).\n",
        "import gzip\n",
        "\n",
        "from rdkit.Chem import PandasTools\n"
      ]
    },
    {
      "cell_type": "markdown",
      "id": "0b4a7e6b-6fc4-4add-8c77-f29c54e19a7f",
      "metadata": {
        "id": "0b4a7e6b-6fc4-4add-8c77-f29c54e19a7f"
      },
      "source": [
        "Draw a molecule from the smiles"
      ]
    },
    {
      "cell_type": "code",
      "execution_count": 70,
      "id": "338f3af4-59d5-42df-bbdd-2533478f3e00",
      "metadata": {
        "id": "338f3af4-59d5-42df-bbdd-2533478f3e00",
        "colab": {
          "base_uri": "https://localhost:8080/",
          "height": 167
        },
        "outputId": "ddfd4fda-4f3b-4642-faa8-e48f0876e0f5"
      },
      "outputs": [
        {
          "output_type": "execute_result",
          "data": {
            "text/plain": [
              "<rdkit.Chem.rdchem.Mol at 0x79242f055e00>"
            ],
            "image/png": "[encoded data removed]"
          },
          "metadata": {},
          "execution_count": 70
        }
      ],
      "source": [
        "m = Chem.MolFromSmiles('Oc1ccc(cc1O)[C@@H](O)CNC')\n",
        "m"
      ]
    },
    {
      "cell_type": "markdown",
      "id": "b647a61f-79c1-470c-9c89-d39c0f88cc05",
      "metadata": {
        "id": "b647a61f-79c1-470c-9c89-d39c0f88cc05"
      },
      "source": [
        "Get properties of a molecule"
      ]
    },
    {
      "cell_type": "code",
      "execution_count": 71,
      "id": "690bd937-b2ac-41a8-8b50-4ea5150ddce4",
      "metadata": {
        "id": "690bd937-b2ac-41a8-8b50-4ea5150ddce4",
        "colab": {
          "base_uri": "https://localhost:8080/"
        },
        "outputId": "2606fa8d-d5c1-4e8b-da12-bca841a5f703"
      },
      "outputs": [
        {
          "output_type": "execute_result",
          "data": {
            "text/plain": [
              "13"
            ]
          },
          "metadata": {},
          "execution_count": 71
        }
      ],
      "source": [
        "m.GetNumAtoms()"
      ]
    },
    {
      "cell_type": "markdown",
      "id": "6ac4c817-e9d5-426a-8e79-e3d5b83e727b",
      "metadata": {
        "id": "6ac4c817-e9d5-426a-8e79-e3d5b83e727b"
      },
      "source": [
        " # Use of a DATABASE"
      ]
    },
    {
      "cell_type": "markdown",
      "id": "9d6cab51-bf86-4faf-aef9-52c9124c925e",
      "metadata": {
        "id": "9d6cab51-bf86-4faf-aef9-52c9124c925e"
      },
      "source": [
        "This database was downloaded. You can also access data via public APIs for instance.\n",
        "You can have databases on other forms."
      ]
    },
    {
      "cell_type": "code",
      "source": [
        "import os\n",
        "os.listdir()"
      ],
      "metadata": {
        "colab": {
          "base_uri": "https://localhost:8080/"
        },
        "id": "CbQTHsQW5Kka",
        "outputId": "f294a2c7-b335-4fc2-a374-0a7eb7b4df29"
      },
      "id": "CbQTHsQW5Kka",
      "execution_count": 72,
      "outputs": [
        {
          "output_type": "execute_result",
          "data": {
            "text/plain": [
              "['.config', 'target_CHEMBL205.csv.gz', 'sample_data']"
            ]
          },
          "metadata": {},
          "execution_count": 72
        }
      ]
    },
    {
      "cell_type": "code",
      "source": [
        "%ls"
      ],
      "metadata": {
        "id": "lBEPyiWu6a92",
        "outputId": "fda28507-c1b9-4b38-d656-260acdba169e",
        "colab": {
          "base_uri": "https://localhost:8080/"
        }
      },
      "id": "lBEPyiWu6a92",
      "execution_count": 73,
      "outputs": [
        {
          "output_type": "stream",
          "name": "stdout",
          "text": [
            "\u001b[0m\u001b[01;34msample_data\u001b[0m/  target_CHEMBL205.csv.gz\n"
          ]
        }
      ]
    },
    {
      "cell_type": "code",
      "execution_count": 74,
      "id": "4b331223-95b8-43fb-bb72-aa99f3464140",
      "metadata": {
        "id": "4b331223-95b8-43fb-bb72-aa99f3464140",
        "colab": {
          "base_uri": "https://localhost:8080/"
        },
        "outputId": "01916b67-de50-4f5f-f164-3f8e91079621"
      },
      "outputs": [
        {
          "output_type": "execute_result",
          "data": {
            "text/plain": [
              "['compound_chembl_id,canonical_smiles,pchembl_value,standard_value,standard_units,standard_relation,standard_type\\n',\n",
              " 'CHEMBL1054,NS(=O)(=O)c1cc2c(cc1Cl)NC(C(Cl)Cl)NS2(=O)=O,7.04,91.0,nM,=,Ki\\n',\n",
              " 'CHEMBL1055,NS(=O)(=O)c1cc(C2(O)NC(=O)c3ccccc32)ccc1Cl,6.86,138.0,nM,=,Ki\\n',\n",
              " 'CHEMBL106848,NS(=O)(=O)c1ccc(SCCO)cc1,7.68,21.0,nM,=,Ki\\n',\n",
              " 'CHEMBL107217,CCN(CC)C(=S)[S-].[Na+],5.51,3100.0,nM,=,Ki\\n',\n",
              " 'CHEMBL1081233,CCCCC(CC)C(N)=O,5.46,3450.0,nM,=,Ki\\n',\n",
              " 'CHEMBL1082898,CCC(CC)C(=O)NCCc1ccc(S(N)(=O)=O)cc1,7.47,33.8,nM,=,Ki\\n',\n",
              " 'CHEMBL1083381,CCC(C)C(CC)C(=O)Nc1ccc(S(N)(=O)=O)cc1,6.85,142.0,nM,=,Ki\\n',\n",
              " 'CHEMBL1083382,CCC(C)C(C(=O)Nc1ccc(S(N)(=O)=O)cc1)C(C)C,6.97,106.0,nM,=,Ki\\n',\n",
              " 'CHEMBL1083383,CCCC(C(=O)Nc1ccc(S(N)(=O)=O)cc1)C(C)(C)C,8.00,10.1,nM,=,Ki\\n']"
            ]
          },
          "metadata": {},
          "execution_count": 74
        }
      ],
      "source": [
        "# Open a GZipped file using the 'gzip' library. The 'gzip.open' function is used to read the file.\n",
        "# The 'rt' mode indicates that the file should be opened in text mode.\n",
        "inf = gzip.open('target_CHEMBL205.csv.gz', 'rt')\n",
        "\n",
        "# Read all lines from the GZipped file and store them in a list\n",
        "data = inf.readlines()\n",
        "\n",
        "# Display the first 10 lines of the 'data' list\n",
        "data[:10]\n"
      ]
    },
    {
      "cell_type": "code",
      "execution_count": 75,
      "id": "fac0ca86-e2a0-4352-81db-8e5a80e65f77",
      "metadata": {
        "id": "fac0ca86-e2a0-4352-81db-8e5a80e65f77",
        "colab": {
          "base_uri": "https://localhost:8080/"
        },
        "outputId": "36e2cb8d-d8b5-4523-9e0e-4bc7d617fc10"
      },
      "outputs": [
        {
          "output_type": "execute_result",
          "data": {
            "text/plain": [
              "[['compound_chembl_id',\n",
              "  'canonical_smiles',\n",
              "  'pchembl_value',\n",
              "  'standard_value',\n",
              "  'standard_units',\n",
              "  'standard_relation',\n",
              "  'standard_type\\n'],\n",
              " ['CHEMBL1054',\n",
              "  'NS(=O)(=O)c1cc2c(cc1Cl)NC(C(Cl)Cl)NS2(=O)=O',\n",
              "  '7.04',\n",
              "  '91.0',\n",
              "  'nM',\n",
              "  '=',\n",
              "  'Ki\\n'],\n",
              " ['CHEMBL1055',\n",
              "  'NS(=O)(=O)c1cc(C2(O)NC(=O)c3ccccc32)ccc1Cl',\n",
              "  '6.86',\n",
              "  '138.0',\n",
              "  'nM',\n",
              "  '=',\n",
              "  'Ki\\n']]"
            ]
          },
          "metadata": {},
          "execution_count": 75
        }
      ],
      "source": [
        "# Create a new list named 'splitData' using a list comprehension.\n",
        "# The list comprehension iterates through each element 'x' in the 'data' list.\n",
        "# example :\n",
        "# numbers = [1, 2, 3, 4, 5]\n",
        "# squared_numbers = [x**2 for x in numbers]\n",
        "# gives \"[1, 4, 9, 16, 25]\"\n",
        "\n",
        "splitData = [x.split(',') for x in data]\n",
        "\n",
        "# Display the first three elements of the 'splitData'\n",
        "splitData[:3]"
      ]
    },
    {
      "cell_type": "code",
      "execution_count": 76,
      "id": "b35476d4-43ad-419b-8471-a3460e45d202",
      "metadata": {
        "id": "b35476d4-43ad-419b-8471-a3460e45d202",
        "colab": {
          "base_uri": "https://localhost:8080/"
        },
        "outputId": "fad8d46f-80c6-430c-9114-d13e8a3bbd7c"
      },
      "outputs": [
        {
          "output_type": "execute_result",
          "data": {
            "text/plain": [
              "['compound_chembl_id',\n",
              " 'canonical_smiles',\n",
              " 'pchembl_value',\n",
              " 'standard_value',\n",
              " 'standard_units',\n",
              " 'standard_relation',\n",
              " 'standard_type\\n']"
            ]
          },
          "metadata": {},
          "execution_count": 76
        }
      ],
      "source": [
        "# Pop method removes the first item of the list. In our case, it is the column names\n",
        "splitData.pop(0)"
      ]
    },
    {
      "cell_type": "code",
      "execution_count": 77,
      "id": "8aa589f0-9e7a-43cb-b334-149cb49fe86d",
      "metadata": {
        "id": "8aa589f0-9e7a-43cb-b334-149cb49fe86d"
      },
      "outputs": [],
      "source": [
        "#We create a list of molecules with their graphical representation\n",
        "mols = [Chem.MolFromSmiles(x[1]) for x in splitData]"
      ]
    },
    {
      "cell_type": "code",
      "execution_count": 78,
      "id": "5b915776-95c4-41b6-990f-5143e4810cbf",
      "metadata": {
        "id": "5b915776-95c4-41b6-990f-5143e4810cbf",
        "colab": {
          "base_uri": "https://localhost:8080/",
          "height": 167
        },
        "outputId": "a6adfd71-eedf-496c-cef0-63b7d00229e3"
      },
      "outputs": [
        {
          "output_type": "execute_result",
          "data": {
            "text/plain": [
              "<rdkit.Chem.rdchem.Mol at 0x79242d442570>"
            ],
            "image/png": "[encoded data removed]"
          },
          "metadata": {},
          "execution_count": 78
        }
      ],
      "source": [
        "mols[0]"
      ]
    },
    {
      "cell_type": "code",
      "execution_count": 79,
      "id": "7165cacf-c9d2-4ea0-a2ed-833db25e6231",
      "metadata": {
        "id": "7165cacf-c9d2-4ea0-a2ed-833db25e6231",
        "colab": {
          "base_uri": "https://localhost:8080/",
          "height": 617
        },
        "outputId": "8a4dbfca-a240-43be-bb03-81df86ff4fc8"
      },
      "outputs": [
        {
          "output_type": "execute_result",
          "data": {
            "image/png": "[encoded data removed]",
            "text/plain": [
              "<IPython.core.display.Image object>"
            ]
          },
          "metadata": {},
          "execution_count": 79
        }
      ],
      "source": [
        "Draw.MolsToGridImage(mols[:12],molsPerRow=4)"
      ]
    },
    {
      "cell_type": "markdown",
      "id": "7dbebaa7-22e7-4afe-a300-21671e3f0853",
      "metadata": {
        "id": "7dbebaa7-22e7-4afe-a300-21671e3f0853"
      },
      "source": [
        "Exercice: Create an image of the elements from 10 to 16, with 3 elements per row"
      ]
    },
    {
      "cell_type": "code",
      "execution_count": 79,
      "id": "c3171f6a-7d5f-4179-8ee1-4c1aa28824c4",
      "metadata": {
        "id": "c3171f6a-7d5f-4179-8ee1-4c1aa28824c4"
      },
      "outputs": [],
      "source": []
    },
    {
      "cell_type": "code",
      "execution_count": 80,
      "id": "13c3e2e6-6c90-4c1b-9531-e6098160e3ae",
      "metadata": {
        "id": "13c3e2e6-6c90-4c1b-9531-e6098160e3ae"
      },
      "outputs": [],
      "source": [
        "#we create a list of molecules with their information\n",
        "inf =  gzip.open('target_CHEMBL205.csv.gz')\n",
        "suppl = Chem.SmilesMolSupplier()\n",
        "suppl.SetData(inf.read(),delimiter=',',smilesColumn=1,nameColumn=0)\n",
        "\n",
        "mols = [mol for mol in suppl if mol is not None]"
      ]
    },
    {
      "cell_type": "markdown",
      "id": "650c41df-aa12-44d1-9ff9-4bcc2c010a1c",
      "metadata": {
        "id": "650c41df-aa12-44d1-9ff9-4bcc2c010a1c"
      },
      "source": [
        "Exercice : Can you check the length of the mols list and print the 10th value of the list"
      ]
    },
    {
      "cell_type": "code",
      "execution_count": 80,
      "id": "8a4a98e3-d004-4264-878e-59eaaca2ee00",
      "metadata": {
        "id": "8a4a98e3-d004-4264-878e-59eaaca2ee00"
      },
      "outputs": [],
      "source": []
    },
    {
      "cell_type": "code",
      "execution_count": 80,
      "id": "f0dc3edc-635b-4d4a-a0b2-6f39bf63b191",
      "metadata": {
        "id": "f0dc3edc-635b-4d4a-a0b2-6f39bf63b191"
      },
      "outputs": [],
      "source": []
    },
    {
      "cell_type": "code",
      "execution_count": 81,
      "id": "dfd932cd-2abb-48bb-a6ba-6c2bc37293b9",
      "metadata": {
        "id": "dfd932cd-2abb-48bb-a6ba-6c2bc37293b9",
        "colab": {
          "base_uri": "https://localhost:8080/"
        },
        "outputId": "39cfc104-ee21-4c9f-dd97-63545c59077b"
      },
      "outputs": [
        {
          "output_type": "execute_result",
          "data": {
            "text/plain": [
              "{'pchembl_value': 5.55,\n",
              " 'standard_value': 2810.0,\n",
              " 'standard_units': 'nM',\n",
              " 'standard_relation': '=',\n",
              " 'standard_type': 'Ki'}"
            ]
          },
          "metadata": {},
          "execution_count": 81
        }
      ],
      "source": [
        "#We can get the properties as a dictionnary\n",
        "mols[10].GetPropsAsDict()"
      ]
    },
    {
      "cell_type": "markdown",
      "id": "7f402b2c-2161-4ef7-876d-96d026e519d2",
      "metadata": {
        "id": "7f402b2c-2161-4ef7-876d-96d026e519d2"
      },
      "source": [
        "# Table shape"
      ]
    },
    {
      "cell_type": "code",
      "execution_count": 82,
      "id": "3460e1e7-4787-4592-9265-63ed42b2942e",
      "metadata": {
        "id": "3460e1e7-4787-4592-9265-63ed42b2942e",
        "colab": {
          "base_uri": "https://localhost:8080/",
          "height": 206
        },
        "outputId": "5d1f8fe0-85a1-427c-b686-3585b2f3178f"
      },
      "outputs": [
        {
          "output_type": "execute_result",
          "data": {
            "text/plain": [
              "  compound_chembl_id                             canonical_smiles  \\\n",
              "0         CHEMBL1054  NS(=O)(=O)c1cc2c(cc1Cl)NC(C(Cl)Cl)NS2(=O)=O   \n",
              "1         CHEMBL1055   NS(=O)(=O)c1cc(C2(O)NC(=O)c3ccccc32)ccc1Cl   \n",
              "2       CHEMBL106848                     NS(=O)(=O)c1ccc(SCCO)cc1   \n",
              "3       CHEMBL107217                       CCN(CC)C(=S)[S-].[Na+]   \n",
              "4      CHEMBL1081233                              CCCCC(CC)C(N)=O   \n",
              "\n",
              "   pchembl_value  standard_value standard_units standard_relation  \\\n",
              "0           7.04            91.0             nM                 =   \n",
              "1           6.86           138.0             nM                 =   \n",
              "2           7.68            21.0             nM                 =   \n",
              "3           5.51          3100.0             nM                 =   \n",
              "4           5.46          3450.0             nM                 =   \n",
              "\n",
              "  standard_type  \n",
              "0            Ki  \n",
              "1            Ki  \n",
              "2            Ki  \n",
              "3            Ki  \n",
              "4            Ki  "
            ],
            "text/html": [
              "\n",
              "  <div id=\"df-56d78981-b1e8-485d-a42e-691ed943c151\" class=\"colab-df-container\">\n",
              "    <div>\n",
              "<style scoped>\n",
              "    .dataframe tbody tr th:only-of-type {\n",
              "        vertical-align: middle;\n",
              "    }\n",
              "\n",
              "    .dataframe tbody tr th {\n",
              "        vertical-align: top;\n",
              "    }\n",
              "\n",
              "    .dataframe thead th {\n",
              "        text-align: right;\n",
              "    }\n",
              "</style>\n",
              "<table border=\"1\" class=\"dataframe\">\n",
              "  <thead>\n",
              "    <tr style=\"text-align: right;\">\n",
              "      <th></th>\n",
              "      <th>compound_chembl_id</th>\n",
              "      <th>canonical_smiles</th>\n",
              "      <th>pchembl_value</th>\n",
              "      <th>standard_value</th>\n",
              "      <th>standard_units</th>\n",
              "      <th>standard_relation</th>\n",
              "      <th>standard_type</th>\n",
              "    </tr>\n",
              "  </thead>\n",
              "  <tbody>\n",
              "    <tr>\n",
              "      <th>0</th>\n",
              "      <td>CHEMBL1054</td>\n",
              "      <td>NS(=O)(=O)c1cc2c(cc1Cl)NC(C(Cl)Cl)NS2(=O)=O</td>\n",
              "      <td>7.04</td>\n",
              "      <td>91.0</td>\n",
              "      <td>nM</td>\n",
              "      <td>=</td>\n",
              "      <td>Ki</td>\n",
              "    </tr>\n",
              "    <tr>\n",
              "      <th>1</th>\n",
              "      <td>CHEMBL1055</td>\n",
              "      <td>NS(=O)(=O)c1cc(C2(O)NC(=O)c3ccccc32)ccc1Cl</td>\n",
              "      <td>6.86</td>\n",
              "      <td>138.0</td>\n",
              "      <td>nM</td>\n",
              "      <td>=</td>\n",
              "      <td>Ki</td>\n",
              "    </tr>\n",
              "    <tr>\n",
              "      <th>2</th>\n",
              "      <td>CHEMBL106848</td>\n",
              "      <td>NS(=O)(=O)c1ccc(SCCO)cc1</td>\n",
              "      <td>7.68</td>\n",
              "      <td>21.0</td>\n",
              "      <td>nM</td>\n",
              "      <td>=</td>\n",
              "      <td>Ki</td>\n",
              "    </tr>\n",
              "    <tr>\n",
              "      <th>3</th>\n",
              "      <td>CHEMBL107217</td>\n",
              "      <td>CCN(CC)C(=S)[S-].[Na+]</td>\n",
              "      <td>5.51</td>\n",
              "      <td>3100.0</td>\n",
              "      <td>nM</td>\n",
              "      <td>=</td>\n",
              "      <td>Ki</td>\n",
              "    </tr>\n",
              "    <tr>\n",
              "      <th>4</th>\n",
              "      <td>CHEMBL1081233</td>\n",
              "      <td>CCCCC(CC)C(N)=O</td>\n",
              "      <td>5.46</td>\n",
              "      <td>3450.0</td>\n",
              "      <td>nM</td>\n",
              "      <td>=</td>\n",
              "      <td>Ki</td>\n",
              "    </tr>\n",
              "  </tbody>\n",
              "</table>\n",
              "</div>\n",
              "    <div class=\"colab-df-buttons\">\n",
              "\n",
              "  <div class=\"colab-df-container\">\n",
              "    <button class=\"colab-df-convert\" onclick=\"convertToInteractive('df-56d78981-b1e8-485d-a42e-691ed943c151')\"\n",
              "            title=\"Convert this dataframe to an interactive table.\"\n",
              "            style=\"display:none;\">\n",
              "\n",
              "  <svg xmlns=\"http://www.w3.org/2000/svg\" height=\"24px\" viewBox=\"0 -960 960 960\">\n",
              "    <path d=\"M120-120v-720h720v720H120Zm60-500h600v-160H180v160Zm220 220h160v-160H400v160Zm0 220h160v-160H400v160ZM180-400h160v-160H180v160Zm440 0h160v-160H620v160ZM180-180h160v-160H180v160Zm440 0h160v-160H620v160Z\"/>\n",
              "  </svg>\n",
              "    </button>\n",
              "\n",
              "  <style>\n",
              "    .colab-df-container {\n",
              "      display:flex;\n",
              "      gap: 12px;\n",
              "    }\n",
              "\n",
              "    .colab-df-convert {\n",
              "      background-color: #E8F0FE;\n",
              "      border: none;\n",
              "      border-radius: 50%;\n",
              "      cursor: pointer;\n",
              "      display: none;\n",
              "      fill: #1967D2;\n",
              "      height: 32px;\n",
              "      padding: 0 0 0 0;\n",
              "      width: 32px;\n",
              "    }\n",
              "\n",
              "    .colab-df-convert:hover {\n",
              "      background-color: #E2EBFA;\n",
              "      box-shadow: 0px 1px 2px rgba(60, 64, 67, 0.3), 0px 1px 3px 1px rgba(60, 64, 67, 0.15);\n",
              "      fill: #174EA6;\n",
              "    }\n",
              "\n",
              "    .colab-df-buttons div {\n",
              "      margin-bottom: 4px;\n",
              "    }\n",
              "\n",
              "    [theme=dark] .colab-df-convert {\n",
              "      background-color: #3B4455;\n",
              "      fill: #D2E3FC;\n",
              "    }\n",
              "\n",
              "    [theme=dark] .colab-df-convert:hover {\n",
              "      background-color: #434B5C;\n",
              "      box-shadow: 0px 1px 3px 1px rgba(0, 0, 0, 0.15);\n",
              "      filter: drop-shadow(0px 1px 2px rgba(0, 0, 0, 0.3));\n",
              "      fill: #FFFFFF;\n",
              "    }\n",
              "  </style>\n",
              "\n",
              "    <script>\n",
              "      const buttonEl =\n",
              "        document.querySelector('#df-56d78981-b1e8-485d-a42e-691ed943c151 button.colab-df-convert');\n",
              "      buttonEl.style.display =\n",
              "        google.colab.kernel.accessAllowed ? 'block' : 'none';\n",
              "\n",
              "      async function convertToInteractive(key) {\n",
              "        const element = document.querySelector('#df-56d78981-b1e8-485d-a42e-691ed943c151');\n",
              "        const dataTable =\n",
              "          await google.colab.kernel.invokeFunction('convertToInteractive',\n",
              "                                                    [key], {});\n",
              "        if (!dataTable) return;\n",
              "\n",
              "        const docLinkHtml = 'Like what you see? Visit the ' +\n",
              "          '<a target=\"_blank\" href=https://colab.research.google.com/notebooks/data_table.ipynb>data table notebook</a>'\n",
              "          + ' to learn more about interactive tables.';\n",
              "        element.innerHTML = '';\n",
              "        dataTable['output_type'] = 'display_data';\n",
              "        await google.colab.output.renderOutput(dataTable, element);\n",
              "        const docLink = document.createElement('div');\n",
              "        docLink.innerHTML = docLinkHtml;\n",
              "        element.appendChild(docLink);\n",
              "      }\n",
              "    </script>\n",
              "  </div>\n",
              "\n",
              "\n",
              "<div id=\"df-80c2445a-a35b-40b0-92f0-ad296f09d3a9\">\n",
              "  <button class=\"colab-df-quickchart\" onclick=\"quickchart('df-80c2445a-a35b-40b0-92f0-ad296f09d3a9')\"\n",
              "            title=\"Suggest charts\"\n",
              "            style=\"display:none;\">\n",
              "\n",
              "<svg xmlns=\"http://www.w3.org/2000/svg\" height=\"24px\"viewBox=\"0 0 24 24\"\n",
              "     width=\"24px\">\n",
              "    <g>\n",
              "        <path d=\"M19 3H5c-1.1 0-2 .9-2 2v14c0 1.1.9 2 2 2h14c1.1 0 2-.9 2-2V5c0-1.1-.9-2-2-2zM9 17H7v-7h2v7zm4 0h-2V7h2v10zm4 0h-2v-4h2v4z\"/>\n",
              "    </g>\n",
              "</svg>\n",
              "  </button>\n",
              "\n",
              "<style>\n",
              "  .colab-df-quickchart {\n",
              "      --bg-color: #E8F0FE;\n",
              "      --fill-color: #1967D2;\n",
              "      --hover-bg-color: #E2EBFA;\n",
              "      --hover-fill-color: #174EA6;\n",
              "      --disabled-fill-color: #AAA;\n",
              "      --disabled-bg-color: #DDD;\n",
              "  }\n",
              "\n",
              "  [theme=dark] .colab-df-quickchart {\n",
              "      --bg-color: #3B4455;\n",
              "      --fill-color: #D2E3FC;\n",
              "      --hover-bg-color: #434B5C;\n",
              "      --hover-fill-color: #FFFFFF;\n",
              "      --disabled-bg-color: #3B4455;\n",
              "      --disabled-fill-color: #666;\n",
              "  }\n",
              "\n",
              "  .colab-df-quickchart {\n",
              "    background-color: var(--bg-color);\n",
              "    border: none;\n",
              "    border-radius: 50%;\n",
              "    cursor: pointer;\n",
              "    display: none;\n",
              "    fill: var(--fill-color);\n",
              "    height: 32px;\n",
              "    padding: 0;\n",
              "    width: 32px;\n",
              "  }\n",
              "\n",
              "  .colab-df-quickchart:hover {\n",
              "    background-color: var(--hover-bg-color);\n",
              "    box-shadow: 0 1px 2px rgba(60, 64, 67, 0.3), 0 1px 3px 1px rgba(60, 64, 67, 0.15);\n",
              "    fill: var(--button-hover-fill-color);\n",
              "  }\n",
              "\n",
              "  .colab-df-quickchart-complete:disabled,\n",
              "  .colab-df-quickchart-complete:disabled:hover {\n",
              "    background-color: var(--disabled-bg-color);\n",
              "    fill: var(--disabled-fill-color);\n",
              "    box-shadow: none;\n",
              "  }\n",
              "\n",
              "  .colab-df-spinner {\n",
              "    border: 2px solid var(--fill-color);\n",
              "    border-color: transparent;\n",
              "    border-bottom-color: var(--fill-color);\n",
              "    animation:\n",
              "      spin 1s steps(1) infinite;\n",
              "  }\n",
              "\n",
              "  @keyframes spin {\n",
              "    0% {\n",
              "      border-color: transparent;\n",
              "      border-bottom-color: var(--fill-color);\n",
              "      border-left-color: var(--fill-color);\n",
              "    }\n",
              "    20% {\n",
              "      border-color: transparent;\n",
              "      border-left-color: var(--fill-color);\n",
              "      border-top-color: var(--fill-color);\n",
              "    }\n",
              "    30% {\n",
              "      border-color: transparent;\n",
              "      border-left-color: var(--fill-color);\n",
              "      border-top-color: var(--fill-color);\n",
              "      border-right-color: var(--fill-color);\n",
              "    }\n",
              "    40% {\n",
              "      border-color: transparent;\n",
              "      border-right-color: var(--fill-color);\n",
              "      border-top-color: var(--fill-color);\n",
              "    }\n",
              "    60% {\n",
              "      border-color: transparent;\n",
              "      border-right-color: var(--fill-color);\n",
              "    }\n",
              "    80% {\n",
              "      border-color: transparent;\n",
              "      border-right-color: var(--fill-color);\n",
              "      border-bottom-color: var(--fill-color);\n",
              "    }\n",
              "    90% {\n",
              "      border-color: transparent;\n",
              "      border-bottom-color: var(--fill-color);\n",
              "    }\n",
              "  }\n",
              "</style>\n",
              "\n",
              "  <script>\n",
              "    async function quickchart(key) {\n",
              "      const quickchartButtonEl =\n",
              "        document.querySelector('#' + key + ' button');\n",
              "      quickchartButtonEl.disabled = true;  // To prevent multiple clicks.\n",
              "      quickchartButtonEl.classList.add('colab-df-spinner');\n",
              "      try {\n",
              "        const charts = await google.colab.kernel.invokeFunction(\n",
              "            'suggestCharts', [key], {});\n",
              "      } catch (error) {\n",
              "        console.error('Error during call to suggestCharts:', error);\n",
              "      }\n",
              "      quickchartButtonEl.classList.remove('colab-df-spinner');\n",
              "      quickchartButtonEl.classList.add('colab-df-quickchart-complete');\n",
              "    }\n",
              "    (() => {\n",
              "      let quickchartButtonEl =\n",
              "        document.querySelector('#df-80c2445a-a35b-40b0-92f0-ad296f09d3a9 button');\n",
              "      quickchartButtonEl.style.display =\n",
              "        google.colab.kernel.accessAllowed ? 'block' : 'none';\n",
              "    })();\n",
              "  </script>\n",
              "</div>\n",
              "\n",
              "    </div>\n",
              "  </div>\n"
            ],
            "application/vnd.google.colaboratory.intrinsic+json": {
              "type": "dataframe",
              "summary": "{\n  \"name\": \"# The field standard_value holds standardized (here IC50) values\",\n  \"rows\": 5,\n  \"fields\": [\n    {\n      \"column\": \"compound_chembl_id\",\n      \"properties\": {\n        \"dtype\": \"string\",\n        \"num_unique_values\": 5,\n        \"samples\": [\n          \"CHEMBL1055\",\n          \"CHEMBL1081233\",\n          \"CHEMBL106848\"\n        ],\n        \"semantic_type\": \"\",\n        \"description\": \"\"\n      }\n    },\n    {\n      \"column\": \"canonical_smiles\",\n      \"properties\": {\n        \"dtype\": \"string\",\n        \"num_unique_values\": 5,\n        \"samples\": [\n          \"NS(=O)(=O)c1cc(C2(O)NC(=O)c3ccccc32)ccc1Cl\",\n          \"CCCCC(CC)C(N)=O\",\n          \"NS(=O)(=O)c1ccc(SCCO)cc1\"\n        ],\n        \"semantic_type\": \"\",\n        \"description\": \"\"\n      }\n    },\n    {\n      \"column\": \"pchembl_value\",\n      \"properties\": {\n        \"dtype\": \"number\",\n        \"std\": 0.9842255838983256,\n        \"min\": 5.46,\n        \"max\": 7.68,\n        \"num_unique_values\": 5,\n        \"samples\": [\n          6.86,\n          5.46,\n          7.68\n        ],\n        \"semantic_type\": \"\",\n        \"description\": \"\"\n      }\n    },\n    {\n      \"column\": \"standard_value\",\n      \"properties\": {\n        \"dtype\": \"number\",\n        \"std\": 1753.0164003796428,\n        \"min\": 21.0,\n        \"max\": 3450.0,\n        \"num_unique_values\": 5,\n        \"samples\": [\n          138.0,\n          3450.0,\n          21.0\n        ],\n        \"semantic_type\": \"\",\n        \"description\": \"\"\n      }\n    },\n    {\n      \"column\": \"standard_units\",\n      \"properties\": {\n        \"dtype\": \"category\",\n        \"num_unique_values\": 1,\n        \"samples\": [\n          \"nM\"\n        ],\n        \"semantic_type\": \"\",\n        \"description\": \"\"\n      }\n    },\n    {\n      \"column\": \"standard_relation\",\n      \"properties\": {\n        \"dtype\": \"category\",\n        \"num_unique_values\": 1,\n        \"samples\": [\n          \"=\"\n        ],\n        \"semantic_type\": \"\",\n        \"description\": \"\"\n      }\n    },\n    {\n      \"column\": \"standard_type\",\n      \"properties\": {\n        \"dtype\": \"category\",\n        \"num_unique_values\": 1,\n        \"samples\": [\n          \"Ki\"\n        ],\n        \"semantic_type\": \"\",\n        \"description\": \"\"\n      }\n    }\n  ]\n}"
            }
          },
          "metadata": {},
          "execution_count": 82
        }
      ],
      "source": [
        "#We put the data in a dataframe (it is a table)\n",
        "df = pd.read_csv('target_CHEMBL205.csv.gz')\n",
        "df.head() #shows the first 5 rows of the df\n",
        "\n",
        "# The pChEMBL value is currently defined as follows: −log10 (molar IC50, XC50, EC50, AC50, Ki, Kd or Potency).\n",
        "# The field standard_value holds standardized (here IC50) values"
      ]
    },
    {
      "cell_type": "code",
      "execution_count": 83,
      "id": "ec6b613f-8c08-4e24-a6ea-a17fa8667c4a",
      "metadata": {
        "id": "ec6b613f-8c08-4e24-a6ea-a17fa8667c4a",
        "colab": {
          "base_uri": "https://localhost:8080/",
          "height": 1000
        },
        "outputId": "b9862eec-0687-48e9-cd31-12050bf8814b"
      },
      "outputs": [
        {
          "output_type": "execute_result",
          "data": {
            "text/plain": [
              "  compound_chembl_id                             canonical_smiles  \\\n",
              "0         CHEMBL1054  NS(=O)(=O)c1cc2c(cc1Cl)NC(C(Cl)Cl)NS2(=O)=O   \n",
              "1         CHEMBL1055   NS(=O)(=O)c1cc(C2(O)NC(=O)c3ccccc32)ccc1Cl   \n",
              "2       CHEMBL106848                     NS(=O)(=O)c1ccc(SCCO)cc1   \n",
              "3       CHEMBL107217                       CCN(CC)C(=S)[S-].[Na+]   \n",
              "4      CHEMBL1081233                              CCCCC(CC)C(N)=O   \n",
              "\n",
              "   pchembl_value  standard_value standard_units standard_relation  \\\n",
              "0           7.04            91.0             nM                 =   \n",
              "1           6.86           138.0             nM                 =   \n",
              "2           7.68            21.0             nM                 =   \n",
              "3           5.51          3100.0             nM                 =   \n",
              "4           5.46          3450.0             nM                 =   \n",
              "\n",
              "  standard_type                                             ROMol  \n",
              "0            Ki  <rdkit.Chem.rdchem.Mol object at 0x79242f2d6c00>  \n",
              "1            Ki  <rdkit.Chem.rdchem.Mol object at 0x79242f2d6c70>  \n",
              "2            Ki  <rdkit.Chem.rdchem.Mol object at 0x79242f2d6d50>  \n",
              "3            Ki  <rdkit.Chem.rdchem.Mol object at 0x79242f2d6dc0>  \n",
              "4            Ki  <rdkit.Chem.rdchem.Mol object at 0x79242f2d6e30>  "
            ],
            "text/html": [
              "\n",
              "  <div id=\"df-452d66ea-18e7-4716-b0af-cc2abda5a0a5\" class=\"colab-df-container\">\n",
              "    <div>\n",
              "<style scoped>\n",
              "    .dataframe tbody tr th:only-of-type {\n",
              "        vertical-align: middle;\n",
              "    }\n",
              "\n",
              "    .dataframe tbody tr th {\n",
              "        vertical-align: top;\n",
              "    }\n",
              "\n",
              "    .dataframe thead th {\n",
              "        text-align: right;\n",
              "    }\n",
              "</style>\n",
              "<table border=\"1\" class=\"dataframe\">\n",
              "  <thead>\n",
              "    <tr style=\"text-align: right;\">\n",
              "      <th></th>\n",
              "      <th>compound_chembl_id</th>\n",
              "      <th>canonical_smiles</th>\n",
              "      <th>pchembl_value</th>\n",
              "      <th>standard_value</th>\n",
              "      <th>standard_units</th>\n",
              "      <th>standard_relation</th>\n",
              "      <th>standard_type</th>\n",
              "      <th>ROMol</th>\n",
              "    </tr>\n",
              "  </thead>\n",
              "  <tbody>\n",
              "    <tr>\n",
              "      <th>0</th>\n",
              "      <td>CHEMBL1054</td>\n",
              "      <td>NS(=O)(=O)c1cc2c(cc1Cl)NC(C(Cl)Cl)NS2(=O)=O</td>\n",
              "      <td>7.04</td>\n",
              "      <td>91.0</td>\n",
              "      <td>nM</td>\n",
              "      <td>=</td>\n",
              "      <td>Ki</td>\n",
              "      <td style=\"text-align: center;\"><div style=\"width: 200px; height: 200px\" data-content=\"rdkit/molecule\"><img src=\"data:image/png;base64,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\" alt=\"Mol\"/></div></td>\n",
              "    </tr>\n",
              "    <tr>\n",
              "      <th>1</th>\n",
              "      <td>CHEMBL1055</td>\n",
              "      <td>NS(=O)(=O)c1cc(C2(O)NC(=O)c3ccccc32)ccc1Cl</td>\n",
              "      <td>6.86</td>\n",
              "      <td>138.0</td>\n",
              "      <td>nM</td>\n",
              "      <td>=</td>\n",
              "      <td>Ki</td>\n",
              "      <td style=\"text-align: center;\"><div style=\"width: 200px; height: 200px\" data-content=\"rdkit/molecule\"><img src=\"data:image/png;base64,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\" alt=\"Mol\"/></div></td>\n",
              "    </tr>\n",
              "    <tr>\n",
              "      <th>2</th>\n",
              "      <td>CHEMBL106848</td>\n",
              "      <td>NS(=O)(=O)c1ccc(SCCO)cc1</td>\n",
              "      <td>7.68</td>\n",
              "      <td>21.0</td>\n",
              "      <td>nM</td>\n",
              "      <td>=</td>\n",
              "      <td>Ki</td>\n",
              "      <td style=\"text-align: center;\"><div style=\"width: 200px; height: 200px\" data-content=\"rdkit/molecule\"><img src=\"data:image/png;base64,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\" alt=\"Mol\"/></div></td>\n",
              "    </tr>\n",
              "    <tr>\n",
              "      <th>3</th>\n",
              "      <td>CHEMBL107217</td>\n",
              "      <td>CCN(CC)C(=S)[S-].[Na+]</td>\n",
              "      <td>5.51</td>\n",
              "      <td>3100.0</td>\n",
              "      <td>nM</td>\n",
              "      <td>=</td>\n",
              "      <td>Ki</td>\n",
              "      <td style=\"text-align: center;\"><div style=\"width: 200px; height: 200px\" data-content=\"rdkit/molecule\"><img src=\"data:image/png;base64,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\" alt=\"Mol\"/></div></td>\n",
              "    </tr>\n",
              "    <tr>\n",
              "      <th>4</th>\n",
              "      <td>CHEMBL1081233</td>\n",
              "      <td>CCCCC(CC)C(N)=O</td>\n",
              "      <td>5.46</td>\n",
              "      <td>3450.0</td>\n",
              "      <td>nM</td>\n",
              "      <td>=</td>\n",
              "      <td>Ki</td>\n",
              "      <td style=\"text-align: center;\"><div style=\"width: 200px; height: 200px\" data-content=\"rdkit/molecule\"><img src=\"data:image/png;base64,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\" alt=\"Mol\"/></div></td>\n",
              "    </tr>\n",
              "  </tbody>\n",
              "</table>\n",
              "</div>\n",
              "    <div class=\"colab-df-buttons\">\n",
              "\n",
              "  <div class=\"colab-df-container\">\n",
              "    <button class=\"colab-df-convert\" onclick=\"convertToInteractive('df-452d66ea-18e7-4716-b0af-cc2abda5a0a5')\"\n",
              "            title=\"Convert this dataframe to an interactive table.\"\n",
              "            style=\"display:none;\">\n",
              "\n",
              "  <svg xmlns=\"http://www.w3.org/2000/svg\" height=\"24px\" viewBox=\"0 -960 960 960\">\n",
              "    <path d=\"M120-120v-720h720v720H120Zm60-500h600v-160H180v160Zm220 220h160v-160H400v160Zm0 220h160v-160H400v160ZM180-400h160v-160H180v160Zm440 0h160v-160H620v160ZM180-180h160v-160H180v160Zm440 0h160v-160H620v160Z\"/>\n",
              "  </svg>\n",
              "    </button>\n",
              "\n",
              "  <style>\n",
              "    .colab-df-container {\n",
              "      display:flex;\n",
              "      gap: 12px;\n",
              "    }\n",
              "\n",
              "    .colab-df-convert {\n",
              "      background-color: #E8F0FE;\n",
              "      border: none;\n",
              "      border-radius: 50%;\n",
              "      cursor: pointer;\n",
              "      display: none;\n",
              "      fill: #1967D2;\n",
              "      height: 32px;\n",
              "      padding: 0 0 0 0;\n",
              "      width: 32px;\n",
              "    }\n",
              "\n",
              "    .colab-df-convert:hover {\n",
              "      background-color: #E2EBFA;\n",
              "      box-shadow: 0px 1px 2px rgba(60, 64, 67, 0.3), 0px 1px 3px 1px rgba(60, 64, 67, 0.15);\n",
              "      fill: #174EA6;\n",
              "    }\n",
              "\n",
              "    .colab-df-buttons div {\n",
              "      margin-bottom: 4px;\n",
              "    }\n",
              "\n",
              "    [theme=dark] .colab-df-convert {\n",
              "      background-color: #3B4455;\n",
              "      fill: #D2E3FC;\n",
              "    }\n",
              "\n",
              "    [theme=dark] .colab-df-convert:hover {\n",
              "      background-color: #434B5C;\n",
              "      box-shadow: 0px 1px 3px 1px rgba(0, 0, 0, 0.15);\n",
              "      filter: drop-shadow(0px 1px 2px rgba(0, 0, 0, 0.3));\n",
              "      fill: #FFFFFF;\n",
              "    }\n",
              "  </style>\n",
              "\n",
              "    <script>\n",
              "      const buttonEl =\n",
              "        document.querySelector('#df-452d66ea-18e7-4716-b0af-cc2abda5a0a5 button.colab-df-convert');\n",
              "      buttonEl.style.display =\n",
              "        google.colab.kernel.accessAllowed ? 'block' : 'none';\n",
              "\n",
              "      async function convertToInteractive(key) {\n",
              "        const element = document.querySelector('#df-452d66ea-18e7-4716-b0af-cc2abda5a0a5');\n",
              "        const dataTable =\n",
              "          await google.colab.kernel.invokeFunction('convertToInteractive',\n",
              "                                                    [key], {});\n",
              "        if (!dataTable) return;\n",
              "\n",
              "        const docLinkHtml = 'Like what you see? Visit the ' +\n",
              "          '<a target=\"_blank\" href=https://colab.research.google.com/notebooks/data_table.ipynb>data table notebook</a>'\n",
              "          + ' to learn more about interactive tables.';\n",
              "        element.innerHTML = '';\n",
              "        dataTable['output_type'] = 'display_data';\n",
              "        await google.colab.output.renderOutput(dataTable, element);\n",
              "        const docLink = document.createElement('div');\n",
              "        docLink.innerHTML = docLinkHtml;\n",
              "        element.appendChild(docLink);\n",
              "      }\n",
              "    </script>\n",
              "  </div>\n",
              "\n",
              "\n",
              "<div id=\"df-c4993d26-e556-4c4e-a613-8385499c00b6\">\n",
              "  <button class=\"colab-df-quickchart\" onclick=\"quickchart('df-c4993d26-e556-4c4e-a613-8385499c00b6')\"\n",
              "            title=\"Suggest charts\"\n",
              "            style=\"display:none;\">\n",
              "\n",
              "<svg xmlns=\"http://www.w3.org/2000/svg\" height=\"24px\"viewBox=\"0 0 24 24\"\n",
              "     width=\"24px\">\n",
              "    <g>\n",
              "        <path d=\"M19 3H5c-1.1 0-2 .9-2 2v14c0 1.1.9 2 2 2h14c1.1 0 2-.9 2-2V5c0-1.1-.9-2-2-2zM9 17H7v-7h2v7zm4 0h-2V7h2v10zm4 0h-2v-4h2v4z\"/>\n",
              "    </g>\n",
              "</svg>\n",
              "  </button>\n",
              "\n",
              "<style>\n",
              "  .colab-df-quickchart {\n",
              "      --bg-color: #E8F0FE;\n",
              "      --fill-color: #1967D2;\n",
              "      --hover-bg-color: #E2EBFA;\n",
              "      --hover-fill-color: #174EA6;\n",
              "      --disabled-fill-color: #AAA;\n",
              "      --disabled-bg-color: #DDD;\n",
              "  }\n",
              "\n",
              "  [theme=dark] .colab-df-quickchart {\n",
              "      --bg-color: #3B4455;\n",
              "      --fill-color: #D2E3FC;\n",
              "      --hover-bg-color: #434B5C;\n",
              "      --hover-fill-color: #FFFFFF;\n",
              "      --disabled-bg-color: #3B4455;\n",
              "      --disabled-fill-color: #666;\n",
              "  }\n",
              "\n",
              "  .colab-df-quickchart {\n",
              "    background-color: var(--bg-color);\n",
              "    border: none;\n",
              "    border-radius: 50%;\n",
              "    cursor: pointer;\n",
              "    display: none;\n",
              "    fill: var(--fill-color);\n",
              "    height: 32px;\n",
              "    padding: 0;\n",
              "    width: 32px;\n",
              "  }\n",
              "\n",
              "  .colab-df-quickchart:hover {\n",
              "    background-color: var(--hover-bg-color);\n",
              "    box-shadow: 0 1px 2px rgba(60, 64, 67, 0.3), 0 1px 3px 1px rgba(60, 64, 67, 0.15);\n",
              "    fill: var(--button-hover-fill-color);\n",
              "  }\n",
              "\n",
              "  .colab-df-quickchart-complete:disabled,\n",
              "  .colab-df-quickchart-complete:disabled:hover {\n",
              "    background-color: var(--disabled-bg-color);\n",
              "    fill: var(--disabled-fill-color);\n",
              "    box-shadow: none;\n",
              "  }\n",
              "\n",
              "  .colab-df-spinner {\n",
              "    border: 2px solid var(--fill-color);\n",
              "    border-color: transparent;\n",
              "    border-bottom-color: var(--fill-color);\n",
              "    animation:\n",
              "      spin 1s steps(1) infinite;\n",
              "  }\n",
              "\n",
              "  @keyframes spin {\n",
              "    0% {\n",
              "      border-color: transparent;\n",
              "      border-bottom-color: var(--fill-color);\n",
              "      border-left-color: var(--fill-color);\n",
              "    }\n",
              "    20% {\n",
              "      border-color: transparent;\n",
              "      border-left-color: var(--fill-color);\n",
              "      border-top-color: var(--fill-color);\n",
              "    }\n",
              "    30% {\n",
              "      border-color: transparent;\n",
              "      border-left-color: var(--fill-color);\n",
              "      border-top-color: var(--fill-color);\n",
              "      border-right-color: var(--fill-color);\n",
              "    }\n",
              "    40% {\n",
              "      border-color: transparent;\n",
              "      border-right-color: var(--fill-color);\n",
              "      border-top-color: var(--fill-color);\n",
              "    }\n",
              "    60% {\n",
              "      border-color: transparent;\n",
              "      border-right-color: var(--fill-color);\n",
              "    }\n",
              "    80% {\n",
              "      border-color: transparent;\n",
              "      border-right-color: var(--fill-color);\n",
              "      border-bottom-color: var(--fill-color);\n",
              "    }\n",
              "    90% {\n",
              "      border-color: transparent;\n",
              "      border-bottom-color: var(--fill-color);\n",
              "    }\n",
              "  }\n",
              "</style>\n",
              "\n",
              "  <script>\n",
              "    async function quickchart(key) {\n",
              "      const quickchartButtonEl =\n",
              "        document.querySelector('#' + key + ' button');\n",
              "      quickchartButtonEl.disabled = true;  // To prevent multiple clicks.\n",
              "      quickchartButtonEl.classList.add('colab-df-spinner');\n",
              "      try {\n",
              "        const charts = await google.colab.kernel.invokeFunction(\n",
              "            'suggestCharts', [key], {});\n",
              "      } catch (error) {\n",
              "        console.error('Error during call to suggestCharts:', error);\n",
              "      }\n",
              "      quickchartButtonEl.classList.remove('colab-df-spinner');\n",
              "      quickchartButtonEl.classList.add('colab-df-quickchart-complete');\n",
              "    }\n",
              "    (() => {\n",
              "      let quickchartButtonEl =\n",
              "        document.querySelector('#df-c4993d26-e556-4c4e-a613-8385499c00b6 button');\n",
              "      quickchartButtonEl.style.display =\n",
              "        google.colab.kernel.accessAllowed ? 'block' : 'none';\n",
              "    })();\n",
              "  </script>\n",
              "</div>\n",
              "\n",
              "    </div>\n",
              "  </div>\n"
            ],
            "application/vnd.google.colaboratory.intrinsic+json": {
              "type": "dataframe",
              "variable_name": "df",
              "summary": "{\n  \"name\": \"df\",\n  \"rows\": 4511,\n  \"fields\": [\n    {\n      \"column\": \"compound_chembl_id\",\n      \"properties\": {\n        \"dtype\": \"string\",\n        \"num_unique_values\": 4511,\n        \"samples\": [\n          \"CHEMBL3400802\",\n          \"CHEMBL191576\",\n          \"CHEMBL1270939\"\n        ],\n        \"semantic_type\": \"\",\n        \"description\": \"\"\n      }\n    },\n    {\n      \"column\": \"canonical_smiles\",\n      \"properties\": {\n        \"dtype\": \"string\",\n        \"num_unique_values\": 4511,\n        \"samples\": [\n          \"S=C([S-])N[C@H]1CN2CCC1CC2.[Na+]\",\n          \"CCN(CC)c1nc(Nc2ccc(S(N)(=O)=O)cc2)nc(N(CC)CC)n1\",\n          \"Cc1c(C(=O)NCCN(C)C)cc(-c2ccc(-c3ccccc3)cc2)n1-c1ccc(S(N)(=O)=O)cc1\"\n        ],\n        \"semantic_type\": \"\",\n        \"description\": \"\"\n      }\n    },\n    {\n      \"column\": \"pchembl_value\",\n      \"properties\": {\n        \"dtype\": \"number\",\n        \"std\": 1.1866096698973738,\n        \"min\": 4.0,\n        \"max\": 11.0,\n        \"num_unique_values\": 532,\n        \"samples\": [\n          6.85,\n          7.63,\n          6.9\n        ],\n        \"semantic_type\": \"\",\n        \"description\": \"\"\n      }\n    },\n    {\n      \"column\": \"standard_value\",\n      \"properties\": {\n        \"dtype\": \"number\",\n        \"std\": 10377.52916863089,\n        \"min\": 0.01,\n        \"max\": 100000.0,\n        \"num_unique_values\": 2165,\n        \"samples\": [\n          53.1,\n          707.8,\n          249.3\n        ],\n        \"semantic_type\": \"\",\n        \"description\": \"\"\n      }\n    },\n    {\n      \"column\": \"standard_units\",\n      \"properties\": {\n        \"dtype\": \"category\",\n        \"num_unique_values\": 1,\n        \"samples\": [\n          \"nM\"\n        ],\n        \"semantic_type\": \"\",\n        \"description\": \"\"\n      }\n    },\n    {\n      \"column\": \"standard_relation\",\n      \"properties\": {\n        \"dtype\": \"category\",\n        \"num_unique_values\": 1,\n        \"samples\": [\n          \"=\"\n        ],\n        \"semantic_type\": \"\",\n        \"description\": \"\"\n      }\n    },\n    {\n      \"column\": \"standard_type\",\n      \"properties\": {\n        \"dtype\": \"category\",\n        \"num_unique_values\": 1,\n        \"samples\": [\n          \"Ki\"\n        ],\n        \"semantic_type\": \"\",\n        \"description\": \"\"\n      }\n    },\n    {\n      \"column\": \"ROMol\",\n      \"properties\": {\n        \"dtype\": \"string\",\n        \"num_unique_values\": 4511,\n        \"samples\": [\n          \"<rdkit.Chem.rdchem.Mol object at 0x79242f0c7140>\"\n        ],\n        \"semantic_type\": \"\",\n        \"description\": \"\"\n      }\n    }\n  ]\n}"
            }
          },
          "metadata": {},
          "execution_count": 83
        }
      ],
      "source": [
        "#We add the visual representation in a column of the dataframe\n",
        "PandasTools.AddMoleculeColumnToFrame(df,'canonical_smiles')\n",
        "PandasTools.RenderImagesInAllDataFrames(True)\n",
        "df.head()"
      ]
    },
    {
      "cell_type": "code",
      "execution_count": 84,
      "id": "75dbc3ed-94e0-4cbc-92c3-6ef5e8611866",
      "metadata": {
        "id": "75dbc3ed-94e0-4cbc-92c3-6ef5e8611866",
        "colab": {
          "base_uri": "https://localhost:8080/"
        },
        "outputId": "ad68f8de-b4dd-4e5c-b8bb-73540a90eba4"
      },
      "outputs": [
        {
          "output_type": "execute_result",
          "data": {
            "text/plain": [
              "100000.0"
            ]
          },
          "metadata": {},
          "execution_count": 84
        }
      ],
      "source": [
        "#Get the max value to do a beautiful histogram\n",
        "max_value = df.standard_value.max()\n",
        "max_value"
      ]
    },
    {
      "cell_type": "code",
      "execution_count": 85,
      "id": "dc9c52ce-8228-40dc-a901-f95581462fb9",
      "metadata": {
        "id": "dc9c52ce-8228-40dc-a901-f95581462fb9",
        "colab": {
          "base_uri": "https://localhost:8080/",
          "height": 490
        },
        "outputId": "0a10c9f9-d170-47c1-c9d3-39fb8c3c7c33"
      },
      "outputs": [
        {
          "output_type": "display_data",
          "data": {
            "text/plain": [
              "<Figure size 640x480 with 1 Axes>"
            ],
            "image/png": "[encoded data removed]"
          },
          "metadata": {}
        },
        {
          "output_type": "display_data",
          "data": {
            "text/plain": [
              "<Figure size 900x700 with 0 Axes>"
            ]
          },
          "metadata": {}
        }
      ],
      "source": [
        "# Specifying the boundaries of each bin\n",
        "data = df.standard_value\n",
        "bins = np.arange(0, 100000, 5000)\n",
        "\n",
        "plt.hist(data, bins=bins, color='skyblue', edgecolor='black', alpha=0.7)\n",
        "plt.xlabel('Standard Values')\n",
        "plt.ylabel('Frequency')\n",
        "plt.title('Histogram of Standard Values')\n",
        "plt.grid(axis='y', linestyle='--', alpha=0.6)\n",
        "plt.figure(figsize=(9, 7))\n",
        "\n",
        "plt.show()"
      ]
    },
    {
      "cell_type": "markdown",
      "id": "79c873a4-b733-4fad-a434-43cf5e2cd48e",
      "metadata": {
        "id": "79c873a4-b733-4fad-a434-43cf5e2cd48e"
      },
      "source": [
        "Exercice : Plot the diagram with bins from 0 to 15000 and a step of 1000"
      ]
    },
    {
      "cell_type": "code",
      "execution_count": 85,
      "id": "f1810491-79e1-42fb-87da-a22947baf1fe",
      "metadata": {
        "id": "f1810491-79e1-42fb-87da-a22947baf1fe"
      },
      "outputs": [],
      "source": []
    },
    {
      "cell_type": "markdown",
      "id": "42ee8765-4574-44c1-a4ca-7b4f11141c06",
      "metadata": {
        "id": "42ee8765-4574-44c1-a4ca-7b4f11141c06"
      },
      "source": [
        "Exercice : Plot the diagram with bins from 0 to 15 and a step of 1 for the pchembl_value. Adjust the title, x and y labels."
      ]
    },
    {
      "cell_type": "code",
      "execution_count": 85,
      "id": "0afaae15-d9d8-4a11-8c8b-aa1e0005451c",
      "metadata": {
        "id": "0afaae15-d9d8-4a11-8c8b-aa1e0005451c"
      },
      "outputs": [],
      "source": []
    },
    {
      "cell_type": "markdown",
      "id": "6b9803b4-3173-46d9-900a-b47fface78d9",
      "metadata": {
        "id": "6b9803b4-3173-46d9-900a-b47fface78d9"
      },
      "source": [
        "# Working with data (calc properties of molecules)"
      ]
    },
    {
      "cell_type": "code",
      "execution_count": 86,
      "id": "b56f2904-fe5f-4239-800f-6d31f45043f9",
      "metadata": {
        "id": "b56f2904-fe5f-4239-800f-6d31f45043f9"
      },
      "outputs": [],
      "source": [
        "from rdkit.Chem.rdMolDescriptors import CalcMolFormula\n",
        "from rdkit.Chem.Descriptors import ExactMolWt\n",
        "from rdkit.Chem.Descriptors import MolWt\n",
        "from rdkit.Chem.Descriptors import MolLogP\n",
        "# example\n",
        "mol = Chem.MolFromSmiles(\"C([C@@H](C(=O)O)N)S\")\n",
        "formula = CalcMolFormula(mol)"
      ]
    },
    {
      "cell_type": "code",
      "execution_count": 87,
      "id": "3b0e280c-72f4-47a9-8b4d-d7498ca5862f",
      "metadata": {
        "id": "3b0e280c-72f4-47a9-8b4d-d7498ca5862f",
        "colab": {
          "base_uri": "https://localhost:8080/",
          "height": 36
        },
        "outputId": "e92de868-7775-4b3c-8d7d-96c75db183af"
      },
      "outputs": [
        {
          "output_type": "execute_result",
          "data": {
            "text/plain": [
              "'C3H7NO2S'"
            ],
            "application/vnd.google.colaboratory.intrinsic+json": {
              "type": "string"
            }
          },
          "metadata": {},
          "execution_count": 87
        }
      ],
      "source": [
        "formula"
      ]
    },
    {
      "cell_type": "code",
      "execution_count": 88,
      "id": "3b4c4b3b-5fd4-4a8c-a9f5-43d0efa0ded3",
      "metadata": {
        "id": "3b4c4b3b-5fd4-4a8c-a9f5-43d0efa0ded3",
        "colab": {
          "base_uri": "https://localhost:8080/"
        },
        "outputId": "89f3cdeb-91b8-4c90-cbcf-9439d484436f"
      },
      "outputs": [
        {
          "output_type": "execute_result",
          "data": {
            "text/plain": [
              "121.16099999999999"
            ]
          },
          "metadata": {},
          "execution_count": 88
        }
      ],
      "source": [
        "mol_weight = MolWt(mol)\n",
        "mol_weight"
      ]
    },
    {
      "cell_type": "code",
      "execution_count": 89,
      "id": "48da3903-2367-409d-ad14-031f059116fa",
      "metadata": {
        "id": "48da3903-2367-409d-ad14-031f059116fa",
        "colab": {
          "base_uri": "https://localhost:8080/"
        },
        "outputId": "0f9d23a3-d805-4151-f7f8-eb4e821fe6c6"
      },
      "outputs": [
        {
          "output_type": "execute_result",
          "data": {
            "text/plain": [
              "-0.6719"
            ]
          },
          "metadata": {},
          "execution_count": 89
        }
      ],
      "source": [
        "logp = MolLogP(mol)\n",
        "logp"
      ]
    },
    {
      "cell_type": "code",
      "execution_count": 90,
      "id": "d6927b08-d2d2-4ec1-9a12-78540b1a7560",
      "metadata": {
        "id": "d6927b08-d2d2-4ec1-9a12-78540b1a7560",
        "colab": {
          "base_uri": "https://localhost:8080/",
          "height": 1000
        },
        "outputId": "dcff3784-d6b3-4de5-f3a1-653f468c4417"
      },
      "outputs": [
        {
          "output_type": "execute_result",
          "data": {
            "text/plain": [
              "  compound_chembl_id                             canonical_smiles  \\\n",
              "0         CHEMBL1054  NS(=O)(=O)c1cc2c(cc1Cl)NC(C(Cl)Cl)NS2(=O)=O   \n",
              "1         CHEMBL1055   NS(=O)(=O)c1cc(C2(O)NC(=O)c3ccccc32)ccc1Cl   \n",
              "2       CHEMBL106848                     NS(=O)(=O)c1ccc(SCCO)cc1   \n",
              "3       CHEMBL107217                       CCN(CC)C(=S)[S-].[Na+]   \n",
              "4      CHEMBL1081233                              CCCCC(CC)C(N)=O   \n",
              "\n",
              "   pchembl_value  standard_value standard_units standard_relation  \\\n",
              "0           7.04            91.0             nM                 =   \n",
              "1           6.86           138.0             nM                 =   \n",
              "2           7.68            21.0             nM                 =   \n",
              "3           5.51          3100.0             nM                 =   \n",
              "4           5.46          3450.0             nM                 =   \n",
              "\n",
              "  standard_type                                             ROMol  mol_weight  \\\n",
              "0            Ki  <rdkit.Chem.rdchem.Mol object at 0x79242f2d6c00>     380.662   \n",
              "1            Ki  <rdkit.Chem.rdchem.Mol object at 0x79242f2d6c70>     338.772   \n",
              "2            Ki  <rdkit.Chem.rdchem.Mol object at 0x79242f2d6d50>     233.314   \n",
              "3            Ki  <rdkit.Chem.rdchem.Mol object at 0x79242f2d6dc0>     171.266   \n",
              "4            Ki  <rdkit.Chem.rdchem.Mol object at 0x79242f2d6e30>     143.230   \n",
              "\n",
              "     logp        formula  \n",
              "0  0.8210  C8H8Cl3N3O4S2  \n",
              "1  0.9242  C14H11ClN2O4S  \n",
              "2  0.4184     C8H11NO3S2  \n",
              "3 -1.8360     C5H10NNaS2  \n",
              "4  1.6881        C8H17NO  "
            ],
            "text/html": [
              "\n",
              "  <div id=\"df-ef89be0e-5b1d-45a5-9518-8f307de46ee0\" class=\"colab-df-container\">\n",
              "    <div>\n",
              "<style scoped>\n",
              "    .dataframe tbody tr th:only-of-type {\n",
              "        vertical-align: middle;\n",
              "    }\n",
              "\n",
              "    .dataframe tbody tr th {\n",
              "        vertical-align: top;\n",
              "    }\n",
              "\n",
              "    .dataframe thead th {\n",
              "        text-align: right;\n",
              "    }\n",
              "</style>\n",
              "<table border=\"1\" class=\"dataframe\">\n",
              "  <thead>\n",
              "    <tr style=\"text-align: right;\">\n",
              "      <th></th>\n",
              "      <th>compound_chembl_id</th>\n",
              "      <th>canonical_smiles</th>\n",
              "      <th>pchembl_value</th>\n",
              "      <th>standard_value</th>\n",
              "      <th>standard_units</th>\n",
              "      <th>standard_relation</th>\n",
              "      <th>standard_type</th>\n",
              "      <th>ROMol</th>\n",
              "      <th>mol_weight</th>\n",
              "      <th>logp</th>\n",
              "      <th>formula</th>\n",
              "    </tr>\n",
              "  </thead>\n",
              "  <tbody>\n",
              "    <tr>\n",
              "      <th>0</th>\n",
              "      <td>CHEMBL1054</td>\n",
              "      <td>NS(=O)(=O)c1cc2c(cc1Cl)NC(C(Cl)Cl)NS2(=O)=O</td>\n",
              "      <td>7.04</td>\n",
              "      <td>91.0</td>\n",
              "      <td>nM</td>\n",
              "      <td>=</td>\n",
              "      <td>Ki</td>\n",
              "      <td style=\"text-align: center;\"><div style=\"width: 200px; height: 200px\" data-content=\"rdkit/molecule\"><img src=\"data:image/png;base64,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\" alt=\"Mol\"/></div></td>\n",
              "      <td>380.662</td>\n",
              "      <td>0.8210</td>\n",
              "      <td>C8H8Cl3N3O4S2</td>\n",
              "    </tr>\n",
              "    <tr>\n",
              "      <th>1</th>\n",
              "      <td>CHEMBL1055</td>\n",
              "      <td>NS(=O)(=O)c1cc(C2(O)NC(=O)c3ccccc32)ccc1Cl</td>\n",
              "      <td>6.86</td>\n",
              "      <td>138.0</td>\n",
              "      <td>nM</td>\n",
              "      <td>=</td>\n",
              "      <td>Ki</td>\n",
              "      <td style=\"text-align: center;\"><div style=\"width: 200px; height: 200px\" data-content=\"rdkit/molecule\"><img src=\"data:image/png;base64,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\" alt=\"Mol\"/></div></td>\n",
              "      <td>338.772</td>\n",
              "      <td>0.9242</td>\n",
              "      <td>C14H11ClN2O4S</td>\n",
              "    </tr>\n",
              "    <tr>\n",
              "      <th>2</th>\n",
              "      <td>CHEMBL106848</td>\n",
              "      <td>NS(=O)(=O)c1ccc(SCCO)cc1</td>\n",
              "      <td>7.68</td>\n",
              "      <td>21.0</td>\n",
              "      <td>nM</td>\n",
              "      <td>=</td>\n",
              "      <td>Ki</td>\n",
              "      <td style=\"text-align: center;\"><div style=\"width: 200px; height: 200px\" data-content=\"rdkit/molecule\"><img src=\"data:image/png;base64,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\" alt=\"Mol\"/></div></td>\n",
              "      <td>233.314</td>\n",
              "      <td>0.4184</td>\n",
              "      <td>C8H11NO3S2</td>\n",
              "    </tr>\n",
              "    <tr>\n",
              "      <th>3</th>\n",
              "      <td>CHEMBL107217</td>\n",
              "      <td>CCN(CC)C(=S)[S-].[Na+]</td>\n",
              "      <td>5.51</td>\n",
              "      <td>3100.0</td>\n",
              "      <td>nM</td>\n",
              "      <td>=</td>\n",
              "      <td>Ki</td>\n",
              "      <td style=\"text-align: center;\"><div style=\"width: 200px; height: 200px\" data-content=\"rdkit/molecule\"><img src=\"data:image/png;base64,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\" alt=\"Mol\"/></div></td>\n",
              "      <td>171.266</td>\n",
              "      <td>-1.8360</td>\n",
              "      <td>C5H10NNaS2</td>\n",
              "    </tr>\n",
              "    <tr>\n",
              "      <th>4</th>\n",
              "      <td>CHEMBL1081233</td>\n",
              "      <td>CCCCC(CC)C(N)=O</td>\n",
              "      <td>5.46</td>\n",
              "      <td>3450.0</td>\n",
              "      <td>nM</td>\n",
              "      <td>=</td>\n",
              "      <td>Ki</td>\n",
              "      <td style=\"text-align: center;\"><div style=\"width: 200px; height: 200px\" data-content=\"rdkit/molecule\"><img src=\"data:image/png;base64,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\" alt=\"Mol\"/></div></td>\n",
              "      <td>143.230</td>\n",
              "      <td>1.6881</td>\n",
              "      <td>C8H17NO</td>\n",
              "    </tr>\n",
              "  </tbody>\n",
              "</table>\n",
              "</div>\n",
              "    <div class=\"colab-df-buttons\">\n",
              "\n",
              "  <div class=\"colab-df-container\">\n",
              "    <button class=\"colab-df-convert\" onclick=\"convertToInteractive('df-ef89be0e-5b1d-45a5-9518-8f307de46ee0')\"\n",
              "            title=\"Convert this dataframe to an interactive table.\"\n",
              "            style=\"display:none;\">\n",
              "\n",
              "  <svg xmlns=\"http://www.w3.org/2000/svg\" height=\"24px\" viewBox=\"0 -960 960 960\">\n",
              "    <path d=\"M120-120v-720h720v720H120Zm60-500h600v-160H180v160Zm220 220h160v-160H400v160Zm0 220h160v-160H400v160ZM180-400h160v-160H180v160Zm440 0h160v-160H620v160ZM180-180h160v-160H180v160Zm440 0h160v-160H620v160Z\"/>\n",
              "  </svg>\n",
              "    </button>\n",
              "\n",
              "  <style>\n",
              "    .colab-df-container {\n",
              "      display:flex;\n",
              "      gap: 12px;\n",
              "    }\n",
              "\n",
              "    .colab-df-convert {\n",
              "      background-color: #E8F0FE;\n",
              "      border: none;\n",
              "      border-radius: 50%;\n",
              "      cursor: pointer;\n",
              "      display: none;\n",
              "      fill: #1967D2;\n",
              "      height: 32px;\n",
              "      padding: 0 0 0 0;\n",
              "      width: 32px;\n",
              "    }\n",
              "\n",
              "    .colab-df-convert:hover {\n",
              "      background-color: #E2EBFA;\n",
              "      box-shadow: 0px 1px 2px rgba(60, 64, 67, 0.3), 0px 1px 3px 1px rgba(60, 64, 67, 0.15);\n",
              "      fill: #174EA6;\n",
              "    }\n",
              "\n",
              "    .colab-df-buttons div {\n",
              "      margin-bottom: 4px;\n",
              "    }\n",
              "\n",
              "    [theme=dark] .colab-df-convert {\n",
              "      background-color: #3B4455;\n",
              "      fill: #D2E3FC;\n",
              "    }\n",
              "\n",
              "    [theme=dark] .colab-df-convert:hover {\n",
              "      background-color: #434B5C;\n",
              "      box-shadow: 0px 1px 3px 1px rgba(0, 0, 0, 0.15);\n",
              "      filter: drop-shadow(0px 1px 2px rgba(0, 0, 0, 0.3));\n",
              "      fill: #FFFFFF;\n",
              "    }\n",
              "  </style>\n",
              "\n",
              "    <script>\n",
              "      const buttonEl =\n",
              "        document.querySelector('#df-ef89be0e-5b1d-45a5-9518-8f307de46ee0 button.colab-df-convert');\n",
              "      buttonEl.style.display =\n",
              "        google.colab.kernel.accessAllowed ? 'block' : 'none';\n",
              "\n",
              "      async function convertToInteractive(key) {\n",
              "        const element = document.querySelector('#df-ef89be0e-5b1d-45a5-9518-8f307de46ee0');\n",
              "        const dataTable =\n",
              "          await google.colab.kernel.invokeFunction('convertToInteractive',\n",
              "                                                    [key], {});\n",
              "        if (!dataTable) return;\n",
              "\n",
              "        const docLinkHtml = 'Like what you see? Visit the ' +\n",
              "          '<a target=\"_blank\" href=https://colab.research.google.com/notebooks/data_table.ipynb>data table notebook</a>'\n",
              "          + ' to learn more about interactive tables.';\n",
              "        element.innerHTML = '';\n",
              "        dataTable['output_type'] = 'display_data';\n",
              "        await google.colab.output.renderOutput(dataTable, element);\n",
              "        const docLink = document.createElement('div');\n",
              "        docLink.innerHTML = docLinkHtml;\n",
              "        element.appendChild(docLink);\n",
              "      }\n",
              "    </script>\n",
              "  </div>\n",
              "\n",
              "\n",
              "<div id=\"df-8cee0ecf-f690-403e-98a9-7d24ecacc42c\">\n",
              "  <button class=\"colab-df-quickchart\" onclick=\"quickchart('df-8cee0ecf-f690-403e-98a9-7d24ecacc42c')\"\n",
              "            title=\"Suggest charts\"\n",
              "            style=\"display:none;\">\n",
              "\n",
              "<svg xmlns=\"http://www.w3.org/2000/svg\" height=\"24px\"viewBox=\"0 0 24 24\"\n",
              "     width=\"24px\">\n",
              "    <g>\n",
              "        <path d=\"M19 3H5c-1.1 0-2 .9-2 2v14c0 1.1.9 2 2 2h14c1.1 0 2-.9 2-2V5c0-1.1-.9-2-2-2zM9 17H7v-7h2v7zm4 0h-2V7h2v10zm4 0h-2v-4h2v4z\"/>\n",
              "    </g>\n",
              "</svg>\n",
              "  </button>\n",
              "\n",
              "<style>\n",
              "  .colab-df-quickchart {\n",
              "      --bg-color: #E8F0FE;\n",
              "      --fill-color: #1967D2;\n",
              "      --hover-bg-color: #E2EBFA;\n",
              "      --hover-fill-color: #174EA6;\n",
              "      --disabled-fill-color: #AAA;\n",
              "      --disabled-bg-color: #DDD;\n",
              "  }\n",
              "\n",
              "  [theme=dark] .colab-df-quickchart {\n",
              "      --bg-color: #3B4455;\n",
              "      --fill-color: #D2E3FC;\n",
              "      --hover-bg-color: #434B5C;\n",
              "      --hover-fill-color: #FFFFFF;\n",
              "      --disabled-bg-color: #3B4455;\n",
              "      --disabled-fill-color: #666;\n",
              "  }\n",
              "\n",
              "  .colab-df-quickchart {\n",
              "    background-color: var(--bg-color);\n",
              "    border: none;\n",
              "    border-radius: 50%;\n",
              "    cursor: pointer;\n",
              "    display: none;\n",
              "    fill: var(--fill-color);\n",
              "    height: 32px;\n",
              "    padding: 0;\n",
              "    width: 32px;\n",
              "  }\n",
              "\n",
              "  .colab-df-quickchart:hover {\n",
              "    background-color: var(--hover-bg-color);\n",
              "    box-shadow: 0 1px 2px rgba(60, 64, 67, 0.3), 0 1px 3px 1px rgba(60, 64, 67, 0.15);\n",
              "    fill: var(--button-hover-fill-color);\n",
              "  }\n",
              "\n",
              "  .colab-df-quickchart-complete:disabled,\n",
              "  .colab-df-quickchart-complete:disabled:hover {\n",
              "    background-color: var(--disabled-bg-color);\n",
              "    fill: var(--disabled-fill-color);\n",
              "    box-shadow: none;\n",
              "  }\n",
              "\n",
              "  .colab-df-spinner {\n",
              "    border: 2px solid var(--fill-color);\n",
              "    border-color: transparent;\n",
              "    border-bottom-color: var(--fill-color);\n",
              "    animation:\n",
              "      spin 1s steps(1) infinite;\n",
              "  }\n",
              "\n",
              "  @keyframes spin {\n",
              "    0% {\n",
              "      border-color: transparent;\n",
              "      border-bottom-color: var(--fill-color);\n",
              "      border-left-color: var(--fill-color);\n",
              "    }\n",
              "    20% {\n",
              "      border-color: transparent;\n",
              "      border-left-color: var(--fill-color);\n",
              "      border-top-color: var(--fill-color);\n",
              "    }\n",
              "    30% {\n",
              "      border-color: transparent;\n",
              "      border-left-color: var(--fill-color);\n",
              "      border-top-color: var(--fill-color);\n",
              "      border-right-color: var(--fill-color);\n",
              "    }\n",
              "    40% {\n",
              "      border-color: transparent;\n",
              "      border-right-color: var(--fill-color);\n",
              "      border-top-color: var(--fill-color);\n",
              "    }\n",
              "    60% {\n",
              "      border-color: transparent;\n",
              "      border-right-color: var(--fill-color);\n",
              "    }\n",
              "    80% {\n",
              "      border-color: transparent;\n",
              "      border-right-color: var(--fill-color);\n",
              "      border-bottom-color: var(--fill-color);\n",
              "    }\n",
              "    90% {\n",
              "      border-color: transparent;\n",
              "      border-bottom-color: var(--fill-color);\n",
              "    }\n",
              "  }\n",
              "</style>\n",
              "\n",
              "  <script>\n",
              "    async function quickchart(key) {\n",
              "      const quickchartButtonEl =\n",
              "        document.querySelector('#' + key + ' button');\n",
              "      quickchartButtonEl.disabled = true;  // To prevent multiple clicks.\n",
              "      quickchartButtonEl.classList.add('colab-df-spinner');\n",
              "      try {\n",
              "        const charts = await google.colab.kernel.invokeFunction(\n",
              "            'suggestCharts', [key], {});\n",
              "      } catch (error) {\n",
              "        console.error('Error during call to suggestCharts:', error);\n",
              "      }\n",
              "      quickchartButtonEl.classList.remove('colab-df-spinner');\n",
              "      quickchartButtonEl.classList.add('colab-df-quickchart-complete');\n",
              "    }\n",
              "    (() => {\n",
              "      let quickchartButtonEl =\n",
              "        document.querySelector('#df-8cee0ecf-f690-403e-98a9-7d24ecacc42c button');\n",
              "      quickchartButtonEl.style.display =\n",
              "        google.colab.kernel.accessAllowed ? 'block' : 'none';\n",
              "    })();\n",
              "  </script>\n",
              "</div>\n",
              "\n",
              "    </div>\n",
              "  </div>\n"
            ],
            "application/vnd.google.colaboratory.intrinsic+json": {
              "type": "dataframe",
              "variable_name": "df",
              "summary": "{\n  \"name\": \"df\",\n  \"rows\": 4511,\n  \"fields\": [\n    {\n      \"column\": \"compound_chembl_id\",\n      \"properties\": {\n        \"dtype\": \"string\",\n        \"num_unique_values\": 4511,\n        \"samples\": [\n          \"CHEMBL3400802\",\n          \"CHEMBL191576\",\n          \"CHEMBL1270939\"\n        ],\n        \"semantic_type\": \"\",\n        \"description\": \"\"\n      }\n    },\n    {\n      \"column\": \"canonical_smiles\",\n      \"properties\": {\n        \"dtype\": \"string\",\n        \"num_unique_values\": 4511,\n        \"samples\": [\n          \"S=C([S-])N[C@H]1CN2CCC1CC2.[Na+]\",\n          \"CCN(CC)c1nc(Nc2ccc(S(N)(=O)=O)cc2)nc(N(CC)CC)n1\",\n          \"Cc1c(C(=O)NCCN(C)C)cc(-c2ccc(-c3ccccc3)cc2)n1-c1ccc(S(N)(=O)=O)cc1\"\n        ],\n        \"semantic_type\": \"\",\n        \"description\": \"\"\n      }\n    },\n    {\n      \"column\": \"pchembl_value\",\n      \"properties\": {\n        \"dtype\": \"number\",\n        \"std\": 1.1866096698973738,\n        \"min\": 4.0,\n        \"max\": 11.0,\n        \"num_unique_values\": 532,\n        \"samples\": [\n          6.85,\n          7.63,\n          6.9\n        ],\n        \"semantic_type\": \"\",\n        \"description\": \"\"\n      }\n    },\n    {\n      \"column\": \"standard_value\",\n      \"properties\": {\n        \"dtype\": \"number\",\n        \"std\": 10377.52916863089,\n        \"min\": 0.01,\n        \"max\": 100000.0,\n        \"num_unique_values\": 2165,\n        \"samples\": [\n          53.1,\n          707.8,\n          249.3\n        ],\n        \"semantic_type\": \"\",\n        \"description\": \"\"\n      }\n    },\n    {\n      \"column\": \"standard_units\",\n      \"properties\": {\n        \"dtype\": \"category\",\n        \"num_unique_values\": 1,\n        \"samples\": [\n          \"nM\"\n        ],\n        \"semantic_type\": \"\",\n        \"description\": \"\"\n      }\n    },\n    {\n      \"column\": \"standard_relation\",\n      \"properties\": {\n        \"dtype\": \"category\",\n        \"num_unique_values\": 1,\n        \"samples\": [\n          \"=\"\n        ],\n        \"semantic_type\": \"\",\n        \"description\": \"\"\n      }\n    },\n    {\n      \"column\": \"standard_type\",\n      \"properties\": {\n        \"dtype\": \"category\",\n        \"num_unique_values\": 1,\n        \"samples\": [\n          \"Ki\"\n        ],\n        \"semantic_type\": \"\",\n        \"description\": \"\"\n      }\n    },\n    {\n      \"column\": \"ROMol\",\n      \"properties\": {\n        \"dtype\": \"string\",\n        \"num_unique_values\": 4511,\n        \"samples\": [\n          \"<rdkit.Chem.rdchem.Mol object at 0x79242f0c7140>\"\n        ],\n        \"semantic_type\": \"\",\n        \"description\": \"\"\n      }\n    },\n    {\n      \"column\": \"mol_weight\",\n      \"properties\": {\n        \"dtype\": \"number\",\n        \"std\": 143.92870164525658,\n        \"min\": 27.025999999999996,\n        \"max\": 2877.384999999998,\n        \"num_unique_values\": 3563,\n        \"samples\": [\n          408.47900000000004\n        ],\n        \"semantic_type\": \"\",\n        \"description\": \"\"\n      }\n    },\n    {\n      \"column\": \"logp\",\n      \"properties\": {\n        \"dtype\": \"number\",\n        \"std\": 2.013425587709762,\n        \"min\": -9.435400000000008,\n        \"max\": 11.266399999999994,\n        \"num_unique_values\": 3918,\n        \"samples\": [\n          0.37570000000000003\n        ],\n        \"semantic_type\": \"\",\n        \"description\": \"\"\n      }\n    },\n    {\n      \"column\": \"formula\",\n      \"properties\": {\n        \"dtype\": \"string\",\n        \"num_unique_values\": 3238,\n        \"samples\": [\n          \"C11H10N6O3S2\"\n        ],\n        \"semantic_type\": \"\",\n        \"description\": \"\"\n      }\n    }\n  ]\n}"
            }
          },
          "metadata": {},
          "execution_count": 90
        }
      ],
      "source": [
        "# Create the new column 'mol_weight' based on 'ROMol'\n",
        "df['mol_weight'] = df['ROMol'].apply(MolWt)\n",
        "df['logp'] = df['ROMol'].apply(MolLogP)\n",
        "df['formula'] = df['ROMol'].apply(CalcMolFormula)\n",
        "# Display the updated DataFrame\n",
        "df.head()"
      ]
    },
    {
      "cell_type": "code",
      "execution_count": 91,
      "id": "09d926c0-3b96-4fc2-a114-4021ab510109",
      "metadata": {
        "id": "09d926c0-3b96-4fc2-a114-4021ab510109",
        "colab": {
          "base_uri": "https://localhost:8080/",
          "height": 1000
        },
        "outputId": "a5db9c8b-a05d-4b4b-bc42-9bb847683388"
      },
      "outputs": [
        {
          "output_type": "execute_result",
          "data": {
            "text/plain": [
              "                              canonical_smiles        formula  mol_weight  \\\n",
              "0  NS(=O)(=O)c1cc2c(cc1Cl)NC(C(Cl)Cl)NS2(=O)=O  C8H8Cl3N3O4S2     380.662   \n",
              "1   NS(=O)(=O)c1cc(C2(O)NC(=O)c3ccccc32)ccc1Cl  C14H11ClN2O4S     338.772   \n",
              "2                     NS(=O)(=O)c1ccc(SCCO)cc1     C8H11NO3S2     233.314   \n",
              "3                       CCN(CC)C(=S)[S-].[Na+]     C5H10NNaS2     171.266   \n",
              "4                              CCCCC(CC)C(N)=O        C8H17NO     143.230   \n",
              "5          CCC(CC)C(=O)NCCc1ccc(S(N)(=O)=O)cc1    C14H22N2O3S     298.408   \n",
              "6        CCC(C)C(CC)C(=O)Nc1ccc(S(N)(=O)=O)cc1    C14H22N2O3S     298.408   \n",
              "7     CCC(C)C(C(=O)Nc1ccc(S(N)(=O)=O)cc1)C(C)C    C15H24N2O3S     312.435   \n",
              "8     CCCC(C(=O)Nc1ccc(S(N)(=O)=O)cc1)C(C)(C)C    C15H24N2O3S     312.435   \n",
              "9        CCC(CC(C)C)C(=O)Nc1ccc(S(N)(=O)=O)cc1    C14H22N2O3S     298.408   \n",
              "\n",
              "     logp                                             ROMol  \n",
              "0  0.8210  <rdkit.Chem.rdchem.Mol object at 0x79242f2d6c00>  \n",
              "1  0.9242  <rdkit.Chem.rdchem.Mol object at 0x79242f2d6c70>  \n",
              "2  0.4184  <rdkit.Chem.rdchem.Mol object at 0x79242f2d6d50>  \n",
              "3 -1.8360  <rdkit.Chem.rdchem.Mol object at 0x79242f2d6dc0>  \n",
              "4  1.6881  <rdkit.Chem.rdchem.Mol object at 0x79242f2d6e30>  \n",
              "5  1.4289  <rdkit.Chem.rdchem.Mol object at 0x79242f2d6ea0>  \n",
              "6  2.3448  <rdkit.Chem.rdchem.Mol object at 0x79242f2d6f10>  \n",
              "7  2.5908  <rdkit.Chem.rdchem.Mol object at 0x79242f2d6f80>  \n",
              "8  2.7349  <rdkit.Chem.rdchem.Mol object at 0x79242f2d6ff0>  \n",
              "9  2.3448  <rdkit.Chem.rdchem.Mol object at 0x79242f2d7060>  "
            ],
            "text/html": [
              "\n",
              "  <div id=\"df-4cf7d711-63cc-4192-b62e-d39d48f46477\" class=\"colab-df-container\">\n",
              "    <div>\n",
              "<style scoped>\n",
              "    .dataframe tbody tr th:only-of-type {\n",
              "        vertical-align: middle;\n",
              "    }\n",
              "\n",
              "    .dataframe tbody tr th {\n",
              "        vertical-align: top;\n",
              "    }\n",
              "\n",
              "    .dataframe thead th {\n",
              "        text-align: right;\n",
              "    }\n",
              "</style>\n",
              "<table border=\"1\" class=\"dataframe\">\n",
              "  <thead>\n",
              "    <tr style=\"text-align: right;\">\n",
              "      <th></th>\n",
              "      <th>canonical_smiles</th>\n",
              "      <th>formula</th>\n",
              "      <th>mol_weight</th>\n",
              "      <th>logp</th>\n",
              "      <th>ROMol</th>\n",
              "    </tr>\n",
              "  </thead>\n",
              "  <tbody>\n",
              "    <tr>\n",
              "      <th>0</th>\n",
              "      <td>NS(=O)(=O)c1cc2c(cc1Cl)NC(C(Cl)Cl)NS2(=O)=O</td>\n",
              "      <td>C8H8Cl3N3O4S2</td>\n",
              "      <td>380.662</td>\n",
              "      <td>0.8210</td>\n",
              "      <td style=\"text-align: center;\"><div style=\"width: 200px; height: 200px\" data-content=\"rdkit/molecule\"><img src=\"data:image/png;base64,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\" alt=\"Mol\"/></div></td>\n",
              "    </tr>\n",
              "    <tr>\n",
              "      <th>1</th>\n",
              "      <td>NS(=O)(=O)c1cc(C2(O)NC(=O)c3ccccc32)ccc1Cl</td>\n",
              "      <td>C14H11ClN2O4S</td>\n",
              "      <td>338.772</td>\n",
              "      <td>0.9242</td>\n",
              "      <td style=\"text-align: center;\"><div style=\"width: 200px; height: 200px\" data-content=\"rdkit/molecule\"><img src=\"data:image/png;base64,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\" alt=\"Mol\"/></div></td>\n",
              "    </tr>\n",
              "    <tr>\n",
              "      <th>2</th>\n",
              "      <td>NS(=O)(=O)c1ccc(SCCO)cc1</td>\n",
              "      <td>C8H11NO3S2</td>\n",
              "      <td>233.314</td>\n",
              "      <td>0.4184</td>\n",
              "      <td style=\"text-align: center;\"><div style=\"width: 200px; height: 200px\" data-content=\"rdkit/molecule\"><img src=\"data:image/png;base64,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\" alt=\"Mol\"/></div></td>\n",
              "    </tr>\n",
              "    <tr>\n",
              "      <th>3</th>\n",
              "      <td>CCN(CC)C(=S)[S-].[Na+]</td>\n",
              "      <td>C5H10NNaS2</td>\n",
              "      <td>171.266</td>\n",
              "      <td>-1.8360</td>\n",
              "      <td style=\"text-align: center;\"><div style=\"width: 200px; height: 200px\" data-content=\"rdkit/molecule\"><img src=\"data:image/png;base64,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\" alt=\"Mol\"/></div></td>\n",
              "    </tr>\n",
              "    <tr>\n",
              "      <th>4</th>\n",
              "      <td>CCCCC(CC)C(N)=O</td>\n",
              "      <td>C8H17NO</td>\n",
              "      <td>143.230</td>\n",
              "      <td>1.6881</td>\n",
              "      <td style=\"text-align: center;\"><div style=\"width: 200px; height: 200px\" data-content=\"rdkit/molecule\"><img src=\"data:image/png;base64,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\" alt=\"Mol\"/></div></td>\n",
              "    </tr>\n",
              "    <tr>\n",
              "      <th>5</th>\n",
              "      <td>CCC(CC)C(=O)NCCc1ccc(S(N)(=O)=O)cc1</td>\n",
              "      <td>C14H22N2O3S</td>\n",
              "      <td>298.408</td>\n",
              "      <td>1.4289</td>\n",
              "      <td style=\"text-align: center;\"><div style=\"width: 200px; height: 200px\" data-content=\"rdkit/molecule\"><img src=\"data:image/png;base64,iVBORw0KGgoAAAANSUhEUgAAAMgAAADICAIAAAAiOjnJAAAABmJLR0QA/wD/AP+gvaeTAAASKUlEQVR4nO3de1BTd97H8U8gchGtERC0XhBF26p1axGkFxVIuPhocbpKnbq6a7sjdXRX63Qde3O7Ux3FtTNq1Vo6VNqO2iqtj7XPTmkToFofeaSHi1WK3O8iUkKEkHBJ8nv+ODSbIpWQnF8Q9/sa/2Bozi8/0ze/c5JzDsoYYyBEam5DPQFyf6KwCBcUFuGCwiJcUFiECwqLcEFhES4oLMIFhUW4oLAIFxQW4YLCIlxQWIQLCotwQWERLigswgWFRbigsAgXFBbhgsIiXFBYhAsKi3BBYREuKCzCBYVFuKCwCBcUFuGCwiJcUFiECwqLcEFhES4oLMIFhUW4oLAIFxQW4YLCIlxQWIQLCotwQWERLigswgWFRbigsAgXFBbhgsIiXFBYhAsKi3BBYREuKCzCBYVFuKCwCBcUFuGCwiJcUFiECwqLcEFhES4oLMIFhUW4oLAIFxQW4YLCIlxQWIQLCotwQWERLigswgWFRbigsAgXFBbhgsIiXFBYhAsKi3BBYREuKCzCBYVFuKCwCBcUFuFCPtQTGCSDASdOoKMDK1di0qShng35TcNtxXrhBfzud1i+HBs24PbtoZ4N+U3DKiydDj4+CA9HcDCefRbffz/UE7q3lZfjyhVYLEPy5MMqLJkMjPV+zRhksiGdzb3tjTdw5gwuX8Yf/jAkbQ2rY6wxY9DZiR9+gL8/zp3DiRNDPaF7lV6PqiqcPAkAOh0uXcLTT7t4CsMnLLMZH3+Mt97ChQtob8fRoxg9eqjndK9qa8PYsb1fjxuH1lbXT2H47AoFAX/+MxIS0NmJqqohebGGjfHjUVMDoxGMISsLoaGun8LwWbHUagCIicEnnyAvD8uXY86coZ7TvcrNDXv24NVXAWD1anh4wGDAyJEunYIrn8wpYlgRESgogJeX6w8ahpmZM/HMMwgPx7/+hcBAnDvn4ucfJmF1dODyZbi7o6cHFgsWLoS391DP6d5WX4+YGGzZgilTYLEgM9PFzy9xWFqtVtoBe2Vno6sL4eG4dAkAYmK4PMv9ZPp0BAejpQWTJwO/rPcuJEFY7e3tGo3m1Vdffeihh/z8/IKDg41Go/PD/or4usTG9v7kUVj2UKkAoLYW48ahpgbl5S59duYQo9EoxjR//nw3t3/XKZPJAMTExBgMBsdG7tfNhATm5cVOnmQA8/dnZrOEg9+3PvuMASw2lq1axQB29Kgrn3wQYZnN5mvXrqWkpCQmJo62+QxJLpeHhoZu375drVYXFBQ8+OCD0rZVX18PICggQPPBB7mLF7du2iTJsPea5ubmU6dOLV26NCQkZPPmzZKMyNzcLHMe6sxMu3kkovbKGgnGtNvAYVVUVIgx+fn52S5106ZNS0pKOn36dFtbm+3jr1+/LrYVGxsrSVtpaWkAEhISli9fDuDYsWPOj3mPMBgMarV6+/btoaGhfRb+w4cPOz9+1f8qBQFa7QlBQEGBwmIxOT+mne4WVnV1dXBwcL8xNTc332XD69evT5gwQWzLaDQ6OcXVq1cDOHjw4JgxYwDU1tY6OeDQMplMubm5u3fvViqVXl5e1tfW29s7JiZm7969a9ascXNzk8lk7777rpPPVVe3TRBQX//61ashggC9PtfODbdsYfv3M8bY3//OGhrY2rW937d+MaC7hWUymXx9ff38/BITE1NSUioqKuwdVbq2LBbL+PHjAZw8eRLAww8/7PBQQ8u68Pv6+lpjcnNzsx5FiK+S2Ww+ePDgkSNHZDKZTCY7dOiQM096+3aGIKC4OKymZoMgoLFxt50brl/PXniB1dSwbdtYXR1LTOz9vvWLAQ2wK6ysrDQ7eqRsbSsuLs7htgoLCwFMmjTprbfeAiDNwYcLnT17VqlUTp061XbhDwkJ2bBhQ3p6ektLS5/Hv/LKKwDi4+MlactsNuTne+XluTc3pwkCSkqUd3lwRwfLyGB/+xt74w22fj2rrGR//GNvWHPmsK1b2datLCLC3qd28F2hnYqLi51sa9++fQCUSmVERASAr776SvJJ8lNUVCSX95408/f3Fxf+ysrKu2xiu9Jb23LmeKukJFoQ0Nz8UWlpXFNT332rxWIqKdHu2sUiI5mnJwMYwAIC2Pr1zGhkBw6wxx/ns2I5r7i4WNyXxcfH299WR0eHeFQrvmMQX1+5XH779m2us5XWsWPHAAQEBOTn59u/8Nuu9IcPH3ayrba279raso3GosbGva2tX4jf7OysaG5OqahILCz0PXp0j9iTuzsLD2evv86ystjmzayzk/X0sCeeYA0NbN263tHWrWNdXey999iePQM8L/ewmN1tmUymnJycnTt3RkZGenh4WHccXl5enp6eABQKhVardcGEpbJu3ToA77zzzv79+69cuWL/hrYrvbWtI0eOODyTsrKlnZ3lBsNVrfazH3+cLAiw/snNjdq4kZ05wwb10u7aNcADXBEWu2tb1qPasdZLiAB3d3fbo9rGxsZHHnkEwLx58+48LrlnTZ482fq2Izg4eFDb2r5ihw4dcqwts7ldp/uf7u4blZXP37z5z56eW7dvfy0IKCwcV1GR2Nyc0tVVNagBGWMWCzt+nA34Y+KisBhjV65c8ff3B7BkyZL6+vrTp08nJSUFBQX1+3HGnfUMu7aKiooABAYG7tq1C8CGDRsGO4JjbVkspo4OobExubRUlZfnKQi4det9xsxtbdklJZEmU5vBcIUxi6N/LabVspQUlpIywMNcFxZjrLCwUGxLZnO5emBg4OrVq48dOzbgB1R1dXUhISEAwsLCdLoO18zZYQcOHACwdu3ayMhIAF988YUDg9i2tW/fPrGt9957785HFhUVpaYeKSt7pqDgAetuLi9Pfv36k1rtKb0+p6urrqzsv8xmvdN/M7u4NCzGWFpamlwu9/LyUqlUycnJgiBYLIP46RHbWrz4vx9/nN3jy9bSpUsBpKamenp6uru7O7zK/vTTT2JbS5YsEd8jW9tqamoSF/4pU6aIP6X5+VMEAVevTquuTtJqT5tMvcdNWm16Y2Nye3uOXn9Jp3PFO2tXh7Vjxw4AW7ZscXiEujrt9OkMYOHhTKeTcGpS6u7ufuCBB2Qy2fHjxwEsWLDAmdFsjyL27t0rfrJqjUk0YcKEtWvX/vTTZ93d9XeO0NJyvLx8uVZ7ShDw449TnZmMnVx9oZ9arQYQGxvr8AiTJo3Nzsb06cjNRXS0g9e+t7e3nz17dseOHWVlZQ7P5C5ycnLa2tpmz56dl5cHIMa563zmzp2r0Wj8/Py+/vprhULx8ssvKxSK2tpaHx8f68Lf0NDwySefPPLIqhEjJt45Qnt7lk73ZXd3rVzu391d3dVV6cx87OKCeK1aW1vlcrmHh0d7e7uTQ9XWMnHdCg21932yyWQSBCE5OVmlUokfZ3h6eo4ePbqqqsrJydzpzTffBLB169bZs2cDOH/+vPNjFhQUbN++3WKxiCchnnvuuZ6eHju3bWk5IQgoK1tSUZEoCGhuHujY22kuDevMmTMAFi9eLMloNTUsOJgB7KmnfvMCLYuFXb3K9u9na9duHDVqlPXHacSIEREREeJZ7ZCQkPr6fnYfzliwYAGAEydOyGQyHx+fzs5OCQd/8sknMciTED09TYIgy88f2dR0WBBQUfGchPPpl0t3heJ+0Mn9gtWUKTh/HjNm4MUXkZzce4/0p58CQFMT0tPx0ksICsKjj2LrVtTUQK/XWz/OuHXrVk5OTk1NTXh4eHl5eWRkZENDgySzAqDT6QRB8PDw0Ov1jLGoqCjxA15JtLe3//DDD3K5fNGiRfZvJZcHeHs/arEY5HJfAJbKYu63R/Mu15b4YcHly5clHLOzk+n1LDiYiZdpPf88Cw/vPecl/pk4kf3pTyw9vfbGjRt3bq7T6cLDwwHMmDFDqnXr888/BxAVFbVmzRoABw8elGRY0dmzZwEsXLhwsBs2Xn/t5pEI46l3zFFPMoDl5Uk4qzu5bsWqqakpLy9XKBShkt4/Ka4FcXFQq9HSAgDjx8PHByoVkpMhCKirw0cfYeXKyeJJkj7GjBnzzTffhIeHl5WVRUVFSbJuiQuzSqXKzMyEdCu07eAOjDm+cmHgpv/z2v+5W8hsANBoJJxVP7hma+uDDz4AsGLFCslH1uvZhg2spIRt3syef541NTG7D2p7tba2hoWFQaJ1a9q0aQA+/fRTABMnTnRytD5mzpwJICcnZ9BbdnQwT0/m7s4+/LD3WnieXLdiSXuAdaeZM6FQwGRCQADkg7zBW6FQfPvtt2FhYeK6dePGDYenUV1dXVlZOXbs2Lq6Okj9962trS0tLVUoFPPnzx/0xiNHIiICZjNGjICbGy5cgOQ3U9nimq2V2WwWP+Ib1GWodjIamVrNGGMGA/vyS8fHsa5bM2fObGhoGPw0jJmZmfHx8QDi4+MFQdi2bVtGRobjE7pDamoqgGeffdbB7d9+mwHsL39h8+YxgGVmSji3PlwUVm5uLgZ/ht9ODQ3M+km+/Vei9au1tVVcDOxvy3p1hvXOpcDAwLFjx169etWpqfRn1apVAPo9V2iXnBwml7M1a9g337ALF1h3t6Sz+xUX/VIQcT8YFxfHafzOTvz8M4B//2I2xygUCrVaHRMTIwhCVFRUdna2eMdRH1VVVRqNRqPRZGVl/Sw+MeDm5jZv3ryoqKjc3NyLFy8qlcrMzMw50v3mEovFkpWVBWd2r2FhaGnB99/3/ioHoxFOnAIZAL9mbTlzhn9ADQ3sqafY7t1s9272zDMSDNjvutXW1ma9Vcv2BZwwYYJ4zbH1kV1dXcuWLQMQEBBw7do1CSbEGGNMEAQAQUFBTo3S0sJWrWIWCzOb2e9/z359656EXBFWR0eHk2f4707CXaGVVqsVAxKv6ulz35+vr+/KlSvff//98vLyfjfv7OwUr26QsK09e/YASEpKcmqUnBy2d2/v12+/ze/TLFeEJV767eQZ/rv4+WdmPerYuVOyYbVa7YwZM6yXjtne8G3PSTrJ24qOjgaQnp7u1CiVleyvf+39+qWX2ODfo9iJV1hms9l6xtfd3R1AXFwcp+fip6Sk5MUXX1SpVGq12oG7uq1tBQYGFhUVDWpb67VWQUFBdXV1BoPBy8vLzc3t7rcK2+WVV9jOnewf/2CvvebsUL9N4rBKS0uPHj26YsUK29syZTLZ1KlTb968Ke1zDQuDaqutre3cuXObN28Wr4mwOn78eEZGBoCwsDBpptXQwPo7wSUhCd4VNjc3f/fddxqNRq1WV1VVWb8/bdo0lUqlUqmio6P7/N6H/xyenp7p6ekJCQkajSY6OjorK2vWrFm2DzCbzYWFheJ7zAsXLnR3d4vf9/HxeeKJJ6KjoydOnFhdXb1x40YA06dPl2Za/b3VlZaMOfQG3WAwXLp0SXw5CgoKLL+cKvf394+KilKpVDExMX1+78N/MqPRKLYVGBhobevjjz9OT08/f/68Xq8XHyaXyyMiIpRK5axZs7RabVZWVmZmpvV32Xl7e2dkZAzqooah5MAq9+GHH9re9zdy5Mi4uLh9+/aJhUm9pt4nDAaDUqmEzT5RvOsQv9yblJqampaWlpSU1Od+fPG/pqWl8ThpwY8jK9bFixcjIyMfe+wxcU/39NNP2/7WFPJbDAZDQkJCZmZmYGBgdna2TqcrLi4eNWpUfn6+RqPJz8+3/r8YN25cZGSkSqWKjY3t09lw4UhYJpNJr9crFAoeE7q/GQyGZcuWZWdne3t7h4SElJSU2B5ULVq0SKVSKZXKuXPnyob5P+ji4DEWcZjBYJg3b15paSkAd3d368K/cOFCCS80HXIU1hBoaWk5efJke3v7pk2bxOvu7z8UFuFimPwDAmS4obAIFxQW4YLCIlxQWIQLCotwQWERLigswgWFRbigsAgXFBbhgsIiXFBYhAsKi3BBYREuKCzCBYVFuKCwCBcUFuGCwiJcUFiECwqLcEFhES4oLMIFhUW4oLAIFxQW4YLCIlxQWIQLCotwQWERLigswgWFRbigsAgXFBbhgsIiXFBYhAsKi3BBYREuKCzCBYVFuKCwCBcUFuGCwiJcUFiECwqLcEFhES4oLMIFhUW4oLAIFxQW4YLCIlxQWIQLCotwQWERLigswgWFRbigsAgXFBbhgsIiXFBYhAsKi3BBYREuKCzCBYVFuKCwCBcUFuGCwiJcUFiECwqLcEFhES4oLMIFhUW4oLAIF/8PaL+qUJrpZT4AAAGFelRYdHJka2l0UEtMIHJka2l0IDIwMjQuMDMuNgAAeJx7v2/tPQYgEABiRgYIEIHiBkY2hgSQODOEZmKC0MyMqHyQvAZInIUDQjOxM2SAaTSFQNoBopDNAawAaBKCAZERYFAA0mzsEJOZYCbCaEyN3EB3MzIxMDEDNTMwsTKwsmkwsbIrsHMwcHAycHIxcHFnMHHzJPDwZjDx8jHw8TPwCXAw8QlyMPEKJQgJZzAJcyU4gXzOxiUsxMvDLf4LKSQYRD6ofTqQPCfBHsQ5fvjwgQvLF4LZHx4tPHBPztcOxHZOXXdg2875+0Hs7BN3DoQIXwSz+/6nHfjySxSs/tUv3wNtukwOIPZDW+UDLyS/7AOx5d/37N97dtdeELuuQnfvhQ2TwXofKGyxT17nAmZraj2zP8ijBzYn/ba/w//4DjC761ynQ4mohTWIvdlwh8Pia8fA7rkz5ZlDn5wbWI1UxxGH39faweZ4317t4Ov0GiyeP6PKoZ1xJ1hc9pKsg2r0KzBbDAAXYGgMzyo98AAAAfV6VFh0TU9MIHJka2l0IDIwMjQuMDMuNgAAeJx9VFtuGzEM/PcpdIEV+Bb1GdtBURSxgSbtHfrf+6OkDFcKKlS7IvQYcUXOcE8l2/frt1+/y99G19OpFPjP23svPxkATm8lB+X8+uXrrVw+Xs7Plcv9x+3jvRDkO57P2JeP+9tzBculHK2qNVIuUL01dosBjDaPUgKtIjaTXrCSUWfZADmBWkG9K8U+ATDyBigPoEh3w3KES2muukHq49veu5gm0pgFaIO0RHI1iLt57KurG2yArdwTSOgiEVyFdNg3QC+3clBVBYtwDqjSrG1d9vw2VgQEaYmEjrSNHCGhsS7EOkJHZectNAnCKjD4iTPNnLYEIQ1k646WqbEY+S5HmAxxZruZxYkITHgXECZDUhlM7OGIHHY5Qi3vRWtTA2uxz+6s2ztaZLOFJEJvGPshtg47EWHyE2oTtLjFkZdEGoz+g/RAauUGiqlL59YNd8A+wu6oqsOliLLuwqGkh2porYfUj/QJHdoG+Xq7fqqmR32d77frrK98aFZRTArPWsHoMisCo+uUfe7a1DZFb1PBGFOfOsXofYoRs6+Sw2FwUZakQVoUJGmQF6lIGpRFEziMLuTjMLawTGOlLXQ+VnyhTYafvvCT08j+woOkmXfOfK/Zzfnzzxfj0x+Wef0iQnhUGQAAAQt6VFh0U01JTEVTIHJka2l0IDIwMjQuMDMuNgAAeJwlkDluxDAMRa+S0gZkgjspDFKpnxQ5gq8xh8+XA6gQnv4icq11rHWu4/vnfK91y33fx+/xPjfAuW/5+hxXUWRpDKauss7xupJEKmMIaeo0kCCOnlukzCb/yH1CfkHl1fH4ek6vjdLMQYySp21fdDzZRirtPpTYnHeQUgSj7WLyytoiIWHhB/EUFS1A3F0tRHe+hDXMQs7783isbN0NQjVbEpWJS+t42f5gFcZBjcPlZJy+Jcza3HO8giqSC8i6LZBTGBWbAcFaJmMarMUlZddzClrhsuJQJLfVzF01JSK2xD0MRMkz5kPaMMw4P38M3FNEJoMLYAAAAABJRU5ErkJggg==\" alt=\"Mol\"/></div></td>\n",
              "    </tr>\n",
              "    <tr>\n",
              "      <th>6</th>\n",
              "      <td>CCC(C)C(CC)C(=O)Nc1ccc(S(N)(=O)=O)cc1</td>\n",
              "      <td>C14H22N2O3S</td>\n",
              "      <td>298.408</td>\n",
              "      <td>2.3448</td>\n",
              "      <td style=\"text-align: center;\"><div style=\"width: 200px; height: 200px\" data-content=\"rdkit/molecule\"><img src=\"data:image/png;base64,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\" alt=\"Mol\"/></div></td>\n",
              "    </tr>\n",
              "    <tr>\n",
              "      <th>7</th>\n",
              "      <td>CCC(C)C(C(=O)Nc1ccc(S(N)(=O)=O)cc1)C(C)C</td>\n",
              "      <td>C15H24N2O3S</td>\n",
              "      <td>312.435</td>\n",
              "      <td>2.5908</td>\n",
              "      <td style=\"text-align: center;\"><div style=\"width: 200px; height: 200px\" data-content=\"rdkit/molecule\"><img src=\"data:image/png;base64,iVBORw0KGgoAAAANSUhEUgAAAMgAAADICAIAAAAiOjnJAAAABmJLR0QA/wD/AP+gvaeTAAAXGElEQVR4nO3da1hTV9YH8BUgBERRFEZBBFQERSsC2lqkDkWl9VJmtAWLrdUHqlZbOzqPikpbx9GpiNVXrZeito612qod79JhoGqLMKIRpMpdTLgjcg8kIZCs98NhkArK7ewTxPV7+BAwWXvL82efk3322REhIhDCNwN9d4D0TBQswgQFizBBwSJMULAIExQswgQFizBBwSJMULAIExQswgQFizBBwSJMULAIExQswgQFizBBwSJMULAIExQswgQFizBBwSJMULAIExQswgQFizBBwSJMULAIExQswgQFizBBwSJMULAIExQswgQFizBBwSJMULAIExQswgQFizBBwSJMULAIExQswgQFizBBwSJMULAIExQswgQFizBBwSJMULAIExQswgQFizBBwSJMULAIExQswgQFizBBwSJMULAIE0IHKz09vaqqSuBGifCEDlZQUJCtre21a9cEbpcITISIgjWWlJTk7u7er1+//Px8MzMzwdolwhN0xNq9ezcABAcHU6p6POFGrNLS0iFDhtTV1aWnpzs5OQnTKNEX4UasQ4cOqdXqmTNnUqqeBwIFS6vVHjhwAAA+/PBDYVok+iVQsC5cuCCTyRwdHX19fYVpkeiXQMHau3cvAHz44YcGBjQl+1wQ4uQ9LS1t9OjRpqam+fn5FhYWrJsj3YEQ48e+ffsQ8b333qNUPT+Yj1gKhcLW1ra6ujo5OXns2LFM23pEqwVDQ4HaIq1hPmIdOXKkurra29tboFRdvQq+vjB/Pvj6wvXrQrRIWoWMjR49GgBOnTrFuiFExLo6dHfH6mpExJIS9PBAnU6IdkkLbEes6OjolJQUGxubP/3pT0wbaiSTgaMj9OkDAGBlBZaWUFwsRLukBbbB4mYZli5dKhaLmTbUSCyGhoZH3zY0gLGxEO2SFhgGKzc39+LFi8bGxosWLWLXyu/Y20NeHhQVAQDIZKBSwYABAjXdTdy/D/Hx0A1WvBmxK71v3z6tVhsYGDhw4EB2rTySlQVDhsDBg7BsGYjFoNPBN98I0W73sXIlKBQwejSEhsLGjTB5sj47w+jcTa1W/+EPfwCA69evM2ricW5uaGmJiYmoUgnUYrdy5w7OmdP4uKgIX3lFr71BfkasioqK+7937969ysrKESNGvPTSS7w00YbYWEhKAisrcHYGV1cYPRoOHny+joOpqeDu3vh40CC9Hw07FqyWASosLJTL5UqlsuWTzczMCgoK0tPTR44cyVNvn2zvXgCAJUvg8mXIzIS6OujXj3mj3YqFBZSXNz7W6UAk0mtvnhospVL5xRdfyOXynJwcuVyel5dXX1/f8mkikcja2nro0KH29vYODg4ODg7cg02bNh07dszf3z8hIaFXr17M/gsARUVw+jQYGcGSJcC9Ufjoo+du5t3LC0JDIT0dnJxg506YMUO/3XnaJZ36+npTU1OtVtv0EwsLi2H/Y21tbWNjM2zYMGdn5969e7d8eW1t7YsvvpiamhoUFPT1118z6T7nb3+DjRvhrbdgyxZwdgaJBPLynq/jICcnB8LDoawMXn5Z/39aTz8FCwsLi4iIiIqKysjIUKvVHT2Du3v3Lre8/fDhw507B2ybRoODByMAXrmCK1YgAL7/Pqu2urlr13DXLszOxi++QA8PPHNGj31hfknn+PHjAGBiYnL79m1GDSAAjh6NNTVoYYEAKJUyaaj7CwhAADx2DFevRgD8/HM99oX5RejAwMCgoCC1Wh0QEFBdXc17/dqTJwEAPvoIvv0WKirAyws8PHhvpYsqKiqSkpLOnj27c+fO4OBgR0fH8PBw/ptxcAAAkMsfPdAjAcKrUqnc3NwAYO7cufxWTkpKMhCJNk+ejAoFuroiAH7/Pb9NdIhSqczOzo6Ojo6IiAgJCfH39/fw8Oj3hPene/bs4bn5vXsRABcvxkuXEAB9fXmu3xEMZ96bmJiYnDhxYvz48SdOnPDx8Vm8eDFflffs2aNDLPPwuCqV/q28/P9mzXKbM4ev4k938eLFkpKSqqoquVwuk8m4985PGpL79Onj8D/29vanTp1KSEhYu3atj4/PqFGjeOvT8zZicU6cOAEAJiYmt27d4qVgeXl5r169RCJRRkbGm2++CQAbNmzgpXKbgoKCWv1lmpiYDBs2bOrUqYsXLw4LCzt58mRsbGx2drauxeqd+fPnA8CYMWNqa2t561ZKCgKgkxPW1qJIhBIJarW8Fe8g4YKFiEuXLgUAR0fHysrKrlfjTlOmT59eUFAgFovFYnF+fn7Xy7ZJpVJx03LOzs4ff/zxjh07Tp8+fevWrbKysva8PCIiYvr06VVVVdxYFRwczFvPlMqmPOnGjWnwHKutKOSteAcJGiy1Wu3h4QEAb731VhdLabXaYcOGAcDFixdDQ0MBIDAwkJdOtumbb74BAFdX10689uHDh9wl1E2bNt25c4cL6D//+U+++lbwvXfGT0M0dflpaS9KpaBQxPFVuaMEDRYi3rt3r2/fvgCwe/furtQ5d+4cAAwfPlylUnGrJ65du8ZXJ59u/PjxAHD48OFTp04dPXq0o9N7ly9fNjQ0NDAw+M9//nPs2DEAMDU15WsupilP2dkBUimUlR3jpWwnCB0sRDx//rxIJBKLxfHx8Z0uwt34umXLlm+//RYAxo0bx2MPnyI+Ph4ALC0tlUolt1fAmY7PQ3722WcAMHDgwIKCgoULFwKAk5NTNbeiumua8pSXt1oqhaIivU1l6SFYiPiXv/wFAOzs7EpLS9vz/PLycqlUev78ee5t/BtvvCESibiTZTs7OwA4dOgQ6z5z3nnnHQBYt27dTz/9xP0X6uvrO1pEq9VOmzYNALy9vWtqasaNGwcAb7/9dte7l5+/RiqFoqJ/lJTskUohJ2dJ12t2jn6CpdFoPD09AWDWrFnN3zEVFxcnJCScOHEiPDx82bJlM2bMcHFxecoFbO6+anNzcz7fWz1ZSUmJRCIxNDSUyWSzZs0CgM87O7v94MEDGxsbAPj0008zMzPNzc0B4MCBA13u4V6pFOTyxZWVF6VSyMx8raMVIiMbb0YpL8fERCwqwszMxn9KTcWHD9tbRz/BQkS5XN6/f38AmDRpEhcgU1PTJwWof//+bm5us2fPXrFixa5du86dO5ecnFxWVvbee+9xxxRejiNt+vvf/w4As2fPlsvlhoaGEonkwYMHna529epVIyMjAwODf//73z/88AM3ACcmJnalh5WVl6RSyMz0VSrvSqVw965zRyuMHIkrVyIi3ryJy5fj2bO4aVPjP61di9HR7a2jt2AhYkREBPeX2sTCwsLFxaX5PJBUKq2oqHhSBaVS6erqKsxbwvr6eltbWwCIiYlZtWoVACxcuLCLNTdv3sz92cjl8iVLlnR9LkalykhJGZuTs0yrVRYX76isvNDRCq+8goGBmJj4LAfr448/BgAvL6/z58//9ttvnRt1MjIy+vTpI8Bp1smTJwFg1KhRtbW1AwYMAIAbN250saZOp/Pz8wOAiRMnKhQKd3d3APD39+9iWaUy+f79d2SyBQpFbKtPqK+vS03FyEjctw9DQnDuXJw4EQcNwgMH8JVXMCcHX30VExIagzVmDAYEYEAAjhr1LARLoVBw8w5dn4j//vvveTmOPN0f//hHANizZ8/Bgwe5KPBStqyszN7eHgDWrFnTNBfTxcuIaWkTNZp8rba2vr6srk5WWXmppGRffv6a7Oy5aWkvJScPjIqaCIAtv0JDG9fKb9mCS5c+myMWd8vhKzyt+eeuP44a9UJVVQMvBR9z9+5dkUjUp0+fqqoqbo736NGjfBW/fv26sbGxSCQ6c+bMuXPnOjEXo9UqVaqUysrIkpJ9Gk1BVtbM4uLtDQ2ViCiTLZRKocVX71GjdNOm4fvv4+bN+N13eO0a5uejVtsYrLo6fOGF1oOlUODRo5ic3EaX9BasF154AQB++OEHXqqpVKqpUxeMHVsVEMBLvcdxwV2+fHlsbCwAWFlZqXi9F2jbtm3cKeb9+/e5M4RW52Jqa2tTUlIuXbokkx3Ky1udnR2QlvZicvLA5qGpqDjb0FBZXLwjNdWtsvJ8ScnezMxpcvmioqJ/lJV9p1Bc02gKEJ+488D+/Y0PEhLw3DlMScGYmMafREZiVhbeuIHFxW0vptRPsH7++WcAsLa21mg0fNXMysK+fREAeV+NUlFRYWZmJhKJ0tLS3n77bQD45JNP+G1Cp9PNnj0bACZMmFBTU8PNxUyaNOnLL79cvXq1v7//hAkTuGtBnF9/ndg8TLduSe7edeICVFOTwNVUqTLu3Zvz9HY7p6YG//rXNp6jn2DNmTMHADZu3Mhv2ZMnEQDFYuzClH4rtm/fDgDTpk0rLCw0NjY2MjLKy8vjswFERCwvL3dwcOAuFslksl69ellbWz827SKRSJycnHx9fa9e/bSo6B9lZcdaHYFycpYUF4ffuzf74cMI3vv54AFu2IBtvnPVQ7Byc3ONjIzEYnFBQQHvxT/6CAHQzg7bN6XfNp1Ox126OXv27IYNG4CPK+hPcuPGDe60vbS01MTERCQSzZs37/PPPz9+/HhcXFxhYWHL5Tet0moVNTU31OrsmprrlZUX+e1kVBSGhWFYWBtP00Ow1q9fDwDz5s1jUVyjwZdfRgCcNYufLYwuXbrEnfGoVKrBgwcDwJUrV3io+1RhYWEAMHPmzE68tq4u9+7dUSkpY7XaGqkUEhNNn3JGxY7QwVKr1dxihLg4Vis6cnJwwAAEwO3beag2Y8YMANi6dSt3V4iLi0s7h41Oa2hoGDp0KABERkZ24uVabS131oWou33bUioFjaaI9062SehgHTlyBNgvRjh7Fg0McN26rtZJTk42MDCQSCQlJSWTJk0CgP1N75qYOXPmDAAMHz5c29n1n7dvW0mloNEUpqaOl0qhpua//PawPYRY894cN321fPly3itrNHD0KAQHAwCMGQNffQWenvDVV/DBBwAAx4/DjBlPvO1eoaiVy+83X70ul8vlcnl5eXnfvn3HjRtnZWW1ffv2gwcPvvvuu7z3/DFd37pcInFoaHio0cglEgelUlpXJzczm8hrH9tByBTfunULACwsLFgsRlAo0Nu78XFMDIaE4OnTOGAA/vILIuLcuZiTgyoVZmdjdDRGRGBICPr7o4cHWlujt/fWVn85EonEwMDA1NT0t99+473DrcrMzBSJRL169WrnQudWZWf7S6VQVnY8L2+VVApFRVt47GE7CTpi7dy5EwAWLVrEaCsHnQ643Unq6hp/smwZfPIJxMQAAMTHQ2Bg6y90dBzh4uLSfOMJ7sHAgQMXLVp06NChN998UyqVPnbJnAVuYe38+fO5pR+dY2zsAAAajdzY2B4ANJocvrrXfsJ9+tfDhw/t7Ow0Gs29e/e4k1N+1dTAiBHw+usAAEVFMG4cvPQSyOXQuzeUlkJyMixbBtOng4PDoy97+8YHzaYeH6dWqz09PZOSkgICArgbjdjha+vyyqyv1T8f7D3I13iol2j9ZwZ2Iwz3H+Wxn+0i2NjILRHx8/NjVL/VQ+GOHajV4pQpjRftOycrK4sbq1ifuX/55ZcA4N303+i0ixcRAF97De/cQQAcOZKP3nWMcJ/+xS0KEP7TvwwMIDwc4uM7X8HR0ZHr/IoVK7jTREYiIiKAl19R0w2r3JFBLgcBP0e3kTD5/fHHHwFgxIgRnX4L3aaGBvz118bHJSV45w7m52NGRuNPfv4Zu/iGYdmyZQAwfPhwXm6KbCk6OhoAbGxseLh+WlODAGhigjodWloiABYJPZXFNlhlZWWJiYmnT592cXEBgF27djFtjqmmmyL9/PxYzJH++c9/BoBNTYtUusjKCgGwsBDHj0cA/K/QU1m87UFaWFhYVFTUfBfJ7OzsyspK7gm9e/fu3bs3dzvKM0oikfzrX/9yd3c/f/787t27uRuN+JKbm3vhwgU+ty53cICHDxv3cZBKQS6HiYJOZXUsWGVlZdzMYdMUIkehULT6fHNzc+7de25ubnJycnBwsFQq5RZJPovs7e2PHDni5+e3evXqCRMmcItbeLF//36ety53cICbN0Euh5EjwcUFhP+YyPYPbtytla0yNzcfO3asn5/fk/YyYH0cEdLKlSsBYMiQIe28KfJJ1Go196to2rr8vzwesJKTMSEBU1Lwl1+wuJi3su3WgXms0NDQHTt2cPuONsdtRtrmy3Nyctzd3cvLy3ft2sUtknxG1dfXv/rqq3FxcTNnzrxw4YKorf2JNRpNfn4+t8N087OFnJycrKysoUOHHj58OCgoyM3NLTExkc+ObtkCqakwcSJcugQLF0JAAJ/F29T+DHbilt/H8HJzfXeQm5traWkJAFu3bm36oVqtzsjIiIqKioiIWL9+/bx58zw9PW1sbJ6UPLFYHBsbi802g+Cziw8eoJdX42OlEseO5bN4Owi9umHFihXQkZvru63IyEgDAwMjI6Nf/zfJwa3ibzVA1tbWHh4e/v7+ISEhERER0dHR2dnZ9fX1arWauwnW0tKS30X0GBeHH3zw6NvJk7G8nM/6bRF6dUN4ePjNmzfj4uIWLFjQnuNItzV9+vQ1a9aEhYUFBAQkJSUNGjTIycmptra2+dVGbu/7wYMHa7Xa5kfDU6dONR0Nud3OXVxcTExM+Oxf//5QWvro26oqYH+h83eETDGn6TgSHh4ufOs8amhomDJlCgD4+Phws5oqlSo9PZ07Gq5bty4wMNDT09Pa2vopR8N+/fp5eXkV8T6BqdPh5Ml47RpqtXj0KC5YwHP9tgh3Ebq5yMjIWbNmGRoaXrlyxcvLS/gO8KWwsNDV1bW0tNTMzMzc3LyI+0S7FsRi8ZAhQ5oWTQwdOpR7bGNjY8hum//ycti2DeRycHWFlStBImHVUGv0EywAWLt27datW21tbRMTE62srPTSB15s27YtJCSE+zWKxWJLS8uWb5zt7OyMjIQ+69AvvQWroaHBx8cnNjZ2ypQpUVFRDP9w2ZPJZJGRkX5+fmxHoGeK3oIFAMXFxW5ubsXFxZs3b+b2ESU9hj6DBQCXL1/29fVFxKioqKlTp+qxJ4Rfgl9C+j0fH5/Q0FCdTvfuu+8WFhbqtzOER3oesQBAp9O9/vrr0dHR3t7eMTExdI7SM+h5xAIAAwOD7777zsbG5urVqx9w92qRZ5/+RyzOlStXpkyZgohdvI+AdBP6H7E4kyZNEovFACDX70cLEZ50l2D9+OOPGo1mxIgRb7zxhr77QnjQXYK1Z88eAFi1atWze1maNNctzrGSkpLc3d379euXn5/PfYY0edZ1ixGLu1EzKCiIUtVj6H/EqqiosLW15RaccHvnkR5A/yPWgQMHlErljBkzKFU9iZ6DpdPpeLuvnHQneg7WhQsXZDLZ8OHDX3vtNf32hPBLz8HiZhm6snsd6Z70efKelZXl7Oxsamqal5fXlX3GSDekz3GCl93rSPektxGLr93rSPektxHryJEj1dXV3t7elKoeSW/BolmGnk0/h8KYmJhp06bZ2NjI5XJutQzpYfQzYnGzDEuXLqVU9VR6GLFyc3OHDRtmaGiYm5vL2z5jpJvRw4gVHx9vaGjo7+9PqerB9HOOVVxcXFdXx33INumR9L9shvRIdIWOMEHBIkxQsAgTFCzCBAWLMEHBIkxQsAgTFCzCBAWLMEHBIkxQsAgTFCzCBAWLMEHBIkxQsAgTFCzCBAWLMEHBIkxQsAgTFCzCBAWLMEHBIkxQsAgTFCzCBAWLMEHBIkxQsAgTFCzCBAWLMEHBIkxQsAgTFCzCBAWLMEHBIkxQsAgTFCzCBAWLMEHBIkxQsAgTFCzCBAWLMEHBIkxQsAgTFCzCBAWLMEHBIkxQsAgTFCzCBAWLMEHBIkxQsAgTFCzCBAWLMPH/bBgL+2oD3jsAAAGSelRYdHJka2l0UEtMIHJka2l0IDIwMjQuMDMuNgAAeJx7v2/tPQYgEABiRgYIEIXiBkY2hgSQODOEZmKC0Mxo4iC+Bohm4YDQTOwMGWCakc0BIsHmABYAqkQwIDICDApAmo0dYiITzAQYjUUjVjcwMnMD3c/IxMDEzMDEwsDCysDKpsHEyq7AzqHAwZnBxMmVwMWdwcTNw8DDy8DDx8HEw8/BxC2QICCYwcQixCAkzCAkwiDIkeAECgQ2DkEBbi5OcTZGRKAwiMqUxhzw+J10AMT5J2t+oLuLC8x+zFl44P278v0gdrHaigPBuyeD2Uc3eR/gXnHZDsRuvn9j/95oSXsQ282wb39k/18wu5Dfa3/9fQmw+nl/jOx711/aB2J36yyx18uuAKvxjDR0KP45GczWc812SG1V2QtiS7osdWj/KwI2f/bTKw4mfSvBbAHT1Q5hz1aDzVQKnu+wQ/UiWK/AO1eHpazbwOKSYWftG0+eBbNDzzcdWMh+DqzmesGmA0edt4HZPe4JB3pL7B1AbDEAjvpkxqe7lDIAAAIHelRYdE1PTCByZGtpdCAyMDI0LjAzLjYAAHicfVTbjhsxCH3PV/ADsQADNo+bZFVV1U6kbtp/6Hv/XwVP0/FqrXpsy5djCJxDTpDt++3br9/wr/HtdALA/3R3h58VEU9vkAu4vH75usH18XJ5nlzvP7bHOzBlx/w+Yl8e97fnCcEVzrWIiEnPlYppb4AFRzveciK5dCNGyxWZtFh9RtbdZjNjDptY3Lo4LpCSSC0cTl3gTIVUoi+Qutukzq2nT6FanRZASyCVsFcz+qLuqKtf2eA+PBL25kDFO3pdBd5hyyBad/YRjnojW4Xj4RvDtZO1BAqR+Mo3BUnhkjsbetx7w9p1BUx+uLRG2BQyP4a6ck1JTy3WwuDwjYJkS98V3kGTPbUa9yQqEdcCKBG4FdOKnPe1Eo0Xn4AaqdRSFZlb5rQKu61SSRZIiXB7D5fBUpBoK7qpjXDQ2VTTpDCjLE32kUpDoZBYMo+RLV4hk56zlOA7qB5v3HAVOeOuS23GTSC919DTCvm3fhSlRsRcgnvpvkC+brcPhbeX4uW+3Y5SzI+PeosN1KOoKIYclZNbPcqDYthRBByjHVKn2PZD0BTDD9VKDJrFKTkRTSqUnIgnudGY6iQrGpNM+uFxopNQ9hObBCHDTpuYl5yoTwxncOQTkZQTz4TtJzQRI/nS5/zP2c79808z1qc/LbIIRVmp//QAAAEWelRYdFNNSUxFUyByZGtpdCAyMDI0LjAzLjYAAHicJVBLbgUhDLtKlzMSL4rzJRp1NfvXRY8w13iHb6ASiGDsGOe+7+M+ex/fP+f7wfM8x+/xPte11/Pg3ISvz/FSMrPw0YX3WeN6Cc2AYHSBsERDShkhOl5MFdMWy0laUOMFght8szAlazAZVGsJQVGm0pBXsceGAJ5zgGpyWSNMOUtqrvZeiWZx6wqRCzLAqjGQTAl0r0rW2Y5CmeAc6wvBDShFNqNFbIwIHZevEG3MBHNrkysoXFkbUQX+Oeq84oHUpHJc1h6zunF0kFiNuSRiMUxkWfUTG3b+4NxTMuKZE0vFFdhD8gxZHzTRnbXHzKY5hDpfD/L8/AHnjFdZbiQHawAAAABJRU5ErkJggg==\" alt=\"Mol\"/></div></td>\n",
              "    </tr>\n",
              "    <tr>\n",
              "      <th>8</th>\n",
              "      <td>CCCC(C(=O)Nc1ccc(S(N)(=O)=O)cc1)C(C)(C)C</td>\n",
              "      <td>C15H24N2O3S</td>\n",
              "      <td>312.435</td>\n",
              "      <td>2.7349</td>\n",
              "      <td style=\"text-align: center;\"><div style=\"width: 200px; height: 200px\" data-content=\"rdkit/molecule\"><img src=\"data:image/png;base64,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\" alt=\"Mol\"/></div></td>\n",
              "    </tr>\n",
              "    <tr>\n",
              "      <th>9</th>\n",
              "      <td>CCC(CC(C)C)C(=O)Nc1ccc(S(N)(=O)=O)cc1</td>\n",
              "      <td>C14H22N2O3S</td>\n",
              "      <td>298.408</td>\n",
              "      <td>2.3448</td>\n",
              "      <td style=\"text-align: center;\"><div style=\"width: 200px; height: 200px\" data-content=\"rdkit/molecule\"><img src=\"data:image/png;base64,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\" alt=\"Mol\"/></div></td>\n",
              "    </tr>\n",
              "  </tbody>\n",
              "</table>\n",
              "</div>\n",
              "    <div class=\"colab-df-buttons\">\n",
              "\n",
              "  <div class=\"colab-df-container\">\n",
              "    <button class=\"colab-df-convert\" onclick=\"convertToInteractive('df-4cf7d711-63cc-4192-b62e-d39d48f46477')\"\n",
              "            title=\"Convert this dataframe to an interactive table.\"\n",
              "            style=\"display:none;\">\n",
              "\n",
              "  <svg xmlns=\"http://www.w3.org/2000/svg\" height=\"24px\" viewBox=\"0 -960 960 960\">\n",
              "    <path d=\"M120-120v-720h720v720H120Zm60-500h600v-160H180v160Zm220 220h160v-160H400v160Zm0 220h160v-160H400v160ZM180-400h160v-160H180v160Zm440 0h160v-160H620v160ZM180-180h160v-160H180v160Zm440 0h160v-160H620v160Z\"/>\n",
              "  </svg>\n",
              "    </button>\n",
              "\n",
              "  <style>\n",
              "    .colab-df-container {\n",
              "      display:flex;\n",
              "      gap: 12px;\n",
              "    }\n",
              "\n",
              "    .colab-df-convert {\n",
              "      background-color: #E8F0FE;\n",
              "      border: none;\n",
              "      border-radius: 50%;\n",
              "      cursor: pointer;\n",
              "      display: none;\n",
              "      fill: #1967D2;\n",
              "      height: 32px;\n",
              "      padding: 0 0 0 0;\n",
              "      width: 32px;\n",
              "    }\n",
              "\n",
              "    .colab-df-convert:hover {\n",
              "      background-color: #E2EBFA;\n",
              "      box-shadow: 0px 1px 2px rgba(60, 64, 67, 0.3), 0px 1px 3px 1px rgba(60, 64, 67, 0.15);\n",
              "      fill: #174EA6;\n",
              "    }\n",
              "\n",
              "    .colab-df-buttons div {\n",
              "      margin-bottom: 4px;\n",
              "    }\n",
              "\n",
              "    [theme=dark] .colab-df-convert {\n",
              "      background-color: #3B4455;\n",
              "      fill: #D2E3FC;\n",
              "    }\n",
              "\n",
              "    [theme=dark] .colab-df-convert:hover {\n",
              "      background-color: #434B5C;\n",
              "      box-shadow: 0px 1px 3px 1px rgba(0, 0, 0, 0.15);\n",
              "      filter: drop-shadow(0px 1px 2px rgba(0, 0, 0, 0.3));\n",
              "      fill: #FFFFFF;\n",
              "    }\n",
              "  </style>\n",
              "\n",
              "    <script>\n",
              "      const buttonEl =\n",
              "        document.querySelector('#df-4cf7d711-63cc-4192-b62e-d39d48f46477 button.colab-df-convert');\n",
              "      buttonEl.style.display =\n",
              "        google.colab.kernel.accessAllowed ? 'block' : 'none';\n",
              "\n",
              "      async function convertToInteractive(key) {\n",
              "        const element = document.querySelector('#df-4cf7d711-63cc-4192-b62e-d39d48f46477');\n",
              "        const dataTable =\n",
              "          await google.colab.kernel.invokeFunction('convertToInteractive',\n",
              "                                                    [key], {});\n",
              "        if (!dataTable) return;\n",
              "\n",
              "        const docLinkHtml = 'Like what you see? Visit the ' +\n",
              "          '<a target=\"_blank\" href=https://colab.research.google.com/notebooks/data_table.ipynb>data table notebook</a>'\n",
              "          + ' to learn more about interactive tables.';\n",
              "        element.innerHTML = '';\n",
              "        dataTable['output_type'] = 'display_data';\n",
              "        await google.colab.output.renderOutput(dataTable, element);\n",
              "        const docLink = document.createElement('div');\n",
              "        docLink.innerHTML = docLinkHtml;\n",
              "        element.appendChild(docLink);\n",
              "      }\n",
              "    </script>\n",
              "  </div>\n",
              "\n",
              "\n",
              "<div id=\"df-15869248-fa33-4ec4-a242-ccd9c4b37050\">\n",
              "  <button class=\"colab-df-quickchart\" onclick=\"quickchart('df-15869248-fa33-4ec4-a242-ccd9c4b37050')\"\n",
              "            title=\"Suggest charts\"\n",
              "            style=\"display:none;\">\n",
              "\n",
              "<svg xmlns=\"http://www.w3.org/2000/svg\" height=\"24px\"viewBox=\"0 0 24 24\"\n",
              "     width=\"24px\">\n",
              "    <g>\n",
              "        <path d=\"M19 3H5c-1.1 0-2 .9-2 2v14c0 1.1.9 2 2 2h14c1.1 0 2-.9 2-2V5c0-1.1-.9-2-2-2zM9 17H7v-7h2v7zm4 0h-2V7h2v10zm4 0h-2v-4h2v4z\"/>\n",
              "    </g>\n",
              "</svg>\n",
              "  </button>\n",
              "\n",
              "<style>\n",
              "  .colab-df-quickchart {\n",
              "      --bg-color: #E8F0FE;\n",
              "      --fill-color: #1967D2;\n",
              "      --hover-bg-color: #E2EBFA;\n",
              "      --hover-fill-color: #174EA6;\n",
              "      --disabled-fill-color: #AAA;\n",
              "      --disabled-bg-color: #DDD;\n",
              "  }\n",
              "\n",
              "  [theme=dark] .colab-df-quickchart {\n",
              "      --bg-color: #3B4455;\n",
              "      --fill-color: #D2E3FC;\n",
              "      --hover-bg-color: #434B5C;\n",
              "      --hover-fill-color: #FFFFFF;\n",
              "      --disabled-bg-color: #3B4455;\n",
              "      --disabled-fill-color: #666;\n",
              "  }\n",
              "\n",
              "  .colab-df-quickchart {\n",
              "    background-color: var(--bg-color);\n",
              "    border: none;\n",
              "    border-radius: 50%;\n",
              "    cursor: pointer;\n",
              "    display: none;\n",
              "    fill: var(--fill-color);\n",
              "    height: 32px;\n",
              "    padding: 0;\n",
              "    width: 32px;\n",
              "  }\n",
              "\n",
              "  .colab-df-quickchart:hover {\n",
              "    background-color: var(--hover-bg-color);\n",
              "    box-shadow: 0 1px 2px rgba(60, 64, 67, 0.3), 0 1px 3px 1px rgba(60, 64, 67, 0.15);\n",
              "    fill: var(--button-hover-fill-color);\n",
              "  }\n",
              "\n",
              "  .colab-df-quickchart-complete:disabled,\n",
              "  .colab-df-quickchart-complete:disabled:hover {\n",
              "    background-color: var(--disabled-bg-color);\n",
              "    fill: var(--disabled-fill-color);\n",
              "    box-shadow: none;\n",
              "  }\n",
              "\n",
              "  .colab-df-spinner {\n",
              "    border: 2px solid var(--fill-color);\n",
              "    border-color: transparent;\n",
              "    border-bottom-color: var(--fill-color);\n",
              "    animation:\n",
              "      spin 1s steps(1) infinite;\n",
              "  }\n",
              "\n",
              "  @keyframes spin {\n",
              "    0% {\n",
              "      border-color: transparent;\n",
              "      border-bottom-color: var(--fill-color);\n",
              "      border-left-color: var(--fill-color);\n",
              "    }\n",
              "    20% {\n",
              "      border-color: transparent;\n",
              "      border-left-color: var(--fill-color);\n",
              "      border-top-color: var(--fill-color);\n",
              "    }\n",
              "    30% {\n",
              "      border-color: transparent;\n",
              "      border-left-color: var(--fill-color);\n",
              "      border-top-color: var(--fill-color);\n",
              "      border-right-color: var(--fill-color);\n",
              "    }\n",
              "    40% {\n",
              "      border-color: transparent;\n",
              "      border-right-color: var(--fill-color);\n",
              "      border-top-color: var(--fill-color);\n",
              "    }\n",
              "    60% {\n",
              "      border-color: transparent;\n",
              "      border-right-color: var(--fill-color);\n",
              "    }\n",
              "    80% {\n",
              "      border-color: transparent;\n",
              "      border-right-color: var(--fill-color);\n",
              "      border-bottom-color: var(--fill-color);\n",
              "    }\n",
              "    90% {\n",
              "      border-color: transparent;\n",
              "      border-bottom-color: var(--fill-color);\n",
              "    }\n",
              "  }\n",
              "</style>\n",
              "\n",
              "  <script>\n",
              "    async function quickchart(key) {\n",
              "      const quickchartButtonEl =\n",
              "        document.querySelector('#' + key + ' button');\n",
              "      quickchartButtonEl.disabled = true;  // To prevent multiple clicks.\n",
              "      quickchartButtonEl.classList.add('colab-df-spinner');\n",
              "      try {\n",
              "        const charts = await google.colab.kernel.invokeFunction(\n",
              "            'suggestCharts', [key], {});\n",
              "      } catch (error) {\n",
              "        console.error('Error during call to suggestCharts:', error);\n",
              "      }\n",
              "      quickchartButtonEl.classList.remove('colab-df-spinner');\n",
              "      quickchartButtonEl.classList.add('colab-df-quickchart-complete');\n",
              "    }\n",
              "    (() => {\n",
              "      let quickchartButtonEl =\n",
              "        document.querySelector('#df-15869248-fa33-4ec4-a242-ccd9c4b37050 button');\n",
              "      quickchartButtonEl.style.display =\n",
              "        google.colab.kernel.accessAllowed ? 'block' : 'none';\n",
              "    })();\n",
              "  </script>\n",
              "</div>\n",
              "\n",
              "    </div>\n",
              "  </div>\n"
            ],
            "application/vnd.google.colaboratory.intrinsic+json": {
              "type": "dataframe",
              "summary": "{\n  \"name\": \"clean_df[:10]\",\n  \"rows\": 10,\n  \"fields\": [\n    {\n      \"column\": \"canonical_smiles\",\n      \"properties\": {\n        \"dtype\": \"string\",\n        \"num_unique_values\": 10,\n        \"samples\": [\n          \"CCCC(C(=O)Nc1ccc(S(N)(=O)=O)cc1)C(C)(C)C\",\n          \"NS(=O)(=O)c1cc(C2(O)NC(=O)c3ccccc32)ccc1Cl\",\n          \"CCC(CC)C(=O)NCCc1ccc(S(N)(=O)=O)cc1\"\n        ],\n        \"semantic_type\": \"\",\n        \"description\": \"\"\n      }\n    },\n    {\n      \"column\": \"formula\",\n      \"properties\": {\n        \"dtype\": \"string\",\n        \"num_unique_values\": 7,\n        \"samples\": [\n          \"C8H8Cl3N3O4S2\",\n          \"C14H11ClN2O4S\",\n          \"C14H22N2O3S\"\n        ],\n        \"semantic_type\": \"\",\n        \"description\": \"\"\n      }\n    },\n    {\n      \"column\": \"mol_weight\",\n      \"properties\": {\n        \"dtype\": \"number\",\n        \"std\": 74.08724113997859,\n        \"min\": 143.23,\n        \"max\": 380.66200000000003,\n        \"num_unique_values\": 7,\n        \"samples\": [\n          380.66200000000003,\n          338.77200000000005,\n          298.408\n        ],\n        \"semantic_type\": \"\",\n        \"description\": \"\"\n      }\n    },\n    {\n      \"column\": \"logp\",\n      \"properties\": {\n        \"dtype\": \"number\",\n        \"std\": 1.3758546414259512,\n        \"min\": -1.835999999999998,\n        \"max\": 2.7349000000000006,\n        \"num_unique_values\": 9,\n        \"samples\": [\n          2.5908000000000007,\n          0.9242000000000001,\n          1.4288999999999998\n        ],\n        \"semantic_type\": \"\",\n        \"description\": \"\"\n      }\n    },\n    {\n      \"column\": \"ROMol\",\n      \"properties\": {\n        \"dtype\": \"string\",\n        \"num_unique_values\": 10,\n        \"samples\": [\n          \"<rdkit.Chem.rdchem.Mol object at 0x79242f2d6ff0>\",\n          \"<rdkit.Chem.rdchem.Mol object at 0x79242f2d6c70>\",\n          \"<rdkit.Chem.rdchem.Mol object at 0x79242f2d6ea0>\"\n        ],\n        \"semantic_type\": \"\",\n        \"description\": \"\"\n      }\n    }\n  ]\n}"
            }
          },
          "metadata": {},
          "execution_count": 91
        }
      ],
      "source": [
        "#Reorder and create a new clean dataframe\n",
        "columns_previous = df.columns\n",
        "columns = ['canonical_smiles', 'formula', 'mol_weight', 'logp', 'ROMol']\n",
        "clean_df = df[columns]\n",
        "clean_df[:10]"
      ]
    },
    {
      "cell_type": "markdown",
      "id": "4a412fa9-ebf1-4f6a-a8e9-735105ada8c7",
      "metadata": {
        "id": "4a412fa9-ebf1-4f6a-a8e9-735105ada8c7"
      },
      "source": [
        "Exercice : Can you give me the number of molecules that have a molecular weight superior than 400 ? To iterate through rows of a dataset you can use this:\n",
        "\n",
        "for index, row in clean_df.iterrows():\n",
        "\n",
        "and this :\n",
        "\n",
        "row['mol_weight']"
      ]
    },
    {
      "cell_type": "code",
      "execution_count": 91,
      "id": "9502d4f9-584a-478e-ac28-82d5c538c164",
      "metadata": {
        "id": "9502d4f9-584a-478e-ac28-82d5c538c164"
      },
      "outputs": [],
      "source": []
    },
    {
      "cell_type": "markdown",
      "id": "b122b683-fd1d-4e55-bedc-ceeeccad3f6b",
      "metadata": {
        "id": "b122b683-fd1d-4e55-bedc-ceeeccad3f6b"
      },
      "source": [
        "We will now make some data analysis on atoms in this dataset"
      ]
    },
    {
      "cell_type": "code",
      "execution_count": 92,
      "id": "82a03111-0bf8-43b2-8489-ae42f671bea1",
      "metadata": {
        "id": "82a03111-0bf8-43b2-8489-ae42f671bea1",
        "colab": {
          "base_uri": "https://localhost:8080/"
        },
        "outputId": "e3c6e8ce-b52c-449d-b897-3a74a05f9890"
      },
      "outputs": [
        {
          "output_type": "stream",
          "name": "stdout",
          "text": [
            "Unique Atom Types: ['O', 'Te', 'K', 'P', 'Na', 'Br', 'N', 'C', 'Si', 'F', 'S', 'I', 'B', 'Zn', 'Se', 'H', 'Cl']\n"
          ]
        }
      ],
      "source": [
        "import re\n",
        "\n",
        "def extract_atom_types(formulas):\n",
        "    \"\"\"\n",
        "    Extract unique atom types from a list of chemical formulas.\n",
        "\n",
        "    Parameters:\n",
        "    - formulas (list): A list of chemical formulas.\n",
        "\n",
        "    Returns:\n",
        "    - list: A list of unique atom types extracted from the input formulas.\n",
        "    \"\"\"\n",
        "\n",
        "    unique_atom_types = set()\n",
        "\n",
        "    # Use regular expressions to extract atom type and count from each formula\n",
        "    pattern = r'([A-Z][a-z]*)'\n",
        "\n",
        "    for formula in formulas:\n",
        "        matches = re.findall(pattern, formula)\n",
        "        unique_atom_types.update(matches)\n",
        "\n",
        "    return list(unique_atom_types)\n",
        "\n",
        "#we check the unique types of atom present in this database\n",
        "unique_types = extract_atom_types(df['formula'])\n",
        "\n",
        "print(\"Unique Atom Types:\", unique_types)\n"
      ]
    },
    {
      "cell_type": "code",
      "execution_count": 93,
      "id": "217a17cc-84fa-4a7c-8281-3c4b57ec3b97",
      "metadata": {
        "id": "217a17cc-84fa-4a7c-8281-3c4b57ec3b97",
        "colab": {
          "base_uri": "https://localhost:8080/",
          "height": 1000
        },
        "outputId": "8f6a578b-0d4c-4bed-f7e0-2a8a36907f3b"
      },
      "outputs": [
        {
          "output_type": "execute_result",
          "data": {
            "text/plain": [
              "                              canonical_smiles        formula  mol_weight  \\\n",
              "0  NS(=O)(=O)c1cc2c(cc1Cl)NC(C(Cl)Cl)NS2(=O)=O  C8H8Cl3N3O4S2     380.662   \n",
              "1   NS(=O)(=O)c1cc(C2(O)NC(=O)c3ccccc32)ccc1Cl  C14H11ClN2O4S     338.772   \n",
              "2                     NS(=O)(=O)c1ccc(SCCO)cc1     C8H11NO3S2     233.314   \n",
              "3                       CCN(CC)C(=S)[S-].[Na+]     C5H10NNaS2     171.266   \n",
              "4                              CCCCC(CC)C(N)=O        C8H17NO     143.230   \n",
              "\n",
              "     logp                                             ROMol  O  Te  K  P  Na  \\\n",
              "0  0.8210  <rdkit.Chem.rdchem.Mol object at 0x79242f2d6c00>  4   0  0  0   0   \n",
              "1  0.9242  <rdkit.Chem.rdchem.Mol object at 0x79242f2d6c70>  4   0  0  0   0   \n",
              "2  0.4184  <rdkit.Chem.rdchem.Mol object at 0x79242f2d6d50>  3   0  0  0   0   \n",
              "3 -1.8360  <rdkit.Chem.rdchem.Mol object at 0x79242f2d6dc0>  0   0  0  0   1   \n",
              "4  1.6881  <rdkit.Chem.rdchem.Mol object at 0x79242f2d6e30>  1   0  0  0   0   \n",
              "\n",
              "   ...   C  Si  F  S  I  B  Zn  Se   H  Cl  \n",
              "0  ...   8   0  0  2  0  0   0   0   8   3  \n",
              "1  ...  14   0  0  1  0  0   0   0  11   1  \n",
              "2  ...   8   0  0  2  0  0   0   0  11   0  \n",
              "3  ...   5   0  0  2  0  0   0   0  10   0  \n",
              "4  ...   8   0  0  0  0  0   0   0  17   0  \n",
              "\n",
              "[5 rows x 22 columns]"
            ],
            "text/html": [
              "\n",
              "  <div id=\"df-718180a8-601b-435e-8b69-17457adb1cd3\" class=\"colab-df-container\">\n",
              "    <div>\n",
              "<style scoped>\n",
              "    .dataframe tbody tr th:only-of-type {\n",
              "        vertical-align: middle;\n",
              "    }\n",
              "\n",
              "    .dataframe tbody tr th {\n",
              "        vertical-align: top;\n",
              "    }\n",
              "\n",
              "    .dataframe thead th {\n",
              "        text-align: right;\n",
              "    }\n",
              "</style>\n",
              "<table border=\"1\" class=\"dataframe\">\n",
              "  <thead>\n",
              "    <tr style=\"text-align: right;\">\n",
              "      <th></th>\n",
              "      <th>canonical_smiles</th>\n",
              "      <th>formula</th>\n",
              "      <th>mol_weight</th>\n",
              "      <th>logp</th>\n",
              "      <th>ROMol</th>\n",
              "      <th>O</th>\n",
              "      <th>Te</th>\n",
              "      <th>K</th>\n",
              "      <th>P</th>\n",
              "      <th>Na</th>\n",
              "      <th>...</th>\n",
              "      <th>C</th>\n",
              "      <th>Si</th>\n",
              "      <th>F</th>\n",
              "      <th>S</th>\n",
              "      <th>I</th>\n",
              "      <th>B</th>\n",
              "      <th>Zn</th>\n",
              "      <th>Se</th>\n",
              "      <th>H</th>\n",
              "      <th>Cl</th>\n",
              "    </tr>\n",
              "  </thead>\n",
              "  <tbody>\n",
              "    <tr>\n",
              "      <th>0</th>\n",
              "      <td>NS(=O)(=O)c1cc2c(cc1Cl)NC(C(Cl)Cl)NS2(=O)=O</td>\n",
              "      <td>C8H8Cl3N3O4S2</td>\n",
              "      <td>380.662</td>\n",
              "      <td>0.8210</td>\n",
              "      <td style=\"text-align: center;\"><div style=\"width: 200px; height: 200px\" data-content=\"rdkit/molecule\"><img src=\"data:image/png;base64,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\" alt=\"Mol\"/></div></td>\n",
              "      <td>4</td>\n",
              "      <td>0</td>\n",
              "      <td>0</td>\n",
              "      <td>0</td>\n",
              "      <td>0</td>\n",
              "      <td>...</td>\n",
              "      <td>8</td>\n",
              "      <td>0</td>\n",
              "      <td>0</td>\n",
              "      <td>2</td>\n",
              "      <td>0</td>\n",
              "      <td>0</td>\n",
              "      <td>0</td>\n",
              "      <td>0</td>\n",
              "      <td>8</td>\n",
              "      <td>3</td>\n",
              "    </tr>\n",
              "    <tr>\n",
              "      <th>1</th>\n",
              "      <td>NS(=O)(=O)c1cc(C2(O)NC(=O)c3ccccc32)ccc1Cl</td>\n",
              "      <td>C14H11ClN2O4S</td>\n",
              "      <td>338.772</td>\n",
              "      <td>0.9242</td>\n",
              "      <td style=\"text-align: center;\"><div style=\"width: 200px; height: 200px\" data-content=\"rdkit/molecule\"><img src=\"data:image/png;base64,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\" alt=\"Mol\"/></div></td>\n",
              "      <td>4</td>\n",
              "      <td>0</td>\n",
              "      <td>0</td>\n",
              "      <td>0</td>\n",
              "      <td>0</td>\n",
              "      <td>...</td>\n",
              "      <td>14</td>\n",
              "      <td>0</td>\n",
              "      <td>0</td>\n",
              "      <td>1</td>\n",
              "      <td>0</td>\n",
              "      <td>0</td>\n",
              "      <td>0</td>\n",
              "      <td>0</td>\n",
              "      <td>11</td>\n",
              "      <td>1</td>\n",
              "    </tr>\n",
              "    <tr>\n",
              "      <th>2</th>\n",
              "      <td>NS(=O)(=O)c1ccc(SCCO)cc1</td>\n",
              "      <td>C8H11NO3S2</td>\n",
              "      <td>233.314</td>\n",
              "      <td>0.4184</td>\n",
              "      <td style=\"text-align: center;\"><div style=\"width: 200px; height: 200px\" data-content=\"rdkit/molecule\"><img src=\"data:image/png;base64,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\" alt=\"Mol\"/></div></td>\n",
              "      <td>3</td>\n",
              "      <td>0</td>\n",
              "      <td>0</td>\n",
              "      <td>0</td>\n",
              "      <td>0</td>\n",
              "      <td>...</td>\n",
              "      <td>8</td>\n",
              "      <td>0</td>\n",
              "      <td>0</td>\n",
              "      <td>2</td>\n",
              "      <td>0</td>\n",
              "      <td>0</td>\n",
              "      <td>0</td>\n",
              "      <td>0</td>\n",
              "      <td>11</td>\n",
              "      <td>0</td>\n",
              "    </tr>\n",
              "    <tr>\n",
              "      <th>3</th>\n",
              "      <td>CCN(CC)C(=S)[S-].[Na+]</td>\n",
              "      <td>C5H10NNaS2</td>\n",
              "      <td>171.266</td>\n",
              "      <td>-1.8360</td>\n",
              "      <td style=\"text-align: center;\"><div style=\"width: 200px; height: 200px\" data-content=\"rdkit/molecule\"><img src=\"data:image/png;base64,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\" alt=\"Mol\"/></div></td>\n",
              "      <td>0</td>\n",
              "      <td>0</td>\n",
              "      <td>0</td>\n",
              "      <td>0</td>\n",
              "      <td>1</td>\n",
              "      <td>...</td>\n",
              "      <td>5</td>\n",
              "      <td>0</td>\n",
              "      <td>0</td>\n",
              "      <td>2</td>\n",
              "      <td>0</td>\n",
              "      <td>0</td>\n",
              "      <td>0</td>\n",
              "      <td>0</td>\n",
              "      <td>10</td>\n",
              "      <td>0</td>\n",
              "    </tr>\n",
              "    <tr>\n",
              "      <th>4</th>\n",
              "      <td>CCCCC(CC)C(N)=O</td>\n",
              "      <td>C8H17NO</td>\n",
              "      <td>143.230</td>\n",
              "      <td>1.6881</td>\n",
              "      <td style=\"text-align: center;\"><div style=\"width: 200px; height: 200px\" data-content=\"rdkit/molecule\"><img src=\"data:image/png;base64,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\" alt=\"Mol\"/></div></td>\n",
              "      <td>1</td>\n",
              "      <td>0</td>\n",
              "      <td>0</td>\n",
              "      <td>0</td>\n",
              "      <td>0</td>\n",
              "      <td>...</td>\n",
              "      <td>8</td>\n",
              "      <td>0</td>\n",
              "      <td>0</td>\n",
              "      <td>0</td>\n",
              "      <td>0</td>\n",
              "      <td>0</td>\n",
              "      <td>0</td>\n",
              "      <td>0</td>\n",
              "      <td>17</td>\n",
              "      <td>0</td>\n",
              "    </tr>\n",
              "  </tbody>\n",
              "</table>\n",
              "<p>5 rows × 22 columns</p>\n",
              "</div>\n",
              "    <div class=\"colab-df-buttons\">\n",
              "\n",
              "  <div class=\"colab-df-container\">\n",
              "    <button class=\"colab-df-convert\" onclick=\"convertToInteractive('df-718180a8-601b-435e-8b69-17457adb1cd3')\"\n",
              "            title=\"Convert this dataframe to an interactive table.\"\n",
              "            style=\"display:none;\">\n",
              "\n",
              "  <svg xmlns=\"http://www.w3.org/2000/svg\" height=\"24px\" viewBox=\"0 -960 960 960\">\n",
              "    <path d=\"M120-120v-720h720v720H120Zm60-500h600v-160H180v160Zm220 220h160v-160H400v160Zm0 220h160v-160H400v160ZM180-400h160v-160H180v160Zm440 0h160v-160H620v160ZM180-180h160v-160H180v160Zm440 0h160v-160H620v160Z\"/>\n",
              "  </svg>\n",
              "    </button>\n",
              "\n",
              "  <style>\n",
              "    .colab-df-container {\n",
              "      display:flex;\n",
              "      gap: 12px;\n",
              "    }\n",
              "\n",
              "    .colab-df-convert {\n",
              "      background-color: #E8F0FE;\n",
              "      border: none;\n",
              "      border-radius: 50%;\n",
              "      cursor: pointer;\n",
              "      display: none;\n",
              "      fill: #1967D2;\n",
              "      height: 32px;\n",
              "      padding: 0 0 0 0;\n",
              "      width: 32px;\n",
              "    }\n",
              "\n",
              "    .colab-df-convert:hover {\n",
              "      background-color: #E2EBFA;\n",
              "      box-shadow: 0px 1px 2px rgba(60, 64, 67, 0.3), 0px 1px 3px 1px rgba(60, 64, 67, 0.15);\n",
              "      fill: #174EA6;\n",
              "    }\n",
              "\n",
              "    .colab-df-buttons div {\n",
              "      margin-bottom: 4px;\n",
              "    }\n",
              "\n",
              "    [theme=dark] .colab-df-convert {\n",
              "      background-color: #3B4455;\n",
              "      fill: #D2E3FC;\n",
              "    }\n",
              "\n",
              "    [theme=dark] .colab-df-convert:hover {\n",
              "      background-color: #434B5C;\n",
              "      box-shadow: 0px 1px 3px 1px rgba(0, 0, 0, 0.15);\n",
              "      filter: drop-shadow(0px 1px 2px rgba(0, 0, 0, 0.3));\n",
              "      fill: #FFFFFF;\n",
              "    }\n",
              "  </style>\n",
              "\n",
              "    <script>\n",
              "      const buttonEl =\n",
              "        document.querySelector('#df-718180a8-601b-435e-8b69-17457adb1cd3 button.colab-df-convert');\n",
              "      buttonEl.style.display =\n",
              "        google.colab.kernel.accessAllowed ? 'block' : 'none';\n",
              "\n",
              "      async function convertToInteractive(key) {\n",
              "        const element = document.querySelector('#df-718180a8-601b-435e-8b69-17457adb1cd3');\n",
              "        const dataTable =\n",
              "          await google.colab.kernel.invokeFunction('convertToInteractive',\n",
              "                                                    [key], {});\n",
              "        if (!dataTable) return;\n",
              "\n",
              "        const docLinkHtml = 'Like what you see? Visit the ' +\n",
              "          '<a target=\"_blank\" href=https://colab.research.google.com/notebooks/data_table.ipynb>data table notebook</a>'\n",
              "          + ' to learn more about interactive tables.';\n",
              "        element.innerHTML = '';\n",
              "        dataTable['output_type'] = 'display_data';\n",
              "        await google.colab.output.renderOutput(dataTable, element);\n",
              "        const docLink = document.createElement('div');\n",
              "        docLink.innerHTML = docLinkHtml;\n",
              "        element.appendChild(docLink);\n",
              "      }\n",
              "    </script>\n",
              "  </div>\n",
              "\n",
              "\n",
              "<div id=\"df-c80f28a5-6826-4841-820f-fa65358ade99\">\n",
              "  <button class=\"colab-df-quickchart\" onclick=\"quickchart('df-c80f28a5-6826-4841-820f-fa65358ade99')\"\n",
              "            title=\"Suggest charts\"\n",
              "            style=\"display:none;\">\n",
              "\n",
              "<svg xmlns=\"http://www.w3.org/2000/svg\" height=\"24px\"viewBox=\"0 0 24 24\"\n",
              "     width=\"24px\">\n",
              "    <g>\n",
              "        <path d=\"M19 3H5c-1.1 0-2 .9-2 2v14c0 1.1.9 2 2 2h14c1.1 0 2-.9 2-2V5c0-1.1-.9-2-2-2zM9 17H7v-7h2v7zm4 0h-2V7h2v10zm4 0h-2v-4h2v4z\"/>\n",
              "    </g>\n",
              "</svg>\n",
              "  </button>\n",
              "\n",
              "<style>\n",
              "  .colab-df-quickchart {\n",
              "      --bg-color: #E8F0FE;\n",
              "      --fill-color: #1967D2;\n",
              "      --hover-bg-color: #E2EBFA;\n",
              "      --hover-fill-color: #174EA6;\n",
              "      --disabled-fill-color: #AAA;\n",
              "      --disabled-bg-color: #DDD;\n",
              "  }\n",
              "\n",
              "  [theme=dark] .colab-df-quickchart {\n",
              "      --bg-color: #3B4455;\n",
              "      --fill-color: #D2E3FC;\n",
              "      --hover-bg-color: #434B5C;\n",
              "      --hover-fill-color: #FFFFFF;\n",
              "      --disabled-bg-color: #3B4455;\n",
              "      --disabled-fill-color: #666;\n",
              "  }\n",
              "\n",
              "  .colab-df-quickchart {\n",
              "    background-color: var(--bg-color);\n",
              "    border: none;\n",
              "    border-radius: 50%;\n",
              "    cursor: pointer;\n",
              "    display: none;\n",
              "    fill: var(--fill-color);\n",
              "    height: 32px;\n",
              "    padding: 0;\n",
              "    width: 32px;\n",
              "  }\n",
              "\n",
              "  .colab-df-quickchart:hover {\n",
              "    background-color: var(--hover-bg-color);\n",
              "    box-shadow: 0 1px 2px rgba(60, 64, 67, 0.3), 0 1px 3px 1px rgba(60, 64, 67, 0.15);\n",
              "    fill: var(--button-hover-fill-color);\n",
              "  }\n",
              "\n",
              "  .colab-df-quickchart-complete:disabled,\n",
              "  .colab-df-quickchart-complete:disabled:hover {\n",
              "    background-color: var(--disabled-bg-color);\n",
              "    fill: var(--disabled-fill-color);\n",
              "    box-shadow: none;\n",
              "  }\n",
              "\n",
              "  .colab-df-spinner {\n",
              "    border: 2px solid var(--fill-color);\n",
              "    border-color: transparent;\n",
              "    border-bottom-color: var(--fill-color);\n",
              "    animation:\n",
              "      spin 1s steps(1) infinite;\n",
              "  }\n",
              "\n",
              "  @keyframes spin {\n",
              "    0% {\n",
              "      border-color: transparent;\n",
              "      border-bottom-color: var(--fill-color);\n",
              "      border-left-color: var(--fill-color);\n",
              "    }\n",
              "    20% {\n",
              "      border-color: transparent;\n",
              "      border-left-color: var(--fill-color);\n",
              "      border-top-color: var(--fill-color);\n",
              "    }\n",
              "    30% {\n",
              "      border-color: transparent;\n",
              "      border-left-color: var(--fill-color);\n",
              "      border-top-color: var(--fill-color);\n",
              "      border-right-color: var(--fill-color);\n",
              "    }\n",
              "    40% {\n",
              "      border-color: transparent;\n",
              "      border-right-color: var(--fill-color);\n",
              "      border-top-color: var(--fill-color);\n",
              "    }\n",
              "    60% {\n",
              "      border-color: transparent;\n",
              "      border-right-color: var(--fill-color);\n",
              "    }\n",
              "    80% {\n",
              "      border-color: transparent;\n",
              "      border-right-color: var(--fill-color);\n",
              "      border-bottom-color: var(--fill-color);\n",
              "    }\n",
              "    90% {\n",
              "      border-color: transparent;\n",
              "      border-bottom-color: var(--fill-color);\n",
              "    }\n",
              "  }\n",
              "</style>\n",
              "\n",
              "  <script>\n",
              "    async function quickchart(key) {\n",
              "      const quickchartButtonEl =\n",
              "        document.querySelector('#' + key + ' button');\n",
              "      quickchartButtonEl.disabled = true;  // To prevent multiple clicks.\n",
              "      quickchartButtonEl.classList.add('colab-df-spinner');\n",
              "      try {\n",
              "        const charts = await google.colab.kernel.invokeFunction(\n",
              "            'suggestCharts', [key], {});\n",
              "      } catch (error) {\n",
              "        console.error('Error during call to suggestCharts:', error);\n",
              "      }\n",
              "      quickchartButtonEl.classList.remove('colab-df-spinner');\n",
              "      quickchartButtonEl.classList.add('colab-df-quickchart-complete');\n",
              "    }\n",
              "    (() => {\n",
              "      let quickchartButtonEl =\n",
              "        document.querySelector('#df-c80f28a5-6826-4841-820f-fa65358ade99 button');\n",
              "      quickchartButtonEl.style.display =\n",
              "        google.colab.kernel.accessAllowed ? 'block' : 'none';\n",
              "    })();\n",
              "  </script>\n",
              "</div>\n",
              "\n",
              "    </div>\n",
              "  </div>\n"
            ],
            "application/vnd.google.colaboratory.intrinsic+json": {
              "type": "dataframe"
            }
          },
          "metadata": {},
          "execution_count": 93
        }
      ],
      "source": [
        "# Define a function to parse chemical formulas\n",
        "def count_atoms_of_type(formula):\n",
        "    \"\"\"\n",
        "    Count the number of atoms for each unique atom type in a chemical formula.\n",
        "\n",
        "    Parameters:\n",
        "    - formula (str): A chemical formula.\n",
        "    - unique_types (list): A list of unique atom types.\n",
        "\n",
        "    Returns:\n",
        "    - dict: A dictionary with atom types as keys and their counts in the formula.\n",
        "    \"\"\"\n",
        "\n",
        "    # Use regular expressions to extract atom type and count\n",
        "    pattern = r'([A-Z][a-z]*)(\\d*)'\n",
        "    matches = re.finditer(pattern, formula)\n",
        "\n",
        "    # Create a dictionary with unique atom types and initialize counts to 0\n",
        "    atom_counts = {atom_type: 0 for atom_type in unique_types}\n",
        "\n",
        "    for match in matches:\n",
        "        atom_type = match.group(1)\n",
        "        atom_count = int(match.group(2)) if match.group(2) else 1\n",
        "        if atom_type in atom_counts:\n",
        "            atom_counts[atom_type] += atom_count\n",
        "\n",
        "    return atom_counts\n",
        "\n",
        "# Apply the parsing function to each formula and expand it into columns\n",
        "atom_counts = clean_df['formula'].apply(count_atoms_of_type).apply(pd.Series)\n",
        "\n",
        "# Combine the original DataFrame with the atom counts\n",
        "df = pd.concat([clean_df, atom_counts], axis=1)\n",
        "\n",
        "df[:5]\n",
        "\n"
      ]
    },
    {
      "cell_type": "code",
      "execution_count": 94,
      "id": "1e3c7111-7d40-45fe-9fc0-46b82c934287",
      "metadata": {
        "id": "1e3c7111-7d40-45fe-9fc0-46b82c934287",
        "colab": {
          "base_uri": "https://localhost:8080/",
          "height": 527
        },
        "outputId": "37cf59c6-eb85-491b-c993-095e0ef449c4"
      },
      "outputs": [
        {
          "output_type": "stream",
          "name": "stdout",
          "text": [
            "Mean: 396.144178896032\n",
            "Median: 381.4530000000001\n",
            "Standard Deviation: 143.9127476794984\n"
          ]
        },
        {
          "output_type": "display_data",
          "data": {
            "text/plain": [
              "<Figure size 640x480 with 1 Axes>"
            ],
            "image/png": "[encoded data removed]"
          },
          "metadata": {}
        }
      ],
      "source": [
        "data = df.mol_weight\n",
        "max_value = df.mol_weight.max()\n",
        "step = 10\n",
        "bins = np.arange(0, max_value, max_value/step)\n",
        "\n",
        "mean = np.mean(data)\n",
        "median = np.median(data)\n",
        "std_dev = np.std(data)\n",
        "\n",
        "print(f\"Mean: {mean}\")\n",
        "print(f\"Median: {median}\")\n",
        "print(f\"Standard Deviation: {std_dev}\")\n",
        "\n",
        "plt.hist(data, bins=bins, color='skyblue', edgecolor='black', alpha=0.7)\n",
        "plt.xlabel('mol_weight Values')\n",
        "plt.ylabel('Number of molecules')\n",
        "plt.title('Histogram of mol_weight Values')\n",
        "plt.grid(axis='y', linestyle='--', alpha=0.6)\n",
        "plt.axvline(x=mean, color='red', linestyle='--', linewidth=1, label='Mean')\n",
        "plt.legend()\n",
        "\n",
        "plt.show()"
      ]
    },
    {
      "cell_type": "markdown",
      "id": "62bffd4f-acb8-487d-9256-098e87893007",
      "metadata": {
        "id": "62bffd4f-acb8-487d-9256-098e87893007"
      },
      "source": [
        "Exercice: can you draw the number of molecules in function of the number of C (histogram)?"
      ]
    },
    {
      "cell_type": "code",
      "execution_count": 94,
      "id": "c4ba1e7d-c267-465b-adb5-d7d703de7f45",
      "metadata": {
        "id": "c4ba1e7d-c267-465b-adb5-d7d703de7f45"
      },
      "outputs": [],
      "source": []
    },
    {
      "cell_type": "markdown",
      "id": "4ad5c4db-7225-4a3a-b89d-ab80f335d36f",
      "metadata": {
        "id": "4ad5c4db-7225-4a3a-b89d-ab80f335d36f"
      },
      "source": [
        "Exercice: can you draw the number of molecules in function of the number of H (histogram)?"
      ]
    },
    {
      "cell_type": "code",
      "execution_count": 94,
      "id": "2da55cd9-6368-47e3-b42a-29400c672886",
      "metadata": {
        "id": "2da55cd9-6368-47e3-b42a-29400c672886"
      },
      "outputs": [],
      "source": []
    },
    {
      "cell_type": "markdown",
      "id": "21d2e354-c6be-4df6-b41e-bb4633345484",
      "metadata": {
        "id": "21d2e354-c6be-4df6-b41e-bb4633345484"
      },
      "source": [
        "Drawings of H in function of C"
      ]
    },
    {
      "cell_type": "code",
      "execution_count": 95,
      "id": "e6968216-4fe9-46b1-baab-3bff2a0d137a",
      "metadata": {
        "id": "e6968216-4fe9-46b1-baab-3bff2a0d137a",
        "colab": {
          "base_uri": "https://localhost:8080/",
          "height": 472
        },
        "outputId": "0781dfff-2cb3-455e-fdb9-43f810f972e5"
      },
      "outputs": [
        {
          "output_type": "display_data",
          "data": {
            "text/plain": [
              "<Figure size 640x480 with 1 Axes>"
            ],
            "image/png": "[encoded data removed]"
          },
          "metadata": {}
        }
      ],
      "source": [
        "plt.scatter(df['C'], df['H'], color='skyblue', alpha=0.7)\n",
        "plt.xlabel('Number of C')\n",
        "plt.ylabel('Number of H')\n",
        "plt.title('Number of H in function of Number of C')\n",
        "plt.grid()\n",
        "plt.show()"
      ]
    },
    {
      "cell_type": "markdown",
      "id": "0a7ff265-9031-48be-a8d1-876e03ed9927",
      "metadata": {
        "id": "0a7ff265-9031-48be-a8d1-876e03ed9927"
      },
      "source": [
        "Exercice : Draw mol_weight in function of logp"
      ]
    },
    {
      "cell_type": "code",
      "execution_count": 95,
      "id": "c50d2fe8-f021-41d3-8c28-36656646d000",
      "metadata": {
        "id": "c50d2fe8-f021-41d3-8c28-36656646d000"
      },
      "outputs": [],
      "source": []
    }
  ],
  "metadata": {
    "kernelspec": {
      "display_name": "Python 3 (ipykernel)",
      "language": "python",
      "name": "python3"
    },
    "language_info": {
      "codemirror_mode": {
        "name": "ipython",
        "version": 3
      },
      "file_extension": ".py",
      "mimetype": "text/x-python",
      "name": "python",
      "nbconvert_exporter": "python",
      "pygments_lexer": "ipython3",
      "version": "3.10.12"
    },
    "colab": {
      "provenance": [],
      "include_colab_link": true
    }
  },
  "nbformat": 4,
  "nbformat_minor": 5
}